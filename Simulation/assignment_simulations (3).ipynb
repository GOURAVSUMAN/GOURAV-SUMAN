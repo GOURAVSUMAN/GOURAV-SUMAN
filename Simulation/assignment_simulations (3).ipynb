{
 "cells": [
  {
   "cell_type": "code",
   "execution_count": 59,
   "metadata": {},
   "outputs": [
    {
     "name": "stdout",
     "output_type": "stream",
     "text": [
      "[-1.0200638098681787, -1.002012427821806, -1.0002002234413108, -1.0000200037186273, -1.0000019997830762]\n",
      "[0.0019610812729418414, 6.0135881278936294e-05, 2.0041358409674984e-06, 6.098293242519864e-08, 1.98645440688114e-09]\n"
     ]
    }
   ],
   "source": [
    "#simulation on coin toss..\n",
    "\n",
    "#STEPS:-\n",
    "\n",
    "#1)Import different library.\n",
    "#2)Generating random outputs to simulate.\n",
    "#3)calculation of heads and tail and the ratio as per que.\n",
    "#4)Return to terminate and execute the work\n",
    "#5)Loop at the last to repeat the experiments for different nmbers of trials.\n",
    "#6)Calculation of mean and standard deviation.\n",
    "\n",
    "#Importing different library.\n",
    "import numpy as np\n",
    "from random import *\n",
    "import matplotlib.pyplot as plt\n",
    "\n",
    "#Coding starts from here.\n",
    "#Set seed to get same output all the time.\n",
    "np.random.seed(45)\n",
    "\n",
    "#The experiment is conducted within this function.\n",
    "def coin_toss(t,exp):\n",
    "    #random selection of o and 1's where one in refered as head and the other is tail.\n",
    "    a=np.random.randint(0,2,size=(exp*t))\n",
    "    res_h=a.reshape(exp,t).sum(axis=1)\n",
    "    #ratio calculation heads upon tail.\n",
    "    ratio=res_h/(1-res_h)\n",
    "    #with this return the function will be terminated.\n",
    "    return ratio\n",
    "\n",
    "#Two empty list is created to store the values that will be obtained while this process.\n",
    "mean=[]\n",
    "std=[]\n",
    "#This loop to execute the function different number of times.\n",
    "for _ in range(2,7):\n",
    "    cal=coin_toss(10**_,100)\n",
    "    mean.append(cal.mean())\n",
    "    std.append(cal.std())\n",
    "print(mean)\n",
    "print(std)"
   ]
  },
  {
   "cell_type": "code",
   "execution_count": 60,
   "metadata": {},
   "outputs": [
    {
     "data": {
      "text/plain": [
       "<matplotlib.collections.PathCollection at 0x208d1e3bb70>"
      ]
     },
     "execution_count": 60,
     "metadata": {},
     "output_type": "execute_result"
    },
    {
     "data": {
      "image/png": "[encoded data removed]",
      "text/plain": [
       "<Figure size 432x288 with 1 Axes>"
      ]
     },
     "metadata": {
      "needs_background": "light"
     },
     "output_type": "display_data"
    }
   ],
   "source": [
    "plt.scatter(mean, std, label='mean', s=20,color='k', marker=\"o\")\n",
    "plt.show()"
   ]
  },
  {
   "cell_type": "markdown",
   "metadata": {},
   "source": [
    "## 2. Dice"
   ]
  },
  {
   "cell_type": "markdown",
   "metadata": {},
   "source": [
    "Simulate the toss of two dice and take the sum. Do this for different number of tosses (10, 100, 1000, 10000, 100000) and plot the histograms for each of these experiments."
   ]
  },
  {
   "cell_type": "code",
   "execution_count": 72,
   "metadata": {},
   "outputs": [
    {
     "data": {
      "text/plain": [
       "(array([2., 0., 0., 2., 1., 0., 3., 1., 0., 0., 1.]),\n",
       " array([ 3.        ,  3.81818182,  4.63636364,  5.45454545,  6.27272727,\n",
       "         7.09090909,  7.90909091,  8.72727273,  9.54545455, 10.36363636,\n",
       "        11.18181818, 12.        ]),\n",
       " <a list of 11 Patch objects>)"
      ]
     },
     "execution_count": 72,
     "metadata": {},
     "output_type": "execute_result"
    },
    {
     "data": {
      "image/png": "[encoded data removed]",
      "text/plain": [
       "<Figure size 432x288 with 1 Axes>"
      ]
     },
     "metadata": {
      "needs_background": "light"
     },
     "output_type": "display_data"
    }
   ],
   "source": [
    "#SIMULATION ON 2 DICE\n",
    "\n",
    "#STEPS:-\n",
    "#1)Import different library.\n",
    "#2)Generating random outputs to simulate.\n",
    "#3)calculation of probability of occurance of values of the fair dice as per que.\n",
    "#4)Return to terminate and execute the work\n",
    "#5)Loop to repeat the experiments for different nmbers of trials.\n",
    "#6)Calculation of mean and standard deviation.\n",
    "\n",
    "#Importing different library.\n",
    "import numpy as np\n",
    "import pandas as pd\n",
    "from random import *\n",
    "import matplotlib.pyplot as plt\n",
    "\n",
    "#Coding starts from here.\n",
    "#Set seed to get same output all the time.\n",
    "np.random.seed(45)\n",
    "\n",
    "#Within this function the the entire calculation takes place.\n",
    "def two_dice_toss(n):\n",
    "    #Created list to append values obtained in the process.\n",
    "    sum2=[]\n",
    "    \n",
    "    #loop to repeat the process 100 times of each experiments.\n",
    "    for i in range(n):\n",
    "        #Random selection of values from two fair dice.\n",
    "        dice1=np.random.choice([1,2,3,4,5,6])\n",
    "        dice2=np.random.choice([1,2,3,4,5,6])\n",
    "        #Append the values after addind the random outputs.\n",
    "        sum2.append(dice1+dice2)\n",
    "\n",
    "    #Return the value and terminates the function.         \n",
    "    return sum2\n",
    "\n",
    "#Start inputing the values to repeat thr experiment for five different trials.\n",
    "get_sum = two_dice_toss(10)\n",
    "get_sum1 = two_dice_toss(100)\n",
    "get_sum2 = two_dice_toss(1000)\n",
    "get_sum3 = two_dice_toss(10000)\n",
    "get_sum4 = two_dice_toss(100000)\n",
    "#print('sum ',get_sum)\n",
    "#print('sum ',get_sum1)\n",
    "#print('sum ',get_sum2)\n",
    "#print('sum ',get_sum3)\n",
    "#print('sum ',get_sum4)\n",
    "\n",
    "#To print the histogram\n",
    "plt.hist(get_sum,bins=11)\n",
    "plt.show()"
   ]
  },
  {
   "cell_type": "code",
   "execution_count": 62,
   "metadata": {},
   "outputs": [
    {
     "data": {
      "text/plain": [
       "(array([ 36.,  54.,  81., 116., 131., 169., 141., 120.,  69.,  46.,  37.]),\n",
       " array([ 2.        ,  2.90909091,  3.81818182,  4.72727273,  5.63636364,\n",
       "         6.54545455,  7.45454545,  8.36363636,  9.27272727, 10.18181818,\n",
       "        11.09090909, 12.        ]),\n",
       " <a list of 11 Patch objects>)"
      ]
     },
     "execution_count": 62,
     "metadata": {},
     "output_type": "execute_result"
    },
    {
     "data": {
      "image/png": "[encoded data removed]",
      "text/plain": [
       "<Figure size 432x288 with 1 Axes>"
      ]
     },
     "metadata": {
      "needs_background": "light"
     },
     "output_type": "display_data"
    }
   ],
   "source": [
    "#To print the histogram\n",
    "plt.hist(get_sum2,bins=11)\n",
    "plt.show()"
   ]
  },
  {
   "cell_type": "code",
   "execution_count": 63,
   "metadata": {},
   "outputs": [
    {
     "data": {
      "text/plain": [
       "(array([ 4.,  3.,  8., 10., 11., 19., 20.,  7., 12.,  3.,  3.]),\n",
       " array([ 2.        ,  2.90909091,  3.81818182,  4.72727273,  5.63636364,\n",
       "         6.54545455,  7.45454545,  8.36363636,  9.27272727, 10.18181818,\n",
       "        11.09090909, 12.        ]),\n",
       " <a list of 11 Patch objects>)"
      ]
     },
     "execution_count": 63,
     "metadata": {},
     "output_type": "execute_result"
    },
    {
     "data": {
      "image/png": "[encoded data removed]",
      "text/plain": [
       "<Figure size 432x288 with 1 Axes>"
      ]
     },
     "metadata": {
      "needs_background": "light"
     },
     "output_type": "display_data"
    }
   ],
   "source": [
    "#To print the histogram\n",
    "plt.hist(get_sum1,bins=11)\n",
    "plt.show()"
   ]
  },
  {
   "cell_type": "code",
   "execution_count": 64,
   "metadata": {},
   "outputs": [
    {
     "data": {
      "text/plain": [
       "(array([ 275.,  578.,  845., 1125., 1353., 1690., 1335., 1124.,  848.,\n",
       "         557.,  270.]),\n",
       " array([ 2.        ,  2.90909091,  3.81818182,  4.72727273,  5.63636364,\n",
       "         6.54545455,  7.45454545,  8.36363636,  9.27272727, 10.18181818,\n",
       "        11.09090909, 12.        ]),\n",
       " <a list of 11 Patch objects>)"
      ]
     },
     "execution_count": 64,
     "metadata": {},
     "output_type": "execute_result"
    },
    {
     "data": {
      "image/png": "[encoded data removed]",
      "text/plain": [
       "<Figure size 432x288 with 1 Axes>"
      ]
     },
     "metadata": {
      "needs_background": "light"
     },
     "output_type": "display_data"
    }
   ],
   "source": [
    "#To print the histogram\n",
    "plt.hist(get_sum3,bins=11)\n",
    "plt.show()"
   ]
  },
  {
   "cell_type": "code",
   "execution_count": 65,
   "metadata": {},
   "outputs": [
    {
     "data": {
      "text/plain": [
       "(array([ 2885.,  5555.,  8302., 10994., 13883., 16629., 13982., 11028.,\n",
       "         8361.,  5635.,  2746.]),\n",
       " array([ 2.        ,  2.90909091,  3.81818182,  4.72727273,  5.63636364,\n",
       "         6.54545455,  7.45454545,  8.36363636,  9.27272727, 10.18181818,\n",
       "        11.09090909, 12.        ]),\n",
       " <a list of 11 Patch objects>)"
      ]
     },
     "execution_count": 65,
     "metadata": {},
     "output_type": "execute_result"
    },
    {
     "data": {
      "image/png": "[encoded data removed]",
      "text/plain": [
       "<Figure size 432x288 with 1 Axes>"
      ]
     },
     "metadata": {
      "needs_background": "light"
     },
     "output_type": "display_data"
    }
   ],
   "source": [
    "#To print the histogram\n",
    "plt.hist(get_sum4,bins=11)\n",
    "plt.show()"
   ]
  },
  {
   "cell_type": "markdown",
   "metadata": {},
   "source": [
    "## 3. Random Walks"
   ]
  },
  {
   "cell_type": "markdown",
   "metadata": {
    "collapsed": true
   },
   "source": [
    "Simulate Random Walks in 1D, 2D and 3D. Assume starting point is origin for each random walk. For each simulate 100 such random walks and calculate the total distance travelled (both Manhattan and Euclidean distances). Plot a histogram of the 100 random walks in each dimension. "
   ]
  },
  {
   "cell_type": "code",
   "execution_count": 57,
   "metadata": {},
   "outputs": [
    {
     "name": "stdout",
     "output_type": "stream",
     "text": [
      "[  0   2  -6   2   2  -6   2   0  -4   2   8  -2   0   0   2   0   0  -2\n",
      "   2   0  -6   0  -6   6  -4   2   0 -10   2  -2   0  -2   6   0  -2  -6\n",
      "   0   2  -2  -6  -4  -2   2   6   0   2   2   0   0   6   0   6   0  -2\n",
      "   2  -4  -4   2  -4   2  -2   4  -2   0   2   2   0  -4   4  -4   4   0\n",
      "   0   2  -4  -4   0  -4  -8   4   2   0   0   2  -6   0  -4   2   2   0\n",
      "   2  -6   4  -2   0   0  -2   2   4   0]\n"
     ]
    },
    {
     "data": {
      "image/png": "[encoded data removed]",
      "text/plain": [
       "<Figure size 432x288 with 1 Axes>"
      ]
     },
     "metadata": {
      "needs_background": "light"
     },
     "output_type": "display_data"
    }
   ],
   "source": [
    "#Random Walks in 1D plain.\n",
    "\n",
    "#STEPS:-\n",
    "\n",
    "#1)Import different library.\n",
    "#2)Generating random outputs to simulate.\n",
    "#3)calculation of deviaion from the origin while random walk.\n",
    "#4)Return to terminate and execute the work\n",
    "#5)Loop to repeat the experiments for different nmbers of trials.\n",
    "#6)Calculation of mean and standard deviation.\n",
    "\n",
    "#Importing different library.\n",
    "import numpy as np\n",
    "import pandas as pd\n",
    "from random import *\n",
    "import matplotlib.pyplot as plt\n",
    "\n",
    "#Coding starts from here.\n",
    "#Set seed to get same output all the time.\n",
    "np.random.seed(33)\n",
    "#In this function data is inputed and the actual process takes place.\n",
    "def RandomWalk(walk,simulation):\n",
    "    #Random walks is generated\n",
    "    a=np.random.randint(0,2,size=(walk,simulation))\n",
    "    #sum of columns are calculated.\n",
    "    sum_1=np.sum(a,axis=1)\n",
    "    sum_0=simulation-sum_1\n",
    "    #distance is calculated.\n",
    "    dist=sum_1-sum_0\n",
    "    #For trial i just printed the value and checked and further commented.\n",
    "    #print(sum_0)\n",
    "    #print(sum_1)\n",
    "    \n",
    "    #To print histogram using hist function..\n",
    "    plt.hist(dist,bins=35)\n",
    "    #Return the value and terminates the function.       \n",
    "    return dist\n",
    "\n",
    "#Inputing Data\n",
    "RW=RandomWalk(100,10)\n",
    "print(RW)"
   ]
  },
  {
   "cell_type": "code",
   "execution_count": 30,
   "metadata": {},
   "outputs": [
    {
     "data": {
      "image/png": "[encoded data removed]",
      "text/plain": [
       "<Figure size 432x288 with 1 Axes>"
      ]
     },
     "metadata": {
      "needs_background": "light"
     },
     "output_type": "display_data"
    }
   ],
   "source": [
    "#Random Walks in 2D plain.\n",
    "\n",
    "#STEPS:-\n",
    "\n",
    "#1)Import different library.\n",
    "#2)Generating random outputs to simulate.\n",
    "#3)calculation of deviaion from the origin while random walk.\n",
    "#4)Return to terminate and execute the work\n",
    "#5)Loop to repeat the experiments for different nmbers of trials.\n",
    "#6)Calculation of mean and standard deviation.\n",
    "\n",
    "#Importing different library.\n",
    "import numpy as np\n",
    "import pandas as pd\n",
    "from random import *\n",
    "import matplotlib.pyplot as plt\n",
    "\n",
    "#Coding starts from here.\n",
    "#Set seed to get same output all the time.\n",
    "np.random.seed(59)\n",
    "\n",
    "#Creating list of steps to be taken for walk in 2d plain.\n",
    "steps= np.array([[1,0],[-1,0],[0,1],[0,-1]])\n",
    "#Initilization of steps to be taken and number of walk each time.\n",
    "n_steps=1000\n",
    "n_walk=100\n",
    "#Randomly teking the steps.\n",
    "ar=np.random.randint(4,size=n_walk*n_steps)\n",
    "walks=np.split(steps[ar, : ],n_walk)\n",
    "#print(walks)\n",
    "#final distance traveled  \n",
    "destination=np.sum(walks,axis=1)\n",
    "#m1=Manhattan and e1=Euclidean\n",
    "m=np.abs(destination).sum(axis=1)\n",
    "e=np.sum(destination**2,axis=1)**.5\n",
    "\n",
    "#print(walks[1],destination[1],m[1],e[1])\n",
    "#To print histogram using hist function.\n",
    "plt.hist(m,bins=10)\n",
    "plt.show()"
   ]
  },
  {
   "cell_type": "code",
   "execution_count": 52,
   "metadata": {},
   "outputs": [
    {
     "data": {
      "image/png": "[encoded data removed]",
      "text/plain": [
       "<Figure size 432x288 with 1 Axes>"
      ]
     },
     "metadata": {
      "needs_background": "light"
     },
     "output_type": "display_data"
    }
   ],
   "source": [
    "plt.hist(e,bins=10)\n",
    "plt.show()"
   ]
  },
  {
   "cell_type": "code",
   "execution_count": 55,
   "metadata": {},
   "outputs": [
    {
     "name": "stdout",
     "output_type": "stream",
     "text": [
      "[[ 0  1  0]\n",
      " [ 1  0  0]\n",
      " [ 0 -1  0]\n",
      " ...\n",
      " [ 0  0 -1]\n",
      " [ 0  1  0]\n",
      " [-1  0  0]] [14 14  4] 44 31.906112267087632\n"
     ]
    },
    {
     "data": {
      "image/png": "[encoded data removed]",
      "text/plain": [
       "<Figure size 432x288 with 1 Axes>"
      ]
     },
     "metadata": {
      "needs_background": "light"
     },
     "output_type": "display_data"
    }
   ],
   "source": [
    "#3-D walk and distance calculation.\n",
    "\n",
    "#STEPS:-\n",
    "\n",
    "#1)Imported different library.\n",
    "#2)set steps to walk and number of walks.\n",
    "#3)Taking random trials to walk.\n",
    "#4)Calculation of distance from initial point to final destination.\n",
    "\n",
    "\n",
    "import numpy as np\n",
    "import pandas as pd\n",
    "from random import *\n",
    "import matplotlib.pyplot as plt\n",
    "\n",
    "#Coding starts from here.\n",
    "#Set seed to get same output all the time.\n",
    "np.random.seed(55)\n",
    "\n",
    "#Steps to be taken at an random.\n",
    "steps= np.array([[1,0,0],[0,1,0],[0,0,1],[-1,0,0],[0,-1,0],[0,0,-1]])\n",
    "#Initilization of steps to be taken and number of walk each time.\n",
    "n_steps=1000\n",
    "n_walk=100\n",
    "#Random trials.\n",
    "b=np.random.randint(6,size=n_walk*n_steps)\n",
    "walks=np.split(steps[b, : ],n_walk)\n",
    "destination=np.sum(walks,axis=1)\n",
    "#m1=Manhattan and e1=Euclidean\n",
    "m1=np.abs(destination).sum(axis=1)\n",
    "e1=np.sum(destination**2,axis=1)**.5\n",
    "\n",
    "print(walks[1],destination[1],m[1],e[1])\n",
    "#To print histogram using hist function.\n",
    "plt.hist(m1,bins=10)\n",
    "plt.show()   "
   ]
  },
  {
   "cell_type": "code",
   "execution_count": 48,
   "metadata": {},
   "outputs": [
    {
     "data": {
      "image/png": "[encoded data removed]",
      "text/plain": [
       "<Figure size 432x288 with 1 Axes>"
      ]
     },
     "metadata": {
      "needs_background": "light"
     },
     "output_type": "display_data"
    }
   ],
   "source": [
    "plt.hist(e1,bins=10)\n",
    "plt.show()"
   ]
  },
  {
   "cell_type": "markdown",
   "metadata": {},
   "source": [
    "## 4. Poker"
   ]
  },
  {
   "cell_type": "code",
   "execution_count": 29,
   "metadata": {},
   "outputs": [
    {
     "name": "stdout",
     "output_type": "stream",
     "text": [
      "[[0.004], [0.0]]\n"
     ]
    }
   ],
   "source": [
    "#Simulations to find the probability of each hand in Poker.\n",
    "\n",
    "#STEPS:-\n",
    "\n",
    "#1)Importing different library.\n",
    "#2)Set seed to get same output all the time.\n",
    "#3)Defination to execute the process.\n",
    "#4)Create the list of sample space from a deck of cards.\n",
    "#5)Define empty list to add the random values in list.\n",
    "#6)Define counter.\n",
    "#7)Loop to simulate the experiment.\n",
    "#8)Loop and if-else to keep a check for favourable outcome for pair and trio.\n",
    "#9)Calculate probability and append the values into the list and return the probability and finaly print the result.\n",
    "\n",
    "#Importing different library.\n",
    "import numpy as np\n",
    "from random import *\n",
    "import matplotlib.pyplot as plt\n",
    "\n",
    "#Coding starts from here.\n",
    "#Set seed to get same output all the time.\n",
    "np.random.seed(45)\n",
    "\n",
    "#The experiment is conducted within this function.\n",
    "def Play_poker():\n",
    "    #Number of card from 1 to 13 of different type where \"C\"=Club,\"D\"=Dimond,\"H\"=Heart,\"S\"=Spade.\n",
    "    #'a' is empty list to store random output.\n",
    "    a=[]\n",
    "    #'Prob' is probability of favourable outcome.\n",
    "    prob=[]\n",
    "    prob3=[]\n",
    "    #list of Sample space.\n",
    "    Sample_space=['1C','2C','3C','4C','5C','6C','7C','8C','9C','10C','11C','12C','13C'\n",
    "                  '1D','2D','3D','4D','5D','6D','7D','8D','9D','10D','11D','12D','13D'\n",
    "                  '1H','2H','3H','4H','5H','6H','7H','8H','9H','10H','11H','12H','13H'\n",
    "                  '1S','2S','3S','4S','5S','6S','7S','8S','9S','10S','11S','12S','13S']\n",
    "    #To keep the counter when there is favourable outcomes.\n",
    "    count=0\n",
    "    count3=0\n",
    "    #This loop will simulate the experiment for n number of time.\n",
    "    for z in range(100000):\n",
    "        for _ in range(5):\n",
    "            #random selection of number from 1 to 13 of different type\n",
    "            p=np.random.choice(Sample_space)\n",
    "            a.append(p)\n",
    "            #print(a)\n",
    "        l=len(a)\n",
    "        \n",
    "        #This is to keep a check for favourable outcome for pair.\n",
    "        for i in range(l):\n",
    "            for j in range(len(a)-1):\n",
    "                \n",
    "                #Check for favouravle occurance.\n",
    "                if a[i][0]==a[j+1][0]:\n",
    "                    count=count+1\n",
    "        #This is to keep a check for favourable outcome for three of same number.\n",
    "        for r in range(l):\n",
    "            for q in range(l-2):\n",
    "                \n",
    "                #Check for favouravle occurance.\n",
    "                if a[r][0]==a[q+1][0]==a[q+2][0]:\n",
    "                    count3=count3+1\n",
    "                \n",
    "        #Calculation of probability.        \n",
    "        res=count/100000\n",
    "        res3=count3/100000\n",
    "        #Adding the value in the list.\n",
    "        prob.append(res)\n",
    "        prob3.append(res3)\n",
    "        result=[prob,prob3]\n",
    "                        \n",
    "        #Return the value and terminates the function.       \n",
    "        return result\n",
    "\n",
    "\n",
    "cal=Play_poker()\n",
    "#Print the redsult.\n",
    "print(cal)   "
   ]
  },
  {
   "cell_type": "markdown",
   "metadata": {
    "collapsed": true
   },
   "source": [
    "Use simulations to find the probability of each hand in Poker. Assume a player is dealt 5 cards (no river). "
   ]
  },
  {
   "cell_type": "markdown",
   "metadata": {},
   "source": [
    "## 5. Buffon's Needle"
   ]
  },
  {
   "cell_type": "markdown",
   "metadata": {
    "collapsed": true
   },
   "source": [
    "Estimate the value of pi by randomly creating points in a square of side 2. Inscribed in the square is a circle of radius 1. The value of pi can be estimated to be 4 * # points in circle / # total points. Estimate the value of pi with different numbers of points and plot the error for the different number of points used. Keep increasing the number of points till the error is less than 0.0001 consistently. "
   ]
  },
  {
   "cell_type": "code",
   "execution_count": 42,
   "metadata": {},
   "outputs": [
    {
     "name": "stdout",
     "output_type": "stream",
     "text": [
      "[100, 200, 300, 400, 500, 600, 700, 800, 900, 1000]\n",
      "[2.92, 3.24, 3.1733333333333333, 3.03, 3.368, 3.24, 3.0171428571428573, 3.275, 3.097777777777778, 3.192]\n"
     ]
    },
    {
     "data": {
      "text/plain": [
       "<matplotlib.collections.PathCollection at 0x208d18c9a58>"
      ]
     },
     "execution_count": 42,
     "metadata": {},
     "output_type": "execute_result"
    },
    {
     "data": {
      "image/png": "[encoded data removed]",
      "text/plain": [
       "<Figure size 432x288 with 1 Axes>"
      ]
     },
     "metadata": {
      "needs_background": "light"
     },
     "output_type": "display_data"
    }
   ],
   "source": [
    "#Buffon's Needle\n",
    "\n",
    "#STEPS:\n",
    "\n",
    "#1)Imported different library.\n",
    "#2)set steps to semulate Buffon_needle.\n",
    "#3)Taking random trials.\n",
    "#4)Calculation of distance from initial point to final destination.\n",
    "\n",
    "#Importing different library\n",
    "import numpy as np\n",
    "from random import *\n",
    "\n",
    "#Coding starts from here.\n",
    "#Set seed to get same output all the time.\n",
    "np.random.seed(12)\n",
    "\n",
    "#In this defination all the calculation will be performed.\n",
    "def Buffon_needle(numbers_points=100):\n",
    "    \n",
    "    p=np.random.uniform(-1,1,size=(numbers_points,2))\n",
    "    #print(p)\n",
    "    dist=np.sum(p**2,axis=1)**.5\n",
    "    #print(dist)\n",
    "    in_circle=len(dist[dist<=1])\n",
    "    res=4*in_circle/numbers_points\n",
    "    return res\n",
    "\n",
    "#Two list to store variables.\n",
    "trials=[]\n",
    "outcomes=[]\n",
    "#This will help to generate 10 such experiment to generate output.\n",
    "for _ in range(10,110,10):\n",
    "    BF=Buffon_needle(_*10)\n",
    "    trials.append(_*10)\n",
    "    outcomes.append(BF)                      \n",
    "print(trials)\n",
    "print(outcomes)\n",
    "\n",
    "#Command to print scatter plot,s is size of point mark.\n",
    "plt.scatter(trials,outcomes, label='variation due to change in no of trials', s=20,color='k', marker=\"o\")\n",
    "\n",
    "'''As per the question the acceptable answer should be around 3.142 so, as per the output i am getting is some what around 3.173\n",
    "which is found when the number of trial made for 300 times'''\n"
   ]
  }
 ],
 "metadata": {
  "kernelspec": {
   "display_name": "Python 3",
   "language": "python",
   "name": "python3"
  },
  "language_info": {
   "codemirror_mode": {
    "name": "ipython",
    "version": 3
   },
   "file_extension": ".py",
   "mimetype": "text/x-python",
   "name": "python",
   "nbconvert_exporter": "python",
   "pygments_lexer": "ipython3",
   "version": "3.6.9"
  }
 },
 "nbformat": 4,
 "nbformat_minor": 1
}
