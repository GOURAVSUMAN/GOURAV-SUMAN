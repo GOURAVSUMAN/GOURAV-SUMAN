{
 "cells": [
  {
   "cell_type": "markdown",
   "metadata": {},
   "source": [
    "# INSAID Hiring Exercise"
   ]
  },
  {
   "cell_type": "markdown",
   "metadata": {},
   "source": [
    "## Important: Kindly go through the instructions mentioned below.\n",
    "\n",
    "- The Sheet is structured in **4 steps**:\n",
    "    1. Understanding data and manipulation\n",
    "    2. Data visualization\n",
    "    3. Implementing Machine Learning models(Note: It should be more than 1 algorithm)\n",
    "    4. Model Evaluation and concluding with the best of the model.\n",
    "    \n",
    "    \n",
    "    \n",
    "\n",
    "- Try to break the codes in the **simplest form** and use number of code block with **proper comments** to them\n",
    "- We are providing **h** different dataset to choose from(Note: You need to select any one of the dataset from this sample sheet only)\n",
    "- The **interview calls** will be made solely based on how good you apply the **concepts**.\n",
    "- Good Luck! Happy Coding!"
   ]
  },
  {
   "cell_type": "markdown",
   "metadata": {},
   "source": [
    "### Importing the data"
   ]
  },
  {
   "cell_type": "code",
   "execution_count": 1,
   "metadata": {},
   "outputs": [],
   "source": [
    "# use these links to do so:\n",
    "import pandas as pd\n",
    "df = pd.read_csv(\"./Churn.csv\")"
   ]
  },
  {
   "cell_type": "code",
   "execution_count": 2,
   "metadata": {},
   "outputs": [
    {
     "data": {
      "text/html": [
       "<div>\n",
       "<style scoped>\n",
       "    .dataframe tbody tr th:only-of-type {\n",
       "        vertical-align: middle;\n",
       "    }\n",
       "\n",
       "    .dataframe tbody tr th {\n",
       "        vertical-align: top;\n",
       "    }\n",
       "\n",
       "    .dataframe thead th {\n",
       "        text-align: right;\n",
       "    }\n",
       "</style>\n",
       "<table border=\"1\" class=\"dataframe\">\n",
       "  <thead>\n",
       "    <tr style=\"text-align: right;\">\n",
       "      <th></th>\n",
       "      <th>customerID</th>\n",
       "      <th>gender</th>\n",
       "      <th>SeniorCitizen</th>\n",
       "      <th>Partner</th>\n",
       "      <th>Dependents</th>\n",
       "      <th>tenure</th>\n",
       "      <th>PhoneService</th>\n",
       "      <th>MultipleLines</th>\n",
       "      <th>InternetService</th>\n",
       "      <th>OnlineSecurity</th>\n",
       "      <th>...</th>\n",
       "      <th>DeviceProtection</th>\n",
       "      <th>TechSupport</th>\n",
       "      <th>StreamingTV</th>\n",
       "      <th>StreamingMovies</th>\n",
       "      <th>Contract</th>\n",
       "      <th>PaperlessBilling</th>\n",
       "      <th>PaymentMethod</th>\n",
       "      <th>MonthlyCharges</th>\n",
       "      <th>TotalCharges</th>\n",
       "      <th>Churn</th>\n",
       "    </tr>\n",
       "  </thead>\n",
       "  <tbody>\n",
       "    <tr>\n",
       "      <th>0</th>\n",
       "      <td>7590-VHVEG</td>\n",
       "      <td>Female</td>\n",
       "      <td>0</td>\n",
       "      <td>Yes</td>\n",
       "      <td>No</td>\n",
       "      <td>1</td>\n",
       "      <td>No</td>\n",
       "      <td>No phone service</td>\n",
       "      <td>DSL</td>\n",
       "      <td>No</td>\n",
       "      <td>...</td>\n",
       "      <td>No</td>\n",
       "      <td>No</td>\n",
       "      <td>No</td>\n",
       "      <td>No</td>\n",
       "      <td>Month-to-month</td>\n",
       "      <td>Yes</td>\n",
       "      <td>Electronic check</td>\n",
       "      <td>29.85</td>\n",
       "      <td>29.85</td>\n",
       "      <td>No</td>\n",
       "    </tr>\n",
       "    <tr>\n",
       "      <th>1</th>\n",
       "      <td>5575-GNVDE</td>\n",
       "      <td>Male</td>\n",
       "      <td>0</td>\n",
       "      <td>No</td>\n",
       "      <td>No</td>\n",
       "      <td>34</td>\n",
       "      <td>Yes</td>\n",
       "      <td>No</td>\n",
       "      <td>DSL</td>\n",
       "      <td>Yes</td>\n",
       "      <td>...</td>\n",
       "      <td>Yes</td>\n",
       "      <td>No</td>\n",
       "      <td>No</td>\n",
       "      <td>No</td>\n",
       "      <td>One year</td>\n",
       "      <td>No</td>\n",
       "      <td>Mailed check</td>\n",
       "      <td>56.95</td>\n",
       "      <td>1889.5</td>\n",
       "      <td>No</td>\n",
       "    </tr>\n",
       "    <tr>\n",
       "      <th>2</th>\n",
       "      <td>3668-QPYBK</td>\n",
       "      <td>Male</td>\n",
       "      <td>0</td>\n",
       "      <td>No</td>\n",
       "      <td>No</td>\n",
       "      <td>2</td>\n",
       "      <td>Yes</td>\n",
       "      <td>No</td>\n",
       "      <td>DSL</td>\n",
       "      <td>Yes</td>\n",
       "      <td>...</td>\n",
       "      <td>No</td>\n",
       "      <td>No</td>\n",
       "      <td>No</td>\n",
       "      <td>No</td>\n",
       "      <td>Month-to-month</td>\n",
       "      <td>Yes</td>\n",
       "      <td>Mailed check</td>\n",
       "      <td>53.85</td>\n",
       "      <td>108.15</td>\n",
       "      <td>Yes</td>\n",
       "    </tr>\n",
       "    <tr>\n",
       "      <th>3</th>\n",
       "      <td>7795-CFOCW</td>\n",
       "      <td>Male</td>\n",
       "      <td>0</td>\n",
       "      <td>No</td>\n",
       "      <td>No</td>\n",
       "      <td>45</td>\n",
       "      <td>No</td>\n",
       "      <td>No phone service</td>\n",
       "      <td>DSL</td>\n",
       "      <td>Yes</td>\n",
       "      <td>...</td>\n",
       "      <td>Yes</td>\n",
       "      <td>Yes</td>\n",
       "      <td>No</td>\n",
       "      <td>No</td>\n",
       "      <td>One year</td>\n",
       "      <td>No</td>\n",
       "      <td>Bank transfer (automatic)</td>\n",
       "      <td>42.30</td>\n",
       "      <td>1840.75</td>\n",
       "      <td>No</td>\n",
       "    </tr>\n",
       "    <tr>\n",
       "      <th>4</th>\n",
       "      <td>9237-HQITU</td>\n",
       "      <td>Female</td>\n",
       "      <td>0</td>\n",
       "      <td>No</td>\n",
       "      <td>No</td>\n",
       "      <td>2</td>\n",
       "      <td>Yes</td>\n",
       "      <td>No</td>\n",
       "      <td>Fiber optic</td>\n",
       "      <td>No</td>\n",
       "      <td>...</td>\n",
       "      <td>No</td>\n",
       "      <td>No</td>\n",
       "      <td>No</td>\n",
       "      <td>No</td>\n",
       "      <td>Month-to-month</td>\n",
       "      <td>Yes</td>\n",
       "      <td>Electronic check</td>\n",
       "      <td>70.70</td>\n",
       "      <td>151.65</td>\n",
       "      <td>Yes</td>\n",
       "    </tr>\n",
       "  </tbody>\n",
       "</table>\n",
       "<p>5 rows × 21 columns</p>\n",
       "</div>"
      ],
      "text/plain": [
       "   customerID  gender  SeniorCitizen Partner Dependents  tenure PhoneService  \\\n",
       "0  7590-VHVEG  Female              0     Yes         No       1           No   \n",
       "1  5575-GNVDE    Male              0      No         No      34          Yes   \n",
       "2  3668-QPYBK    Male              0      No         No       2          Yes   \n",
       "3  7795-CFOCW    Male              0      No         No      45           No   \n",
       "4  9237-HQITU  Female              0      No         No       2          Yes   \n",
       "\n",
       "      MultipleLines InternetService OnlineSecurity  ... DeviceProtection  \\\n",
       "0  No phone service             DSL             No  ...               No   \n",
       "1                No             DSL            Yes  ...              Yes   \n",
       "2                No             DSL            Yes  ...               No   \n",
       "3  No phone service             DSL            Yes  ...              Yes   \n",
       "4                No     Fiber optic             No  ...               No   \n",
       "\n",
       "  TechSupport StreamingTV StreamingMovies        Contract PaperlessBilling  \\\n",
       "0          No          No              No  Month-to-month              Yes   \n",
       "1          No          No              No        One year               No   \n",
       "2          No          No              No  Month-to-month              Yes   \n",
       "3         Yes          No              No        One year               No   \n",
       "4          No          No              No  Month-to-month              Yes   \n",
       "\n",
       "               PaymentMethod MonthlyCharges  TotalCharges Churn  \n",
       "0           Electronic check          29.85         29.85    No  \n",
       "1               Mailed check          56.95        1889.5    No  \n",
       "2               Mailed check          53.85        108.15   Yes  \n",
       "3  Bank transfer (automatic)          42.30       1840.75    No  \n",
       "4           Electronic check          70.70        151.65   Yes  \n",
       "\n",
       "[5 rows x 21 columns]"
      ]
     },
     "execution_count": 2,
     "metadata": {},
     "output_type": "execute_result"
    }
   ],
   "source": [
    "df.head()"
   ]
  },
  {
   "cell_type": "markdown",
   "metadata": {},
   "source": [
    "### Understanding the data"
   ]
  },
  {
   "cell_type": "code",
   "execution_count": 3,
   "metadata": {},
   "outputs": [
    {
     "data": {
      "text/plain": [
       "(7043, 21)"
      ]
     },
     "execution_count": 3,
     "metadata": {},
     "output_type": "execute_result"
    }
   ],
   "source": [
    "#To check the shape of the data frame.\n",
    "df.shape"
   ]
  },
  {
   "cell_type": "code",
   "execution_count": 4,
   "metadata": {},
   "outputs": [
    {
     "name": "stdout",
     "output_type": "stream",
     "text": [
      "<class 'pandas.core.frame.DataFrame'>\n",
      "RangeIndex: 7043 entries, 0 to 7042\n",
      "Data columns (total 21 columns):\n",
      "customerID          7043 non-null object\n",
      "gender              7043 non-null object\n",
      "SeniorCitizen       7043 non-null int64\n",
      "Partner             7043 non-null object\n",
      "Dependents          7043 non-null object\n",
      "tenure              7043 non-null int64\n",
      "PhoneService        7043 non-null object\n",
      "MultipleLines       7043 non-null object\n",
      "InternetService     7043 non-null object\n",
      "OnlineSecurity      7043 non-null object\n",
      "OnlineBackup        7043 non-null object\n",
      "DeviceProtection    7043 non-null object\n",
      "TechSupport         7043 non-null object\n",
      "StreamingTV         7043 non-null object\n",
      "StreamingMovies     7043 non-null object\n",
      "Contract            7043 non-null object\n",
      "PaperlessBilling    7043 non-null object\n",
      "PaymentMethod       7043 non-null object\n",
      "MonthlyCharges      7043 non-null float64\n",
      "TotalCharges        7043 non-null object\n",
      "Churn               7043 non-null object\n",
      "dtypes: float64(1), int64(2), object(18)\n",
      "memory usage: 1.1+ MB\n"
     ]
    }
   ],
   "source": [
    "df.info()"
   ]
  },
  {
   "cell_type": "code",
   "execution_count": 5,
   "metadata": {},
   "outputs": [
    {
     "data": {
      "text/html": [
       "<div>\n",
       "<style scoped>\n",
       "    .dataframe tbody tr th:only-of-type {\n",
       "        vertical-align: middle;\n",
       "    }\n",
       "\n",
       "    .dataframe tbody tr th {\n",
       "        vertical-align: top;\n",
       "    }\n",
       "\n",
       "    .dataframe thead th {\n",
       "        text-align: right;\n",
       "    }\n",
       "</style>\n",
       "<table border=\"1\" class=\"dataframe\">\n",
       "  <thead>\n",
       "    <tr style=\"text-align: right;\">\n",
       "      <th></th>\n",
       "      <th>SeniorCitizen</th>\n",
       "      <th>tenure</th>\n",
       "      <th>MonthlyCharges</th>\n",
       "    </tr>\n",
       "  </thead>\n",
       "  <tbody>\n",
       "    <tr>\n",
       "      <th>count</th>\n",
       "      <td>7043.000000</td>\n",
       "      <td>7043.000000</td>\n",
       "      <td>7043.000000</td>\n",
       "    </tr>\n",
       "    <tr>\n",
       "      <th>mean</th>\n",
       "      <td>0.162147</td>\n",
       "      <td>32.371149</td>\n",
       "      <td>64.761692</td>\n",
       "    </tr>\n",
       "    <tr>\n",
       "      <th>std</th>\n",
       "      <td>0.368612</td>\n",
       "      <td>24.559481</td>\n",
       "      <td>30.090047</td>\n",
       "    </tr>\n",
       "    <tr>\n",
       "      <th>min</th>\n",
       "      <td>0.000000</td>\n",
       "      <td>0.000000</td>\n",
       "      <td>18.250000</td>\n",
       "    </tr>\n",
       "    <tr>\n",
       "      <th>25%</th>\n",
       "      <td>0.000000</td>\n",
       "      <td>9.000000</td>\n",
       "      <td>35.500000</td>\n",
       "    </tr>\n",
       "    <tr>\n",
       "      <th>50%</th>\n",
       "      <td>0.000000</td>\n",
       "      <td>29.000000</td>\n",
       "      <td>70.350000</td>\n",
       "    </tr>\n",
       "    <tr>\n",
       "      <th>75%</th>\n",
       "      <td>0.000000</td>\n",
       "      <td>55.000000</td>\n",
       "      <td>89.850000</td>\n",
       "    </tr>\n",
       "    <tr>\n",
       "      <th>max</th>\n",
       "      <td>1.000000</td>\n",
       "      <td>72.000000</td>\n",
       "      <td>118.750000</td>\n",
       "    </tr>\n",
       "  </tbody>\n",
       "</table>\n",
       "</div>"
      ],
      "text/plain": [
       "       SeniorCitizen       tenure  MonthlyCharges\n",
       "count    7043.000000  7043.000000     7043.000000\n",
       "mean        0.162147    32.371149       64.761692\n",
       "std         0.368612    24.559481       30.090047\n",
       "min         0.000000     0.000000       18.250000\n",
       "25%         0.000000     9.000000       35.500000\n",
       "50%         0.000000    29.000000       70.350000\n",
       "75%         0.000000    55.000000       89.850000\n",
       "max         1.000000    72.000000      118.750000"
      ]
     },
     "execution_count": 5,
     "metadata": {},
     "output_type": "execute_result"
    }
   ],
   "source": [
    "df.describe()"
   ]
  },
  {
   "cell_type": "code",
   "execution_count": 6,
   "metadata": {},
   "outputs": [
    {
     "data": {
      "text/plain": [
       "customerID          7043\n",
       "gender              7043\n",
       "SeniorCitizen       7043\n",
       "Partner             7043\n",
       "Dependents          7043\n",
       "tenure              7043\n",
       "PhoneService        7043\n",
       "MultipleLines       7043\n",
       "InternetService     7043\n",
       "OnlineSecurity      7043\n",
       "OnlineBackup        7043\n",
       "DeviceProtection    7043\n",
       "TechSupport         7043\n",
       "StreamingTV         7043\n",
       "StreamingMovies     7043\n",
       "Contract            7043\n",
       "PaperlessBilling    7043\n",
       "PaymentMethod       7043\n",
       "MonthlyCharges      7043\n",
       "TotalCharges        7043\n",
       "Churn               7043\n",
       "dtype: int64"
      ]
     },
     "execution_count": 6,
     "metadata": {},
     "output_type": "execute_result"
    }
   ],
   "source": [
    "df.isna().count()"
   ]
  },
  {
   "cell_type": "markdown",
   "metadata": {},
   "source": [
    "### Data Manipulation"
   ]
  },
  {
   "cell_type": "code",
   "execution_count": 7,
   "metadata": {},
   "outputs": [],
   "source": [
    "#Seperating the prediction feature from predicting features. So that data concation become easy and can handle the data easly.\n",
    "df1 = df[:-1]"
   ]
  },
  {
   "cell_type": "code",
   "execution_count": 8,
   "metadata": {},
   "outputs": [],
   "source": [
    "#Droping the features with seems irrilevant.\n",
    "df1 = df1.drop(['PaymentMethod', 'PaperlessBilling','customerID','TotalCharges'], axis=1)"
   ]
  },
  {
   "cell_type": "code",
   "execution_count": 9,
   "metadata": {},
   "outputs": [
    {
     "data": {
      "text/plain": [
       "array([0, 1], dtype=int64)"
      ]
     },
     "execution_count": 9,
     "metadata": {},
     "output_type": "execute_result"
    }
   ],
   "source": [
    "#Using Label encoder to do one hot encoding. \n",
    "#Encoding different features as per requirement.\n",
    "from sklearn import preprocessing \n",
    "label_encoder = preprocessing.LabelEncoder() \n",
    "df1['gender']= label_encoder.fit_transform(df1['gender']) \n",
    "  \n",
    "df1['gender'].unique()"
   ]
  },
  {
   "cell_type": "code",
   "execution_count": 10,
   "metadata": {},
   "outputs": [
    {
     "data": {
      "text/plain": [
       "array([1, 0], dtype=int64)"
      ]
     },
     "execution_count": 10,
     "metadata": {},
     "output_type": "execute_result"
    }
   ],
   "source": [
    "df1['Partner']= label_encoder.fit_transform(df1['Partner']) \n",
    "  \n",
    "df1['Partner'].unique()"
   ]
  },
  {
   "cell_type": "code",
   "execution_count": 11,
   "metadata": {},
   "outputs": [
    {
     "data": {
      "text/plain": [
       "array([0, 1], dtype=int64)"
      ]
     },
     "execution_count": 11,
     "metadata": {},
     "output_type": "execute_result"
    }
   ],
   "source": [
    "df1['Dependents']= label_encoder.fit_transform(df1['Dependents']) \n",
    "  \n",
    "df1['Dependents'].unique()"
   ]
  },
  {
   "cell_type": "code",
   "execution_count": 12,
   "metadata": {},
   "outputs": [
    {
     "data": {
      "text/plain": [
       "array([0, 1], dtype=int64)"
      ]
     },
     "execution_count": 12,
     "metadata": {},
     "output_type": "execute_result"
    }
   ],
   "source": [
    "df1['PhoneService']= label_encoder.fit_transform(df1['PhoneService']) \n",
    "  \n",
    "df1['PhoneService'].unique()"
   ]
  },
  {
   "cell_type": "code",
   "execution_count": 13,
   "metadata": {},
   "outputs": [
    {
     "data": {
      "text/plain": [
       "array(['No', 'Yes', 'No internet service'], dtype=object)"
      ]
     },
     "execution_count": 13,
     "metadata": {},
     "output_type": "execute_result"
    }
   ],
   "source": [
    "df1['TechSupport']= label_encoder.fit_transform(df1['TechSupport']) \n",
    "  \n",
    "df['TechSupport'].unique()"
   ]
  },
  {
   "cell_type": "code",
   "execution_count": 14,
   "metadata": {},
   "outputs": [
    {
     "data": {
      "text/plain": [
       "array([0, 1], dtype=int64)"
      ]
     },
     "execution_count": 14,
     "metadata": {},
     "output_type": "execute_result"
    }
   ],
   "source": [
    "#One hot encoding for prediction feature.\n",
    "df['Churn']= label_encoder.fit_transform(df['Churn']) \n",
    "  \n",
    "df['Churn'].unique()"
   ]
  },
  {
   "cell_type": "code",
   "execution_count": 15,
   "metadata": {},
   "outputs": [],
   "source": [
    "#One hot encoded  prediction feature.\n",
    "churn =df.iloc[:,-1]\n",
    "#churn"
   ]
  },
  {
   "cell_type": "code",
   "execution_count": 16,
   "metadata": {},
   "outputs": [],
   "source": [
    "#df1"
   ]
  },
  {
   "cell_type": "code",
   "execution_count": 17,
   "metadata": {},
   "outputs": [],
   "source": [
    "#One hot encoding as per the requirement and modefying as per requirements.\n",
    "d5=df1[\"MultipleLines\"]\n",
    "list5=[]\n",
    "for i in d5:\n",
    "    #print(i)\n",
    "    if i == \"Yes\":\n",
    "        list5.append(1)\n",
    "    else:\n",
    "        list5.append(0)\n",
    "MultipleLines=pd.Series(list5)\n",
    "df1[\"MultipleLines\"]=MultipleLines"
   ]
  },
  {
   "cell_type": "code",
   "execution_count": 18,
   "metadata": {},
   "outputs": [],
   "source": [
    "#One hot encoding as per the requirement and modefying as per requirements.\n",
    "d7=df1[\"OnlineSecurity\"]\n",
    "list7=[]\n",
    "for i in d7:\n",
    "    #print(i)\n",
    "    if i == \"Yes\":\n",
    "        list7.append(1)\n",
    "    else:\n",
    "        list7.append(0)\n",
    "OnlineSecurity=pd.Series(list7)\n",
    "df1[\"OnlineSecurity\"]=OnlineSecurity"
   ]
  },
  {
   "cell_type": "code",
   "execution_count": 19,
   "metadata": {},
   "outputs": [],
   "source": [
    "#One hot encoding as per the requirement and modefying as per requirements.\n",
    "d8=df1[\"OnlineBackup\"]\n",
    "list8=[]\n",
    "for i in d8:\n",
    "    #print(i)\n",
    "    if i == \"Yes\":\n",
    "        list8.append(1)\n",
    "    else:\n",
    "        list8.append(0)\n",
    "OnlineBackup=pd.Series(list8)\n",
    "df1[\"OnlineBackup\"]=OnlineBackup"
   ]
  },
  {
   "cell_type": "code",
   "execution_count": 20,
   "metadata": {},
   "outputs": [],
   "source": [
    "#One hot encoding as per the requirement and modefying as per requirements.\n",
    "d9=df1[\"DeviceProtection\"]\n",
    "list9=[]\n",
    "for i in d9:\n",
    "    #print(i)\n",
    "    if i == \"Yes\":\n",
    "        list9.append(1)\n",
    "    else:\n",
    "        list9.append(0)\n",
    "DeviceProtection=pd.Series(list9)\n",
    "df1[\"DeviceProtection\"]=DeviceProtection"
   ]
  },
  {
   "cell_type": "code",
   "execution_count": 21,
   "metadata": {},
   "outputs": [],
   "source": [
    "#One hot encoding as per the requirement and modefying as per requirements.\n",
    "d12=df1[\"TechSupport\"]\n",
    "list12=[]\n",
    "for i in d12:\n",
    "    #print(i)\n",
    "    if i == \"Yes\":\n",
    "        list12.append(1)\n",
    "    else:\n",
    "        list12.append(0)\n",
    "TechSupport=pd.Series(list12)\n",
    "df1[\"TechSupport\"]=TechSupport"
   ]
  },
  {
   "cell_type": "code",
   "execution_count": 22,
   "metadata": {},
   "outputs": [],
   "source": [
    "#One hot encoding as per the requirement and modefying as per requirements.\n",
    "d13=df1[\"StreamingTV\"]\n",
    "list13=[]\n",
    "for i in d13:\n",
    "    #print(i)\n",
    "    if i == \"Yes\":\n",
    "        list13.append(1)\n",
    "    else:\n",
    "        list13.append(0)\n",
    "StreamingTV=pd.Series(list13)\n",
    "df1[\"StreamingTV\"]=StreamingTV"
   ]
  },
  {
   "cell_type": "code",
   "execution_count": 23,
   "metadata": {},
   "outputs": [],
   "source": [
    "#One hot encoding as per the requirement and modefying as per requirements.\n",
    "d14=df1[\"StreamingMovies\"]\n",
    "list14=[]\n",
    "for i in d14:\n",
    "    #print(i)\n",
    "    if i == \"Yes\":\n",
    "        list14.append(1)\n",
    "    else:\n",
    "        list14.append(0)\n",
    "StreamingMovies=pd.Series(list14)\n",
    "df1[\"StreamingMovies\"]=StreamingMovies"
   ]
  },
  {
   "cell_type": "code",
   "execution_count": 24,
   "metadata": {},
   "outputs": [],
   "source": [
    "##One hot encoding as per the requirement and modefying as per requirements.\n",
    "df_InternetService=df1.InternetService.str.get_dummies(',')"
   ]
  },
  {
   "cell_type": "code",
   "execution_count": 25,
   "metadata": {},
   "outputs": [],
   "source": [
    "#One hot encoding as per the requirement and modefying as per requirements.\n",
    "df_Contract=df1.Contract.str.get_dummies(',')"
   ]
  },
  {
   "cell_type": "code",
   "execution_count": 41,
   "metadata": {},
   "outputs": [],
   "source": [
    "# droping raw columns.\n",
    "df1 = df1.drop(['InternetService', 'Contract','Churn'], axis=1)"
   ]
  },
  {
   "cell_type": "code",
   "execution_count": 148,
   "metadata": {},
   "outputs": [],
   "source": [
    "#df1"
   ]
  },
  {
   "cell_type": "code",
   "execution_count": 43,
   "metadata": {},
   "outputs": [],
   "source": [
    "#Concatation of dataset.\n",
    "df3 = pd.concat([df1, df_InternetService,churn],axis=1, sort=False)"
   ]
  },
  {
   "cell_type": "code",
   "execution_count": 47,
   "metadata": {},
   "outputs": [
    {
     "data": {
      "text/plain": [
       "(7043, 18)"
      ]
     },
     "execution_count": 47,
     "metadata": {},
     "output_type": "execute_result"
    }
   ],
   "source": [
    "df3.shape"
   ]
  },
  {
   "cell_type": "code",
   "execution_count": 48,
   "metadata": {},
   "outputs": [],
   "source": [
    "#df3"
   ]
  },
  {
   "cell_type": "code",
   "execution_count": 49,
   "metadata": {},
   "outputs": [
    {
     "data": {
      "text/html": [
       "<div>\n",
       "<style scoped>\n",
       "    .dataframe tbody tr th:only-of-type {\n",
       "        vertical-align: middle;\n",
       "    }\n",
       "\n",
       "    .dataframe tbody tr th {\n",
       "        vertical-align: top;\n",
       "    }\n",
       "\n",
       "    .dataframe thead th {\n",
       "        text-align: right;\n",
       "    }\n",
       "</style>\n",
       "<table border=\"1\" class=\"dataframe\">\n",
       "  <thead>\n",
       "    <tr style=\"text-align: right;\">\n",
       "      <th></th>\n",
       "      <th>gender</th>\n",
       "      <th>SeniorCitizen</th>\n",
       "      <th>Partner</th>\n",
       "      <th>Dependents</th>\n",
       "      <th>tenure</th>\n",
       "      <th>PhoneService</th>\n",
       "      <th>MultipleLines</th>\n",
       "      <th>OnlineSecurity</th>\n",
       "      <th>OnlineBackup</th>\n",
       "      <th>DeviceProtection</th>\n",
       "      <th>TechSupport</th>\n",
       "      <th>StreamingTV</th>\n",
       "      <th>StreamingMovies</th>\n",
       "      <th>MonthlyCharges</th>\n",
       "      <th>DSL</th>\n",
       "      <th>Fiber optic</th>\n",
       "      <th>No</th>\n",
       "      <th>Churn</th>\n",
       "    </tr>\n",
       "  </thead>\n",
       "  <tbody>\n",
       "    <tr>\n",
       "      <th>gender</th>\n",
       "      <td>1.000000</td>\n",
       "      <td>-0.001812</td>\n",
       "      <td>-0.001672</td>\n",
       "      <td>0.010610</td>\n",
       "      <td>0.004915</td>\n",
       "      <td>-0.006534</td>\n",
       "      <td>-0.008295</td>\n",
       "      <td>-0.017247</td>\n",
       "      <td>-0.013673</td>\n",
       "      <td>-0.002299</td>\n",
       "      <td>NaN</td>\n",
       "      <td>-0.008572</td>\n",
       "      <td>-0.010666</td>\n",
       "      <td>-0.014763</td>\n",
       "      <td>0.006670</td>\n",
       "      <td>-0.011447</td>\n",
       "      <td>0.006100</td>\n",
       "      <td>-0.008528</td>\n",
       "    </tr>\n",
       "    <tr>\n",
       "      <th>SeniorCitizen</th>\n",
       "      <td>-0.001812</td>\n",
       "      <td>1.000000</td>\n",
       "      <td>0.016420</td>\n",
       "      <td>-0.211235</td>\n",
       "      <td>0.016655</td>\n",
       "      <td>0.008597</td>\n",
       "      <td>0.142904</td>\n",
       "      <td>-0.038562</td>\n",
       "      <td>0.066530</td>\n",
       "      <td>0.059524</td>\n",
       "      <td>NaN</td>\n",
       "      <td>0.105470</td>\n",
       "      <td>0.120270</td>\n",
       "      <td>0.220290</td>\n",
       "      <td>-0.108373</td>\n",
       "      <td>0.255435</td>\n",
       "      <td>-0.182781</td>\n",
       "      <td>0.150858</td>\n",
       "    </tr>\n",
       "    <tr>\n",
       "      <th>Partner</th>\n",
       "      <td>-0.001672</td>\n",
       "      <td>0.016420</td>\n",
       "      <td>1.000000</td>\n",
       "      <td>0.452630</td>\n",
       "      <td>0.379961</td>\n",
       "      <td>0.017752</td>\n",
       "      <td>0.141957</td>\n",
       "      <td>0.143358</td>\n",
       "      <td>0.141413</td>\n",
       "      <td>0.154007</td>\n",
       "      <td>NaN</td>\n",
       "      <td>0.124862</td>\n",
       "      <td>0.117605</td>\n",
       "      <td>0.097054</td>\n",
       "      <td>-0.000950</td>\n",
       "      <td>0.000459</td>\n",
       "      <td>0.000543</td>\n",
       "      <td>-0.150544</td>\n",
       "    </tr>\n",
       "    <tr>\n",
       "      <th>Dependents</th>\n",
       "      <td>0.010610</td>\n",
       "      <td>-0.211235</td>\n",
       "      <td>0.452630</td>\n",
       "      <td>1.000000</td>\n",
       "      <td>0.159866</td>\n",
       "      <td>-0.001731</td>\n",
       "      <td>-0.024607</td>\n",
       "      <td>0.081135</td>\n",
       "      <td>0.023605</td>\n",
       "      <td>0.014093</td>\n",
       "      <td>NaN</td>\n",
       "      <td>-0.016443</td>\n",
       "      <td>-0.039630</td>\n",
       "      <td>-0.113782</td>\n",
       "      <td>0.051947</td>\n",
       "      <td>-0.165734</td>\n",
       "      <td>0.139770</td>\n",
       "      <td>-0.164286</td>\n",
       "    </tr>\n",
       "    <tr>\n",
       "      <th>tenure</th>\n",
       "      <td>0.004915</td>\n",
       "      <td>0.016655</td>\n",
       "      <td>0.379961</td>\n",
       "      <td>0.159866</td>\n",
       "      <td>1.000000</td>\n",
       "      <td>0.008386</td>\n",
       "      <td>0.332168</td>\n",
       "      <td>0.326997</td>\n",
       "      <td>0.360480</td>\n",
       "      <td>0.360481</td>\n",
       "      <td>NaN</td>\n",
       "      <td>0.279579</td>\n",
       "      <td>0.285936</td>\n",
       "      <td>0.247701</td>\n",
       "      <td>0.013417</td>\n",
       "      <td>0.019505</td>\n",
       "      <td>-0.038966</td>\n",
       "      <td>-0.352168</td>\n",
       "    </tr>\n",
       "    <tr>\n",
       "      <th>PhoneService</th>\n",
       "      <td>-0.006534</td>\n",
       "      <td>0.008597</td>\n",
       "      <td>0.017752</td>\n",
       "      <td>-0.001731</td>\n",
       "      <td>0.008386</td>\n",
       "      <td>1.000000</td>\n",
       "      <td>0.279746</td>\n",
       "      <td>-0.092983</td>\n",
       "      <td>-0.052281</td>\n",
       "      <td>-0.071301</td>\n",
       "      <td>NaN</td>\n",
       "      <td>-0.022635</td>\n",
       "      <td>-0.033021</td>\n",
       "      <td>0.247369</td>\n",
       "      <td>-0.452412</td>\n",
       "      <td>0.289975</td>\n",
       "      <td>0.172238</td>\n",
       "      <td>0.011970</td>\n",
       "    </tr>\n",
       "    <tr>\n",
       "      <th>MultipleLines</th>\n",
       "      <td>-0.008295</td>\n",
       "      <td>0.142904</td>\n",
       "      <td>0.141957</td>\n",
       "      <td>-0.024607</td>\n",
       "      <td>0.332168</td>\n",
       "      <td>0.279746</td>\n",
       "      <td>1.000000</td>\n",
       "      <td>0.098322</td>\n",
       "      <td>0.202167</td>\n",
       "      <td>0.201342</td>\n",
       "      <td>NaN</td>\n",
       "      <td>0.257348</td>\n",
       "      <td>0.258946</td>\n",
       "      <td>0.490689</td>\n",
       "      <td>-0.200026</td>\n",
       "      <td>0.366272</td>\n",
       "      <td>-0.210642</td>\n",
       "      <td>0.040032</td>\n",
       "    </tr>\n",
       "    <tr>\n",
       "      <th>OnlineSecurity</th>\n",
       "      <td>-0.017247</td>\n",
       "      <td>-0.038562</td>\n",
       "      <td>0.143358</td>\n",
       "      <td>0.081135</td>\n",
       "      <td>0.326997</td>\n",
       "      <td>-0.092983</td>\n",
       "      <td>0.098322</td>\n",
       "      <td>1.000000</td>\n",
       "      <td>0.284056</td>\n",
       "      <td>0.275214</td>\n",
       "      <td>NaN</td>\n",
       "      <td>0.175975</td>\n",
       "      <td>0.187171</td>\n",
       "      <td>0.296381</td>\n",
       "      <td>0.321500</td>\n",
       "      <td>-0.030957</td>\n",
       "      <td>-0.333350</td>\n",
       "      <td>-0.171126</td>\n",
       "    </tr>\n",
       "    <tr>\n",
       "      <th>OnlineBackup</th>\n",
       "      <td>-0.013673</td>\n",
       "      <td>0.066530</td>\n",
       "      <td>0.141413</td>\n",
       "      <td>0.023605</td>\n",
       "      <td>0.360480</td>\n",
       "      <td>-0.052281</td>\n",
       "      <td>0.202167</td>\n",
       "      <td>0.284056</td>\n",
       "      <td>1.000000</td>\n",
       "      <td>0.303741</td>\n",
       "      <td>NaN</td>\n",
       "      <td>0.282279</td>\n",
       "      <td>0.274672</td>\n",
       "      <td>0.441995</td>\n",
       "      <td>0.157822</td>\n",
       "      <td>0.165788</td>\n",
       "      <td>-0.381669</td>\n",
       "      <td>-0.082322</td>\n",
       "    </tr>\n",
       "    <tr>\n",
       "      <th>DeviceProtection</th>\n",
       "      <td>-0.002299</td>\n",
       "      <td>0.059524</td>\n",
       "      <td>0.154007</td>\n",
       "      <td>0.014093</td>\n",
       "      <td>0.360481</td>\n",
       "      <td>-0.071301</td>\n",
       "      <td>0.201342</td>\n",
       "      <td>0.275214</td>\n",
       "      <td>0.303741</td>\n",
       "      <td>1.000000</td>\n",
       "      <td>NaN</td>\n",
       "      <td>0.390723</td>\n",
       "      <td>0.401964</td>\n",
       "      <td>0.482554</td>\n",
       "      <td>0.146458</td>\n",
       "      <td>0.175867</td>\n",
       "      <td>-0.380710</td>\n",
       "      <td>-0.066053</td>\n",
       "    </tr>\n",
       "    <tr>\n",
       "      <th>TechSupport</th>\n",
       "      <td>NaN</td>\n",
       "      <td>NaN</td>\n",
       "      <td>NaN</td>\n",
       "      <td>NaN</td>\n",
       "      <td>NaN</td>\n",
       "      <td>NaN</td>\n",
       "      <td>NaN</td>\n",
       "      <td>NaN</td>\n",
       "      <td>NaN</td>\n",
       "      <td>NaN</td>\n",
       "      <td>NaN</td>\n",
       "      <td>NaN</td>\n",
       "      <td>NaN</td>\n",
       "      <td>NaN</td>\n",
       "      <td>NaN</td>\n",
       "      <td>NaN</td>\n",
       "      <td>NaN</td>\n",
       "      <td>NaN</td>\n",
       "    </tr>\n",
       "    <tr>\n",
       "      <th>StreamingTV</th>\n",
       "      <td>-0.008572</td>\n",
       "      <td>0.105470</td>\n",
       "      <td>0.124862</td>\n",
       "      <td>-0.016443</td>\n",
       "      <td>0.279579</td>\n",
       "      <td>-0.022635</td>\n",
       "      <td>0.257348</td>\n",
       "      <td>0.175975</td>\n",
       "      <td>0.282279</td>\n",
       "      <td>0.390723</td>\n",
       "      <td>NaN</td>\n",
       "      <td>1.000000</td>\n",
       "      <td>0.532988</td>\n",
       "      <td>0.629513</td>\n",
       "      <td>0.016406</td>\n",
       "      <td>0.329213</td>\n",
       "      <td>-0.415513</td>\n",
       "      <td>0.063345</td>\n",
       "    </tr>\n",
       "    <tr>\n",
       "      <th>StreamingMovies</th>\n",
       "      <td>-0.010666</td>\n",
       "      <td>0.120270</td>\n",
       "      <td>0.117605</td>\n",
       "      <td>-0.039630</td>\n",
       "      <td>0.285936</td>\n",
       "      <td>-0.033021</td>\n",
       "      <td>0.258946</td>\n",
       "      <td>0.187171</td>\n",
       "      <td>0.274672</td>\n",
       "      <td>0.401964</td>\n",
       "      <td>NaN</td>\n",
       "      <td>0.532988</td>\n",
       "      <td>1.000000</td>\n",
       "      <td>0.627339</td>\n",
       "      <td>0.025831</td>\n",
       "      <td>0.322787</td>\n",
       "      <td>-0.418636</td>\n",
       "      <td>0.061497</td>\n",
       "    </tr>\n",
       "    <tr>\n",
       "      <th>MonthlyCharges</th>\n",
       "      <td>-0.014763</td>\n",
       "      <td>0.220290</td>\n",
       "      <td>0.097054</td>\n",
       "      <td>-0.113782</td>\n",
       "      <td>0.247701</td>\n",
       "      <td>0.247369</td>\n",
       "      <td>0.490689</td>\n",
       "      <td>0.296381</td>\n",
       "      <td>0.441995</td>\n",
       "      <td>0.482554</td>\n",
       "      <td>NaN</td>\n",
       "      <td>0.629513</td>\n",
       "      <td>0.627339</td>\n",
       "      <td>1.000000</td>\n",
       "      <td>-0.160077</td>\n",
       "      <td>0.787022</td>\n",
       "      <td>-0.763570</td>\n",
       "      <td>0.193503</td>\n",
       "    </tr>\n",
       "    <tr>\n",
       "      <th>DSL</th>\n",
       "      <td>0.006670</td>\n",
       "      <td>-0.108373</td>\n",
       "      <td>-0.000950</td>\n",
       "      <td>0.051947</td>\n",
       "      <td>0.013417</td>\n",
       "      <td>-0.452412</td>\n",
       "      <td>-0.200026</td>\n",
       "      <td>0.321500</td>\n",
       "      <td>0.157822</td>\n",
       "      <td>0.146458</td>\n",
       "      <td>NaN</td>\n",
       "      <td>0.016406</td>\n",
       "      <td>0.025831</td>\n",
       "      <td>-0.160077</td>\n",
       "      <td>1.000000</td>\n",
       "      <td>-0.640953</td>\n",
       "      <td>-0.380710</td>\n",
       "      <td>-0.124283</td>\n",
       "    </tr>\n",
       "    <tr>\n",
       "      <th>Fiber optic</th>\n",
       "      <td>-0.011447</td>\n",
       "      <td>0.255435</td>\n",
       "      <td>0.000459</td>\n",
       "      <td>-0.165734</td>\n",
       "      <td>0.019505</td>\n",
       "      <td>0.289975</td>\n",
       "      <td>0.366272</td>\n",
       "      <td>-0.030957</td>\n",
       "      <td>0.165788</td>\n",
       "      <td>0.175867</td>\n",
       "      <td>NaN</td>\n",
       "      <td>0.329213</td>\n",
       "      <td>0.322787</td>\n",
       "      <td>0.787022</td>\n",
       "      <td>-0.640953</td>\n",
       "      <td>1.000000</td>\n",
       "      <td>-0.465760</td>\n",
       "      <td>0.308152</td>\n",
       "    </tr>\n",
       "    <tr>\n",
       "      <th>No</th>\n",
       "      <td>0.006100</td>\n",
       "      <td>-0.182781</td>\n",
       "      <td>0.000543</td>\n",
       "      <td>0.139770</td>\n",
       "      <td>-0.038966</td>\n",
       "      <td>0.172238</td>\n",
       "      <td>-0.210642</td>\n",
       "      <td>-0.333350</td>\n",
       "      <td>-0.381669</td>\n",
       "      <td>-0.380710</td>\n",
       "      <td>NaN</td>\n",
       "      <td>-0.415513</td>\n",
       "      <td>-0.418636</td>\n",
       "      <td>-0.763570</td>\n",
       "      <td>-0.380710</td>\n",
       "      <td>-0.465760</td>\n",
       "      <td>1.000000</td>\n",
       "      <td>-0.227946</td>\n",
       "    </tr>\n",
       "    <tr>\n",
       "      <th>Churn</th>\n",
       "      <td>-0.008528</td>\n",
       "      <td>0.150858</td>\n",
       "      <td>-0.150544</td>\n",
       "      <td>-0.164286</td>\n",
       "      <td>-0.352168</td>\n",
       "      <td>0.011970</td>\n",
       "      <td>0.040032</td>\n",
       "      <td>-0.171126</td>\n",
       "      <td>-0.082322</td>\n",
       "      <td>-0.066053</td>\n",
       "      <td>NaN</td>\n",
       "      <td>0.063345</td>\n",
       "      <td>0.061497</td>\n",
       "      <td>0.193503</td>\n",
       "      <td>-0.124283</td>\n",
       "      <td>0.308152</td>\n",
       "      <td>-0.227946</td>\n",
       "      <td>1.000000</td>\n",
       "    </tr>\n",
       "  </tbody>\n",
       "</table>\n",
       "</div>"
      ],
      "text/plain": [
       "                    gender  SeniorCitizen   Partner  Dependents    tenure  \\\n",
       "gender            1.000000      -0.001812 -0.001672    0.010610  0.004915   \n",
       "SeniorCitizen    -0.001812       1.000000  0.016420   -0.211235  0.016655   \n",
       "Partner          -0.001672       0.016420  1.000000    0.452630  0.379961   \n",
       "Dependents        0.010610      -0.211235  0.452630    1.000000  0.159866   \n",
       "tenure            0.004915       0.016655  0.379961    0.159866  1.000000   \n",
       "PhoneService     -0.006534       0.008597  0.017752   -0.001731  0.008386   \n",
       "MultipleLines    -0.008295       0.142904  0.141957   -0.024607  0.332168   \n",
       "OnlineSecurity   -0.017247      -0.038562  0.143358    0.081135  0.326997   \n",
       "OnlineBackup     -0.013673       0.066530  0.141413    0.023605  0.360480   \n",
       "DeviceProtection -0.002299       0.059524  0.154007    0.014093  0.360481   \n",
       "TechSupport            NaN            NaN       NaN         NaN       NaN   \n",
       "StreamingTV      -0.008572       0.105470  0.124862   -0.016443  0.279579   \n",
       "StreamingMovies  -0.010666       0.120270  0.117605   -0.039630  0.285936   \n",
       "MonthlyCharges   -0.014763       0.220290  0.097054   -0.113782  0.247701   \n",
       "DSL               0.006670      -0.108373 -0.000950    0.051947  0.013417   \n",
       "Fiber optic      -0.011447       0.255435  0.000459   -0.165734  0.019505   \n",
       "No                0.006100      -0.182781  0.000543    0.139770 -0.038966   \n",
       "Churn            -0.008528       0.150858 -0.150544   -0.164286 -0.352168   \n",
       "\n",
       "                  PhoneService  MultipleLines  OnlineSecurity  OnlineBackup  \\\n",
       "gender               -0.006534      -0.008295       -0.017247     -0.013673   \n",
       "SeniorCitizen         0.008597       0.142904       -0.038562      0.066530   \n",
       "Partner               0.017752       0.141957        0.143358      0.141413   \n",
       "Dependents           -0.001731      -0.024607        0.081135      0.023605   \n",
       "tenure                0.008386       0.332168        0.326997      0.360480   \n",
       "PhoneService          1.000000       0.279746       -0.092983     -0.052281   \n",
       "MultipleLines         0.279746       1.000000        0.098322      0.202167   \n",
       "OnlineSecurity       -0.092983       0.098322        1.000000      0.284056   \n",
       "OnlineBackup         -0.052281       0.202167        0.284056      1.000000   \n",
       "DeviceProtection     -0.071301       0.201342        0.275214      0.303741   \n",
       "TechSupport                NaN            NaN             NaN           NaN   \n",
       "StreamingTV          -0.022635       0.257348        0.175975      0.282279   \n",
       "StreamingMovies      -0.033021       0.258946        0.187171      0.274672   \n",
       "MonthlyCharges        0.247369       0.490689        0.296381      0.441995   \n",
       "DSL                  -0.452412      -0.200026        0.321500      0.157822   \n",
       "Fiber optic           0.289975       0.366272       -0.030957      0.165788   \n",
       "No                    0.172238      -0.210642       -0.333350     -0.381669   \n",
       "Churn                 0.011970       0.040032       -0.171126     -0.082322   \n",
       "\n",
       "                  DeviceProtection  TechSupport  StreamingTV  StreamingMovies  \\\n",
       "gender                   -0.002299          NaN    -0.008572        -0.010666   \n",
       "SeniorCitizen             0.059524          NaN     0.105470         0.120270   \n",
       "Partner                   0.154007          NaN     0.124862         0.117605   \n",
       "Dependents                0.014093          NaN    -0.016443        -0.039630   \n",
       "tenure                    0.360481          NaN     0.279579         0.285936   \n",
       "PhoneService             -0.071301          NaN    -0.022635        -0.033021   \n",
       "MultipleLines             0.201342          NaN     0.257348         0.258946   \n",
       "OnlineSecurity            0.275214          NaN     0.175975         0.187171   \n",
       "OnlineBackup              0.303741          NaN     0.282279         0.274672   \n",
       "DeviceProtection          1.000000          NaN     0.390723         0.401964   \n",
       "TechSupport                    NaN          NaN          NaN              NaN   \n",
       "StreamingTV               0.390723          NaN     1.000000         0.532988   \n",
       "StreamingMovies           0.401964          NaN     0.532988         1.000000   \n",
       "MonthlyCharges            0.482554          NaN     0.629513         0.627339   \n",
       "DSL                       0.146458          NaN     0.016406         0.025831   \n",
       "Fiber optic               0.175867          NaN     0.329213         0.322787   \n",
       "No                       -0.380710          NaN    -0.415513        -0.418636   \n",
       "Churn                    -0.066053          NaN     0.063345         0.061497   \n",
       "\n",
       "                  MonthlyCharges       DSL  Fiber optic        No     Churn  \n",
       "gender                 -0.014763  0.006670    -0.011447  0.006100 -0.008528  \n",
       "SeniorCitizen           0.220290 -0.108373     0.255435 -0.182781  0.150858  \n",
       "Partner                 0.097054 -0.000950     0.000459  0.000543 -0.150544  \n",
       "Dependents             -0.113782  0.051947    -0.165734  0.139770 -0.164286  \n",
       "tenure                  0.247701  0.013417     0.019505 -0.038966 -0.352168  \n",
       "PhoneService            0.247369 -0.452412     0.289975  0.172238  0.011970  \n",
       "MultipleLines           0.490689 -0.200026     0.366272 -0.210642  0.040032  \n",
       "OnlineSecurity          0.296381  0.321500    -0.030957 -0.333350 -0.171126  \n",
       "OnlineBackup            0.441995  0.157822     0.165788 -0.381669 -0.082322  \n",
       "DeviceProtection        0.482554  0.146458     0.175867 -0.380710 -0.066053  \n",
       "TechSupport                  NaN       NaN          NaN       NaN       NaN  \n",
       "StreamingTV             0.629513  0.016406     0.329213 -0.415513  0.063345  \n",
       "StreamingMovies         0.627339  0.025831     0.322787 -0.418636  0.061497  \n",
       "MonthlyCharges          1.000000 -0.160077     0.787022 -0.763570  0.193503  \n",
       "DSL                    -0.160077  1.000000    -0.640953 -0.380710 -0.124283  \n",
       "Fiber optic             0.787022 -0.640953     1.000000 -0.465760  0.308152  \n",
       "No                     -0.763570 -0.380710    -0.465760  1.000000 -0.227946  \n",
       "Churn                   0.193503 -0.124283     0.308152 -0.227946  1.000000  "
      ]
     },
     "execution_count": 49,
     "metadata": {},
     "output_type": "execute_result"
    }
   ],
   "source": [
    "#To check correlation between the features.\n",
    "df3.corr()"
   ]
  },
  {
   "cell_type": "code",
   "execution_count": 114,
   "metadata": {},
   "outputs": [
    {
     "data": {
      "image/png": "[encoded data removed]",
      "text/plain": [
       "<Figure size 432x288 with 2 Axes>"
      ]
     },
     "metadata": {
      "needs_background": "light"
     },
     "output_type": "display_data"
    }
   ],
   "source": [
    "#To check correlation between the features.\n",
    "corr = df3.corr()\n",
    "ax = sns.heatmap(\n",
    "    corr, \n",
    "    vmin=-1, vmax=1, center=0,\n",
    "    cmap=sns.diverging_palette(200, 2200, n=2000),\n",
    "    square=True\n",
    ")\n",
    "ax.set_xticklabels(\n",
    "    ax.get_xticklabels(),\n",
    "    rotation=100000,\n",
    "    horizontalalignment='right'\n",
    ");"
   ]
  },
  {
   "cell_type": "code",
   "execution_count": 116,
   "metadata": {},
   "outputs": [],
   "source": [
    "#Droping the features to avoide multi-collinearity. \n",
    "df3 = df3.drop(['No', 'MonthlyCharges','Fiber optic','DSL'], axis=1)"
   ]
  },
  {
   "cell_type": "markdown",
   "metadata": {},
   "source": [
    "### Data Visualization"
   ]
  },
  {
   "cell_type": "code",
   "execution_count": 117,
   "metadata": {},
   "outputs": [
    {
     "name": "stderr",
     "output_type": "stream",
     "text": [
      "C:\\Users\\DELL.DESKTOP-C18N4A6\\Anaconda3\\lib\\site-packages\\seaborn\\categorical.py:3666: UserWarning: The `factorplot` function has been renamed to `catplot`. The original name will be removed in a future release. Please update your code. Note that the default `kind` in `factorplot` (`'point'`) has changed `'strip'` in `catplot`.\n",
      "  warnings.warn(msg)\n"
     ]
    },
    {
     "data": {
      "text/plain": [
       "<seaborn.axisgrid.FacetGrid at 0x21bf149fb38>"
      ]
     },
     "execution_count": 117,
     "metadata": {},
     "output_type": "execute_result"
    },
    {
     "data": {
      "image/png": "[encoded data removed]",
      "text/plain": [
       "<Figure size 360x360 with 1 Axes>"
      ]
     },
     "metadata": {
      "needs_background": "light"
     },
     "output_type": "display_data"
    }
   ],
   "source": [
    "import seaborn as sns\n",
    "sns.factorplot('gender',data=df3,kind='count')"
   ]
  },
  {
   "cell_type": "code",
   "execution_count": 118,
   "metadata": {},
   "outputs": [
    {
     "data": {
      "image/png": "[encoded data removed]",
      "text/plain": [
       "<Figure size 432x288 with 1 Axes>"
      ]
     },
     "metadata": {
      "needs_background": "light"
     },
     "output_type": "display_data"
    }
   ],
   "source": [
    "sns.regplot(y=df3[\"gender\"], x=df3[\"Churn\"],line_kws={\"color\":\"r\",\"alpha\":0.7,\"lw\":5})\n",
    "plt.show()"
   ]
  },
  {
   "cell_type": "code",
   "execution_count": 119,
   "metadata": {},
   "outputs": [
    {
     "data": {
      "text/plain": [
       "<seaborn.axisgrid.FacetGrid at 0x21bf14264a8>"
      ]
     },
     "execution_count": 119,
     "metadata": {},
     "output_type": "execute_result"
    },
    {
     "data": {
      "image/png": "[encoded data removed]",
      "text/plain": [
       "<Figure size 360x360 with 1 Axes>"
      ]
     },
     "metadata": {
      "needs_background": "light"
     },
     "output_type": "display_data"
    }
   ],
   "source": [
    "sns.factorplot('SeniorCitizen',data=df3,kind='count')"
   ]
  },
  {
   "cell_type": "code",
   "execution_count": 120,
   "metadata": {},
   "outputs": [
    {
     "data": {
      "image/png": "[encoded data removed]",
      "text/plain": [
       "<Figure size 432x288 with 1 Axes>"
      ]
     },
     "metadata": {
      "needs_background": "light"
     },
     "output_type": "display_data"
    }
   ],
   "source": [
    "sns.regplot(y=df3[\"SeniorCitizen\"], x=df3[\"Churn\"],line_kws={\"color\":\"r\",\"alpha\":0.7,\"lw\":5})\n",
    "plt.show()"
   ]
  },
  {
   "cell_type": "code",
   "execution_count": 121,
   "metadata": {},
   "outputs": [
    {
     "data": {
      "text/plain": [
       "<seaborn.axisgrid.FacetGrid at 0x21bf145b630>"
      ]
     },
     "execution_count": 121,
     "metadata": {},
     "output_type": "execute_result"
    },
    {
     "data": {
      "image/png": "[encoded data removed]",
      "text/plain": [
       "<Figure size 360x360 with 1 Axes>"
      ]
     },
     "metadata": {
      "needs_background": "light"
     },
     "output_type": "display_data"
    }
   ],
   "source": [
    "sns.factorplot('Partner',data=df3,kind='count')"
   ]
  },
  {
   "cell_type": "code",
   "execution_count": 122,
   "metadata": {
    "scrolled": true
   },
   "outputs": [
    {
     "data": {
      "image/png": "[encoded data removed]",
      "text/plain": [
       "<Figure size 432x288 with 1 Axes>"
      ]
     },
     "metadata": {
      "needs_background": "light"
     },
     "output_type": "display_data"
    }
   ],
   "source": [
    "sns.regplot(y=df3[\"Partner\"], x=df3[\"Churn\"],line_kws={\"color\":\"r\",\"alpha\":0.7,\"lw\":5})\n",
    "plt.show()"
   ]
  },
  {
   "cell_type": "code",
   "execution_count": 123,
   "metadata": {},
   "outputs": [
    {
     "data": {
      "text/plain": [
       "<seaborn.axisgrid.FacetGrid at 0x21bf028d898>"
      ]
     },
     "execution_count": 123,
     "metadata": {},
     "output_type": "execute_result"
    },
    {
     "data": {
      "image/png": "[encoded data removed]",
      "text/plain": [
       "<Figure size 360x360 with 1 Axes>"
      ]
     },
     "metadata": {
      "needs_background": "light"
     },
     "output_type": "display_data"
    }
   ],
   "source": [
    "sns.factorplot('StreamingMovies',data=df3,kind='count')"
   ]
  },
  {
   "cell_type": "code",
   "execution_count": 124,
   "metadata": {},
   "outputs": [
    {
     "data": {
      "image/png": "[encoded data removed]",
      "text/plain": [
       "<Figure size 432x288 with 1 Axes>"
      ]
     },
     "metadata": {
      "needs_background": "light"
     },
     "output_type": "display_data"
    }
   ],
   "source": [
    "sns.regplot(y=df3[\"StreamingMovies\"], x=df3[\"Churn\"],line_kws={\"color\":\"r\",\"alpha\":0.7,\"lw\":5})\n",
    "plt.show()"
   ]
  },
  {
   "cell_type": "code",
   "execution_count": 125,
   "metadata": {},
   "outputs": [
    {
     "data": {
      "text/plain": [
       "<seaborn.axisgrid.FacetGrid at 0x21bee2f49b0>"
      ]
     },
     "execution_count": 125,
     "metadata": {},
     "output_type": "execute_result"
    },
    {
     "data": {
      "image/png": "[encoded data removed]",
      "text/plain": [
       "<Figure size 360x360 with 1 Axes>"
      ]
     },
     "metadata": {
      "needs_background": "light"
     },
     "output_type": "display_data"
    }
   ],
   "source": [
    "sns.factorplot('StreamingTV',data=df3,kind='count')"
   ]
  },
  {
   "cell_type": "code",
   "execution_count": 126,
   "metadata": {},
   "outputs": [
    {
     "data": {
      "image/png": "[encoded data removed]",
      "text/plain": [
       "<Figure size 432x288 with 1 Axes>"
      ]
     },
     "metadata": {
      "needs_background": "light"
     },
     "output_type": "display_data"
    }
   ],
   "source": [
    "sns.regplot(y=df3[\"StreamingTV\"], x=df3[\"Churn\"],line_kws={\"color\":\"r\",\"alpha\":0.7,\"lw\":5})\n",
    "plt.show()"
   ]
  },
  {
   "cell_type": "code",
   "execution_count": 127,
   "metadata": {},
   "outputs": [
    {
     "data": {
      "text/plain": [
       "<seaborn.axisgrid.FacetGrid at 0x21bee349a90>"
      ]
     },
     "execution_count": 127,
     "metadata": {},
     "output_type": "execute_result"
    },
    {
     "data": {
      "image/png": "[encoded data removed]",
      "text/plain": [
       "<Figure size 360x360 with 1 Axes>"
      ]
     },
     "metadata": {
      "needs_background": "light"
     },
     "output_type": "display_data"
    }
   ],
   "source": [
    "sns.factorplot('PhoneService',data=df3,kind='count')"
   ]
  },
  {
   "cell_type": "code",
   "execution_count": 128,
   "metadata": {},
   "outputs": [
    {
     "data": {
      "text/plain": [
       "<seaborn.axisgrid.FacetGrid at 0x21bebe8e668>"
      ]
     },
     "execution_count": 128,
     "metadata": {},
     "output_type": "execute_result"
    },
    {
     "data": {
      "image/png": "[encoded data removed]",
      "text/plain": [
       "<Figure size 360x360 with 1 Axes>"
      ]
     },
     "metadata": {
      "needs_background": "light"
     },
     "output_type": "display_data"
    }
   ],
   "source": [
    "sns.factorplot('MultipleLines',data=df3,kind='count')"
   ]
  },
  {
   "cell_type": "code",
   "execution_count": 129,
   "metadata": {},
   "outputs": [
    {
     "data": {
      "text/plain": [
       "<seaborn.axisgrid.FacetGrid at 0x21bee3b0d30>"
      ]
     },
     "execution_count": 129,
     "metadata": {},
     "output_type": "execute_result"
    },
    {
     "data": {
      "image/png": "[encoded data removed]",
      "text/plain": [
       "<Figure size 360x360 with 1 Axes>"
      ]
     },
     "metadata": {
      "needs_background": "light"
     },
     "output_type": "display_data"
    }
   ],
   "source": [
    "sns.factorplot('TechSupport',data=df3,kind='count')"
   ]
  },
  {
   "cell_type": "code",
   "execution_count": 130,
   "metadata": {},
   "outputs": [
    {
     "data": {
      "text/plain": [
       "<seaborn.axisgrid.FacetGrid at 0x21bf1412e10>"
      ]
     },
     "execution_count": 130,
     "metadata": {},
     "output_type": "execute_result"
    },
    {
     "data": {
      "image/png": "[encoded data removed]",
      "text/plain": [
       "<Figure size 360x360 with 1 Axes>"
      ]
     },
     "metadata": {
      "needs_background": "light"
     },
     "output_type": "display_data"
    }
   ],
   "source": [
    "sns.factorplot('Contract',data=df,kind='count')"
   ]
  },
  {
   "cell_type": "code",
   "execution_count": 131,
   "metadata": {},
   "outputs": [
    {
     "data": {
      "text/plain": [
       "<seaborn.axisgrid.FacetGrid at 0x21bf01e1da0>"
      ]
     },
     "execution_count": 131,
     "metadata": {},
     "output_type": "execute_result"
    },
    {
     "data": {
      "image/png": "[encoded data removed]",
      "text/plain": [
       "<Figure size 360x360 with 1 Axes>"
      ]
     },
     "metadata": {
      "needs_background": "light"
     },
     "output_type": "display_data"
    }
   ],
   "source": [
    "sns.factorplot('OnlineSecurity',data=df3,kind='count')"
   ]
  },
  {
   "cell_type": "code",
   "execution_count": 132,
   "metadata": {},
   "outputs": [
    {
     "data": {
      "text/plain": [
       "<seaborn.axisgrid.FacetGrid at 0x21bee392748>"
      ]
     },
     "execution_count": 132,
     "metadata": {},
     "output_type": "execute_result"
    },
    {
     "data": {
      "image/png": "[encoded data removed]",
      "text/plain": [
       "<Figure size 360x360 with 1 Axes>"
      ]
     },
     "metadata": {
      "needs_background": "light"
     },
     "output_type": "display_data"
    }
   ],
   "source": [
    "sns.factorplot('DeviceProtection',data=df3,kind='count')"
   ]
  },
  {
   "cell_type": "code",
   "execution_count": 133,
   "metadata": {},
   "outputs": [
    {
     "data": {
      "text/plain": [
       "<seaborn.axisgrid.FacetGrid at 0x21bf016abe0>"
      ]
     },
     "execution_count": 133,
     "metadata": {},
     "output_type": "execute_result"
    },
    {
     "data": {
      "image/png": "[encoded data removed]",
      "text/plain": [
       "<Figure size 360x360 with 1 Axes>"
      ]
     },
     "metadata": {
      "needs_background": "light"
     },
     "output_type": "display_data"
    }
   ],
   "source": [
    "sns.factorplot('Churn',data=df3,kind='count')"
   ]
  },
  {
   "cell_type": "markdown",
   "metadata": {},
   "source": [
    "1) Gender ratio is almost same (males are bit higher can be neglected).\n",
    "\n",
    "2) Most of the users are young generation around 6000 (i.e.86% of total population).\n",
    "\n",
    "3) Not much of people either watch movies or tv.\n",
    "\n",
    "4) Less no of people have Multiple line.\n",
    "\n",
    "5) More people prefer month on month basis scheams and they have high corelation (0.40) between month on month basis contract and churn.\n",
    "\n",
    "6) Approximately 2000 (i.e.28%) of the user churn."
   ]
  },
  {
   "cell_type": "markdown",
   "metadata": {},
   "source": [
    "### Implement Machine Learning Models"
   ]
  },
  {
   "cell_type": "code",
   "execution_count": 134,
   "metadata": {},
   "outputs": [
    {
     "name": "stderr",
     "output_type": "stream",
     "text": [
      "C:\\Users\\DELL.DESKTOP-C18N4A6\\Anaconda3\\lib\\site-packages\\sklearn\\utils\\deprecation.py:66: DeprecationWarning: Class Imputer is deprecated; Imputer was deprecated in version 0.20 and will be removed in 0.22. Import impute.SimpleImputer from sklearn instead.\n",
      "  warnings.warn(msg, category=DeprecationWarning)\n"
     ]
    }
   ],
   "source": [
    "#Importing sklearn preprocessing lib to preprocess the data and make data fit to prepare model. \n",
    "#replace NAN values with the one with high frequency.\n",
    "from sklearn.preprocessing import Imputer\n",
    "imputer = Imputer(missing_values = \"NaN\",strategy = \"most_frequent\" , axis = 0)\n",
    "imputer = imputer.fit(df3.iloc[:, 0:28].values)\n",
    "df3.iloc[:, 0:28] = imputer.transform(df3.iloc[:, 0:28])"
   ]
  },
  {
   "cell_type": "code",
   "execution_count": 135,
   "metadata": {},
   "outputs": [
    {
     "name": "stdout",
     "output_type": "stream",
     "text": [
      "(7043, 13)\n",
      "__________________________________________________________________________________________________________________\n",
      "(7043,)\n"
     ]
    }
   ],
   "source": [
    "#Dividing data into X and Y to make split easy.  \n",
    "X = df3[list(df3.columns)[0:-1]]\n",
    "Y = df3[list(df3.columns)[-1]]\n",
    "print(X.shape)\n",
    "print(\"__________________________________________________________________________________________________________________\")\n",
    "print(Y.shape)\n",
    "#print(X)"
   ]
  },
  {
   "cell_type": "code",
   "execution_count": null,
   "metadata": {},
   "outputs": [],
   "source": [
    "#Dividing data into test and train data to prepare model and model evaluation.\n",
    "from sklearn.model_selection import train_test_split\n",
    "X_train, X_test, Y_train, Y_test = train_test_split(X, Y, test_size=0.3, random_state=42)\n",
    "print(X_train.shape)\n",
    "print(\"__________________________________________________________________________________________________________________\")\n",
    "print(X_test.shape)"
   ]
  },
  {
   "cell_type": "code",
   "execution_count": null,
   "metadata": {},
   "outputs": [],
   "source": [
    "#Scaling the data from -1 to 1 to make data fit for model building.\n",
    "from sklearn.preprocessing import StandardScaler\n",
    "scaler = StandardScaler()\n",
    "X_train = scaler.fit_transform(X_train)\n",
    "X_test = scaler.transform(X_test)"
   ]
  },
  {
   "cell_type": "markdown",
   "metadata": {},
   "source": [
    "# LOGISTIC REGRESSION"
   ]
  },
  {
   "cell_type": "code",
   "execution_count": 137,
   "metadata": {},
   "outputs": [],
   "source": [
    "#Importing lib for Logistic regression\n",
    "from sklearn.linear_model import LogisticRegression\n",
    "from sklearn.metrics import accuracy_score\n",
    "from sklearn.metrics import f1_score\n",
    "from sklearn.metrics import confusion_matrix"
   ]
  },
  {
   "cell_type": "code",
   "execution_count": 138,
   "metadata": {},
   "outputs": [
    {
     "name": "stderr",
     "output_type": "stream",
     "text": [
      "C:\\Users\\DELL.DESKTOP-C18N4A6\\Anaconda3\\lib\\site-packages\\sklearn\\linear_model\\logistic.py:432: FutureWarning: Default solver will be changed to 'lbfgs' in 0.22. Specify a solver to silence this warning.\n",
      "  FutureWarning)\n"
     ]
    }
   ],
   "source": [
    "#fitting the model to X_train, Y_train.\n",
    "log = LogisticRegression(random_state=42, penalty='l2')\n",
    "r=log.fit(X_train, Y_train)"
   ]
  },
  {
   "cell_type": "code",
   "execution_count": 141,
   "metadata": {},
   "outputs": [
    {
     "name": "stdout",
     "output_type": "stream",
     "text": [
      "LogisticRegression(C=1.0, class_weight=None, dual=False, fit_intercept=True,\n",
      "                   intercept_scaling=1, l1_ratio=None, max_iter=100,\n",
      "                   multi_class='warn', n_jobs=None, penalty='l2',\n",
      "                   random_state=42, solver='warn', tol=0.0001, verbose=0,\n",
      "                   warm_start=False)\n",
      "__________________________________________________________________________________________________________________\n",
      "coefs: [[-0.07024966  0.34634024  0.00662099 -0.22247561 -0.04484421  0.18697154\n",
      "   0.54637685 -0.34710225  0.02514086  0.10934372  0.          0.5096908\n",
      "   0.71545567 -0.03674296  0.35906433  2.38276516 -1.69382003]]\n",
      "__________________________________________________________________________________________________________________\n",
      "intercept: [0.75509112]\n",
      "__________________________________________________________________________________________________________________\n",
      "LR accuracy: 0.8035967818267865\n",
      "LR F1: 1.0\n"
     ]
    }
   ],
   "source": [
    "print(log)\n",
    "print(\"__________________________________________________________________________________________________________________\")\n",
    "print(\"coefs:\", log.coef_)\n",
    "print(\"__________________________________________________________________________________________________________________\")\n",
    "print(\"intercept:\", log.intercept_)\n",
    "print(\"__________________________________________________________________________________________________________________\")\n",
    "Y_pred = log.predict(X_test)\n",
    "print(\"LR accuracy:\", accuracy_score(Y_test, Y_pred))\n",
    "print(\"LR F1:\", f1_score(Y_pred, Y_pred,average='weighted'))\n",
    "#print(\"LR CM:\\n\",  confusion_matrix(Y_test, Y_pred))\n",
    "LR_CON = confusion_matrix(Y_test, Y_pred)\n",
    "LR_ACC = accuracy_score(Y_test, Y_pred)\n"
   ]
  },
  {
   "cell_type": "markdown",
   "metadata": {},
   "source": [
    "# DECISION TREE"
   ]
  },
  {
   "cell_type": "code",
   "execution_count": 143,
   "metadata": {},
   "outputs": [
    {
     "name": "stdout",
     "output_type": "stream",
     "text": [
      "DecisionTreeClassifier(class_weight=None, criterion='entropy', max_depth=5,\n",
      "                       max_features=None, max_leaf_nodes=None,\n",
      "                       min_impurity_decrease=0.0, min_impurity_split=None,\n",
      "                       min_samples_leaf=1, min_samples_split=2,\n",
      "                       min_weight_fraction_leaf=0.0, presort=False,\n",
      "                       random_state=1, splitter='best')\n",
      "__________________________________________________________________________________________________________________\n",
      "LR accuracy: 0.8035967818267865\n",
      "__________________________________________________________________________________________________________________\n",
      "[[1419  120]\n",
      " [ 306  268]]\n",
      "__________________________________________________________________________________________________________________\n",
      "f1: 0.7846450144174664\n",
      "__________________________________________________________________________________________________________________\n"
     ]
    }
   ],
   "source": [
    "#Importing lib for Decision tree analysis.\n",
    "from sklearn import tree\n",
    "clf_tree = tree.DecisionTreeClassifier(criterion=\"entropy\", max_depth=5, random_state=1)\n",
    "clf_tree.fit(X_train, Y_train)\n",
    "print(clf_tree)\n",
    "print(\"__________________________________________________________________________________________________________________\")\n",
    "tree_predictions = clf_tree.predict(X_test)\n",
    "print(\"LR accuracy:\", accuracy_score(Y_test, Y_pred))\n",
    "print(\"__________________________________________________________________________________________________________________\")\n",
    "print(confusion_matrix(Y_test, tree_predictions))\n",
    "print(\"__________________________________________________________________________________________________________________\")\n",
    "print(\"f1:\", f1_score(Y_test, tree_predictions, average='weighted'))\n",
    "print(\"__________________________________________________________________________________________________________________\")\n",
    "DT_CON = confusion_matrix(Y_test, tree_predictions)\n",
    "DT_ACC = accuracy_score(Y_test, Y_pred)"
   ]
  },
  {
   "cell_type": "markdown",
   "metadata": {},
   "source": [
    "# NEURAL NETWORK"
   ]
  },
  {
   "cell_type": "code",
   "execution_count": 144,
   "metadata": {},
   "outputs": [
    {
     "name": "stdout",
     "output_type": "stream",
     "text": [
      "Iteration 1, loss = 0.92981789\n",
      "Iteration 2, loss = 0.51472107\n",
      "Iteration 3, loss = 0.46090281\n",
      "Iteration 4, loss = 0.44989758\n",
      "Iteration 5, loss = 0.44498761\n",
      "Iteration 6, loss = 0.44296950\n",
      "Iteration 7, loss = 0.44055009\n",
      "Iteration 8, loss = 0.44517122\n",
      "Iteration 9, loss = 0.44401548\n",
      "Iteration 10, loss = 0.44072494\n",
      "Iteration 11, loss = 0.44483956\n",
      "Iteration 12, loss = 0.44371600\n",
      "Iteration 13, loss = 0.44089485\n",
      "Iteration 14, loss = 0.44965782\n",
      "Iteration 15, loss = 0.43941812\n",
      "Iteration 16, loss = 0.43396831\n",
      "Iteration 17, loss = 0.43720712\n",
      "Iteration 18, loss = 0.44683582\n",
      "Iteration 19, loss = 0.43418465\n",
      "Iteration 20, loss = 0.43669452\n",
      "Iteration 21, loss = 0.43438458\n",
      "Iteration 22, loss = 0.43360863\n",
      "Iteration 23, loss = 0.43374245\n",
      "Iteration 24, loss = 0.43571688\n",
      "Iteration 25, loss = 0.46045638\n",
      "Iteration 26, loss = 0.45075606\n",
      "Iteration 27, loss = 0.44558136\n",
      "Iteration 28, loss = 0.43514463\n",
      "Iteration 29, loss = 0.43367901\n",
      "Iteration 30, loss = 0.43653021\n",
      "Iteration 31, loss = 0.43644340\n",
      "Iteration 32, loss = 0.43726090\n",
      "Iteration 33, loss = 0.44027480\n",
      "Training loss did not improve more than tol=0.000100 for 10 consecutive epochs. Stopping.\n",
      "MLP model: MLPClassifier(activation='relu', alpha=0.1, batch_size='auto', beta_1=0.9,\n",
      "              beta_2=0.999, early_stopping=False, epsilon=1e-08,\n",
      "              hidden_layer_sizes=(1000,), learning_rate='constant',\n",
      "              learning_rate_init=0.001, max_iter=200, momentum=0.9,\n",
      "              n_iter_no_change=10, nesterovs_momentum=True, power_t=0.5,\n",
      "              random_state=1, shuffle=True, solver='adam', tol=0.0001,\n",
      "              validation_fraction=0.1, verbose=True, warm_start=False)\n",
      "__________________________________________________________________________________________________________________\n",
      "NN accuracy: 0.7988641741599621\n",
      "__________________________________________________________________________________________________________________\n",
      "NN F1: 0.5948522402287892\n",
      "__________________________________________________________________________________________________________________\n",
      "NN CM:\n",
      " [[1376  163]\n",
      " [ 262  312]]\n",
      "__________________________________________________________________________________________________________________\n"
     ]
    }
   ],
   "source": [
    "#Importing lib for Neural Networks.\n",
    "from sklearn.neural_network import MLPClassifier\n",
    "mlp = MLPClassifier(solver='adam',                          #For neural network\n",
    "                    alpha=1e-1,                             #multy level pelsoptrom\n",
    "                    hidden_layer_sizes=(1000,), \n",
    "                    random_state=1, \n",
    "                    verbose=True)\n",
    "#to fit the train datas\n",
    "mlp.fit(X_train, Y_train)        \n",
    "print(\"MLP model:\", mlp)\n",
    "print(\"__________________________________________________________________________________________________________________\")\n",
    "Y_pred = mlp.predict(X_test)                  #to predict.\n",
    "print(\"NN accuracy:\", accuracy_score(Y_test, Y_pred))\n",
    "print(\"__________________________________________________________________________________________________________________\")\n",
    "print(\"NN F1:\", f1_score(Y_test, Y_pred))\n",
    "print(\"__________________________________________________________________________________________________________________\")\n",
    "print(\"NN CM:\\n\", confusion_matrix(Y_test, Y_pred))\n",
    "print(\"__________________________________________________________________________________________________________________\")\n",
    "NN_CON = confusion_matrix(Y_test, Y_pred)\n",
    "NN_ACC = accuracy_score(Y_test, Y_pred)"
   ]
  },
  {
   "cell_type": "markdown",
   "metadata": {},
   "source": [
    "# Model Evaluation"
   ]
  },
  {
   "cell_type": "markdown",
   "metadata": {},
   "source": [
    "# CONFUSION MATRIX, ROC CURVE AND ACCURACY SCORES:-"
   ]
  },
  {
   "cell_type": "code",
   "execution_count": 145,
   "metadata": {},
   "outputs": [],
   "source": [
    "#Importing lib for making ROC curve.\n",
    "from sklearn.metrics import roc_curve\n",
    "from sklearn.metrics import roc_auc_score\n",
    "import matplotlib.pyplot as plt "
   ]
  },
  {
   "cell_type": "markdown",
   "metadata": {},
   "source": [
    "# LOGISTIC REGRESSION"
   ]
  },
  {
   "cell_type": "code",
   "execution_count": 146,
   "metadata": {},
   "outputs": [
    {
     "data": {
      "image/png": "[encoded data removed]",
      "text/plain": [
       "<Figure size 432x288 with 1 Axes>"
      ]
     },
     "metadata": {
      "needs_background": "light"
     },
     "output_type": "display_data"
    },
    {
     "name": "stdout",
     "output_type": "stream",
     "text": [
      "__________________________________________________________________________________________________________________\n",
      "confusion matrix:-  [[1397  142]\n",
      " [ 273  301]]\n",
      "__________________________________________________________________________________________________________________\n",
      "accuracy scores:-  80.35967818267865 %\n",
      "__________________________________________________________________________________________________________________\n"
     ]
    }
   ],
   "source": [
    "logit_roc_auc = roc_auc_score(Y_test, log.predict(X_test))\n",
    "fpr, tpr, thresholds = roc_curve(Y_test, log.predict_proba(X_test)[:,1])\n",
    "plt.figure()\n",
    "plt.plot(fpr, tpr, label='Logistic Regression (area = %0.2f)' % logit_roc_auc)\n",
    "plt.plot([0, 1], [0, 1],'r--')\n",
    "plt.xlim([0.0, 1.0])\n",
    "plt.ylim([0.0, 1.05])\n",
    "plt.xlabel('False Positive Rate')\n",
    "plt.ylabel('True Positive Rate')\n",
    "plt.title('Receiver operating characteristic')\n",
    "plt.legend(loc=\"lower right\")\n",
    "plt.savefig('Log_ROC')\n",
    "plt.show()\n",
    "#--------------------------------------------------------------------------\n",
    "print(\"__________________________________________________________________________________________________________________\")\n",
    "print(\"confusion matrix:- \",LR_CON)\n",
    "print(\"__________________________________________________________________________________________________________________\")\n",
    "print(\"accuracy scores:- \",LR_ACC*100,\"%\")\n",
    "print(\"__________________________________________________________________________________________________________________\")"
   ]
  },
  {
   "cell_type": "markdown",
   "metadata": {},
   "source": [
    "# DECISION TREE"
   ]
  },
  {
   "cell_type": "code",
   "execution_count": 79,
   "metadata": {},
   "outputs": [
    {
     "data": {
      "image/png": "[encoded data removed]",
      "text/plain": [
       "<Figure size 432x288 with 1 Axes>"
      ]
     },
     "metadata": {
      "needs_background": "light"
     },
     "output_type": "display_data"
    },
    {
     "name": "stdout",
     "output_type": "stream",
     "text": [
      "__________________________________________________________________________________________________________________\n",
      "confusion matrix:-  [[1419  120]\n",
      " [ 306  268]]\n",
      "__________________________________________________________________________________________________________________\n",
      "accuracy scores:-  80.35967818267865 %\n",
      "__________________________________________________________________________________________________________________\n"
     ]
    }
   ],
   "source": [
    "DEC_roc_auc = roc_auc_score(Y_test, clf_tree.predict(X_test))\n",
    "fpr, tpr, thresholds = roc_curve(Y_test, clf_tree.predict_proba(X_test)[:,1])\n",
    "plt.figure()\n",
    "plt.plot(fpr, tpr, label='Decision Tree (area = %0.2f)' % DEC_roc_auc)\n",
    "plt.plot([0, 1], [0, 1],'r--')\n",
    "plt.xlim([0.0, 1.0])\n",
    "plt.ylim([0.0, 1.05])\n",
    "plt.xlabel('False Positive Rate')\n",
    "plt.ylabel('True Positive Rate')\n",
    "plt.title('Receiver operating characteristic')\n",
    "plt.legend(loc=\"lower right\")\n",
    "plt.savefig('Log_ROC')\n",
    "plt.show()\n",
    "#------------------------------------------------------------------------------------------------------------------------------\n",
    "print(\"__________________________________________________________________________________________________________________\")\n",
    "print(\"confusion matrix:- \",DT_CON)\n",
    "print(\"__________________________________________________________________________________________________________________\")\n",
    "print(\"accuracy scores:- \",DT_ACC*100,\"%\")\n",
    "print(\"__________________________________________________________________________________________________________________\")"
   ]
  },
  {
   "cell_type": "markdown",
   "metadata": {},
   "source": [
    "# NEURAL NETWORKS"
   ]
  },
  {
   "cell_type": "code",
   "execution_count": 147,
   "metadata": {},
   "outputs": [
    {
     "data": {
      "image/png": "[encoded data removed]",
      "text/plain": [
       "<Figure size 432x288 with 1 Axes>"
      ]
     },
     "metadata": {
      "needs_background": "light"
     },
     "output_type": "display_data"
    },
    {
     "name": "stdout",
     "output_type": "stream",
     "text": [
      "__________________________________________________________________________________________________________________\n",
      "accuracy scores:-  79.88641741599622 %\n",
      "__________________________________________________________________________________________________________________\n",
      "confusion matrix:-  [[1376  163]\n",
      " [ 262  312]]\n",
      "__________________________________________________________________________________________________________________\n"
     ]
    }
   ],
   "source": [
    "NN_roc_auc = roc_auc_score(Y_test, mlp.predict(X_test))\n",
    "fpr, tpr, thresholds = roc_curve(Y_test, mlp.predict_proba(X_test)[:,1])\n",
    "plt.figure()\n",
    "plt.plot(fpr, tpr, label='Decision Tree (area = %0.2f)' % NN_roc_auc)\n",
    "plt.plot([0, 1], [0, 1],'r--')\n",
    "plt.xlim([0.0, 1.0])\n",
    "plt.ylim([0.0, 1.05])\n",
    "plt.xlabel('False Positive Rate')\n",
    "plt.ylabel('True Positive Rate')\n",
    "plt.title('Receiver operating characteristic')\n",
    "plt.legend(loc=\"lower right\")\n",
    "plt.savefig('Log_ROC')\n",
    "plt.show()\n",
    "#--------------------------------------------------------------------------------------------------------------------------\n",
    "print(\"__________________________________________________________________________________________________________________\")\n",
    "print(\"accuracy scores:- \",NN_ACC*100,\"%\")\n",
    "print(\"__________________________________________________________________________________________________________________\")\n",
    "print(\"confusion matrix:- \",NN_CON)\n",
    "print(\"__________________________________________________________________________________________________________________\")"
   ]
  },
  {
   "cell_type": "markdown",
   "metadata": {},
   "source": [
    "### Final Conclusions"
   ]
  },
  {
   "cell_type": "markdown",
   "metadata": {},
   "source": [
    "1) Logistic Regression have high accuracy score and can be used to predict as it have high accuracy score.\n",
    "\n",
    "2) As the 0.73 or 73% of area are under ROC curve which is maximum compaired to the rest of the other models.   \n",
    "\n",
    "3) As we have found Logistic Regression to be the best binary Classification model as per the data i have and it also having good accuracy rate around 80.359% therefore we can use this model to predict the possible churn and can make possible action to prevent the churn of customer using different methodology, promotional and other way to retain the customer for long with the service provider.\n",
    "\n"
   ]
  },
  {
   "cell_type": "markdown",
   "metadata": {},
   "source": [
    "# Answer related to questions: -"
   ]
  },
  {
   "cell_type": "markdown",
   "metadata": {},
   "source": [
    "1) For Data cleaning including missing values, outliers i used sklearns preprocessing library Imputer package to transformer classes to change raw feature vectors into a representation that is more suitable In general, learning algorithms benefit from standardization of the data set. If some outliers are present in the set, robust scalers or transformers are more appropriate. \n",
    "\n",
    "   In order to find multi-collinearity i made coorealtion matrix. The one with no or little coorelation between the other    features are the one which i considered to build model or having high correlation are to to elliminated. In order to ease the process i draw the heat map to come up with easy and faster way to find the one which have high correlation. \n",
    "   \n",
    "   \n",
    "   Describetion:- There are many variables which have prediction importance like gender, generation, Partner, dependent, internetservice etc. collectively there are total of 20 features including customer id.   \n",
    "   \n",
    "   Selection of variables can be done based on the the results of coorelation matrix the one with less or no coorelation. \n",
    "\n",
    "2) Performance of the model is been demonstration above.\n",
    "\n",
    "3) Key factors that predict customer churn are of one with little or no correlation with other variable. Like gender, partner, dependent, internetservices etc. excluting the few which i droped as a part of multi-collinearity.\n",
    "\n",
    "4) Offers like moviestreamings coupans, offers can be given to the youngesters, coupans on tv-streming etc.\n",
    "\n",
    "5) This can be determined using changing the variable with the new and updated one and then we can be remodeled the model using the new data and then repeating the same process of model evaluation if it gives better results than we can say that the changes made are effectives and can be implemented to solve/overcome the churn percentage.\n"
   ]
  }
 ],
 "metadata": {
  "kernelspec": {
   "display_name": "Python 3",
   "language": "python",
   "name": "python3"
  },
  "language_info": {
   "codemirror_mode": {
    "name": "ipython",
    "version": 3
   },
   "file_extension": ".py",
   "mimetype": "text/x-python",
   "name": "python",
   "nbconvert_exporter": "python",
   "pygments_lexer": "ipython3",
   "version": "3.7.1"
  }
 },
 "nbformat": 4,
 "nbformat_minor": 2
}
