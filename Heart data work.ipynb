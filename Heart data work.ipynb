{
 "cells": [
  {
   "cell_type": "code",
   "execution_count": 55,
   "metadata": {},
   "outputs": [],
   "source": [
    "import numpy as np\n",
    "import pandas as pd\n",
    "import matplotlib.pyplot as plt\n",
    "import seaborn as sns"
   ]
  },
  {
   "cell_type": "code",
   "execution_count": 56,
   "metadata": {},
   "outputs": [],
   "source": [
    "df = pd.read_csv(\"./heart.csv\")"
   ]
  },
  {
   "cell_type": "code",
   "execution_count": 57,
   "metadata": {},
   "outputs": [
    {
     "data": {
      "text/html": [
       "<div>\n",
       "<style scoped>\n",
       "    .dataframe tbody tr th:only-of-type {\n",
       "        vertical-align: middle;\n",
       "    }\n",
       "\n",
       "    .dataframe tbody tr th {\n",
       "        vertical-align: top;\n",
       "    }\n",
       "\n",
       "    .dataframe thead th {\n",
       "        text-align: right;\n",
       "    }\n",
       "</style>\n",
       "<table border=\"1\" class=\"dataframe\">\n",
       "  <thead>\n",
       "    <tr style=\"text-align: right;\">\n",
       "      <th></th>\n",
       "      <th>age</th>\n",
       "      <th>sex</th>\n",
       "      <th>cp</th>\n",
       "      <th>trestbps</th>\n",
       "      <th>chol</th>\n",
       "      <th>fbs</th>\n",
       "      <th>restecg</th>\n",
       "      <th>thalach</th>\n",
       "      <th>exang</th>\n",
       "      <th>oldpeak</th>\n",
       "      <th>slope</th>\n",
       "      <th>ca</th>\n",
       "      <th>thal</th>\n",
       "      <th>target</th>\n",
       "    </tr>\n",
       "  </thead>\n",
       "  <tbody>\n",
       "    <tr>\n",
       "      <th>0</th>\n",
       "      <td>63</td>\n",
       "      <td>1</td>\n",
       "      <td>3</td>\n",
       "      <td>145</td>\n",
       "      <td>233</td>\n",
       "      <td>1</td>\n",
       "      <td>0</td>\n",
       "      <td>150</td>\n",
       "      <td>0</td>\n",
       "      <td>2.3</td>\n",
       "      <td>0</td>\n",
       "      <td>0</td>\n",
       "      <td>1</td>\n",
       "      <td>1</td>\n",
       "    </tr>\n",
       "    <tr>\n",
       "      <th>1</th>\n",
       "      <td>37</td>\n",
       "      <td>1</td>\n",
       "      <td>2</td>\n",
       "      <td>130</td>\n",
       "      <td>250</td>\n",
       "      <td>0</td>\n",
       "      <td>1</td>\n",
       "      <td>187</td>\n",
       "      <td>0</td>\n",
       "      <td>3.5</td>\n",
       "      <td>0</td>\n",
       "      <td>0</td>\n",
       "      <td>2</td>\n",
       "      <td>1</td>\n",
       "    </tr>\n",
       "    <tr>\n",
       "      <th>2</th>\n",
       "      <td>41</td>\n",
       "      <td>0</td>\n",
       "      <td>1</td>\n",
       "      <td>130</td>\n",
       "      <td>204</td>\n",
       "      <td>0</td>\n",
       "      <td>0</td>\n",
       "      <td>172</td>\n",
       "      <td>0</td>\n",
       "      <td>1.4</td>\n",
       "      <td>2</td>\n",
       "      <td>0</td>\n",
       "      <td>2</td>\n",
       "      <td>1</td>\n",
       "    </tr>\n",
       "    <tr>\n",
       "      <th>3</th>\n",
       "      <td>56</td>\n",
       "      <td>1</td>\n",
       "      <td>1</td>\n",
       "      <td>120</td>\n",
       "      <td>236</td>\n",
       "      <td>0</td>\n",
       "      <td>1</td>\n",
       "      <td>178</td>\n",
       "      <td>0</td>\n",
       "      <td>0.8</td>\n",
       "      <td>2</td>\n",
       "      <td>0</td>\n",
       "      <td>2</td>\n",
       "      <td>1</td>\n",
       "    </tr>\n",
       "    <tr>\n",
       "      <th>4</th>\n",
       "      <td>57</td>\n",
       "      <td>0</td>\n",
       "      <td>0</td>\n",
       "      <td>120</td>\n",
       "      <td>354</td>\n",
       "      <td>0</td>\n",
       "      <td>1</td>\n",
       "      <td>163</td>\n",
       "      <td>1</td>\n",
       "      <td>0.6</td>\n",
       "      <td>2</td>\n",
       "      <td>0</td>\n",
       "      <td>2</td>\n",
       "      <td>1</td>\n",
       "    </tr>\n",
       "  </tbody>\n",
       "</table>\n",
       "</div>"
      ],
      "text/plain": [
       "   age  sex  cp  trestbps  chol  fbs  restecg  thalach  exang  oldpeak  slope  \\\n",
       "0   63    1   3       145   233    1        0      150      0      2.3      0   \n",
       "1   37    1   2       130   250    0        1      187      0      3.5      0   \n",
       "2   41    0   1       130   204    0        0      172      0      1.4      2   \n",
       "3   56    1   1       120   236    0        1      178      0      0.8      2   \n",
       "4   57    0   0       120   354    0        1      163      1      0.6      2   \n",
       "\n",
       "   ca  thal  target  \n",
       "0   0     1       1  \n",
       "1   0     2       1  \n",
       "2   0     2       1  \n",
       "3   0     2       1  \n",
       "4   0     2       1  "
      ]
     },
     "execution_count": 57,
     "metadata": {},
     "output_type": "execute_result"
    }
   ],
   "source": [
    "df.head()"
   ]
  },
  {
   "cell_type": "code",
   "execution_count": 58,
   "metadata": {},
   "outputs": [
    {
     "name": "stdout",
     "output_type": "stream",
     "text": [
      "<class 'pandas.core.frame.DataFrame'>\n",
      "RangeIndex: 303 entries, 0 to 302\n",
      "Data columns (total 14 columns):\n",
      "age         303 non-null int64\n",
      "sex         303 non-null int64\n",
      "cp          303 non-null int64\n",
      "trestbps    303 non-null int64\n",
      "chol        303 non-null int64\n",
      "fbs         303 non-null int64\n",
      "restecg     303 non-null int64\n",
      "thalach     303 non-null int64\n",
      "exang       303 non-null int64\n",
      "oldpeak     303 non-null float64\n",
      "slope       303 non-null int64\n",
      "ca          303 non-null int64\n",
      "thal        303 non-null int64\n",
      "target      303 non-null int64\n",
      "dtypes: float64(1), int64(13)\n",
      "memory usage: 33.2 KB\n"
     ]
    }
   ],
   "source": [
    "df.info()"
   ]
  },
  {
   "cell_type": "code",
   "execution_count": 59,
   "metadata": {},
   "outputs": [
    {
     "data": {
      "text/html": [
       "<div>\n",
       "<style scoped>\n",
       "    .dataframe tbody tr th:only-of-type {\n",
       "        vertical-align: middle;\n",
       "    }\n",
       "\n",
       "    .dataframe tbody tr th {\n",
       "        vertical-align: top;\n",
       "    }\n",
       "\n",
       "    .dataframe thead th {\n",
       "        text-align: right;\n",
       "    }\n",
       "</style>\n",
       "<table border=\"1\" class=\"dataframe\">\n",
       "  <thead>\n",
       "    <tr style=\"text-align: right;\">\n",
       "      <th></th>\n",
       "      <th>age</th>\n",
       "      <th>sex</th>\n",
       "      <th>cp</th>\n",
       "      <th>trestbps</th>\n",
       "      <th>chol</th>\n",
       "      <th>fbs</th>\n",
       "      <th>restecg</th>\n",
       "      <th>thalach</th>\n",
       "      <th>exang</th>\n",
       "      <th>oldpeak</th>\n",
       "      <th>slope</th>\n",
       "      <th>ca</th>\n",
       "      <th>thal</th>\n",
       "      <th>target</th>\n",
       "    </tr>\n",
       "  </thead>\n",
       "  <tbody>\n",
       "    <tr>\n",
       "      <th>count</th>\n",
       "      <td>303.000000</td>\n",
       "      <td>303.000000</td>\n",
       "      <td>303.000000</td>\n",
       "      <td>303.000000</td>\n",
       "      <td>303.000000</td>\n",
       "      <td>303.000000</td>\n",
       "      <td>303.000000</td>\n",
       "      <td>303.000000</td>\n",
       "      <td>303.000000</td>\n",
       "      <td>303.000000</td>\n",
       "      <td>303.000000</td>\n",
       "      <td>303.000000</td>\n",
       "      <td>303.000000</td>\n",
       "      <td>303.000000</td>\n",
       "    </tr>\n",
       "    <tr>\n",
       "      <th>mean</th>\n",
       "      <td>54.366337</td>\n",
       "      <td>0.683168</td>\n",
       "      <td>0.966997</td>\n",
       "      <td>131.623762</td>\n",
       "      <td>246.264026</td>\n",
       "      <td>0.148515</td>\n",
       "      <td>0.528053</td>\n",
       "      <td>149.646865</td>\n",
       "      <td>0.326733</td>\n",
       "      <td>1.039604</td>\n",
       "      <td>1.399340</td>\n",
       "      <td>0.729373</td>\n",
       "      <td>2.313531</td>\n",
       "      <td>0.544554</td>\n",
       "    </tr>\n",
       "    <tr>\n",
       "      <th>std</th>\n",
       "      <td>9.082101</td>\n",
       "      <td>0.466011</td>\n",
       "      <td>1.032052</td>\n",
       "      <td>17.538143</td>\n",
       "      <td>51.830751</td>\n",
       "      <td>0.356198</td>\n",
       "      <td>0.525860</td>\n",
       "      <td>22.905161</td>\n",
       "      <td>0.469794</td>\n",
       "      <td>1.161075</td>\n",
       "      <td>0.616226</td>\n",
       "      <td>1.022606</td>\n",
       "      <td>0.612277</td>\n",
       "      <td>0.498835</td>\n",
       "    </tr>\n",
       "    <tr>\n",
       "      <th>min</th>\n",
       "      <td>29.000000</td>\n",
       "      <td>0.000000</td>\n",
       "      <td>0.000000</td>\n",
       "      <td>94.000000</td>\n",
       "      <td>126.000000</td>\n",
       "      <td>0.000000</td>\n",
       "      <td>0.000000</td>\n",
       "      <td>71.000000</td>\n",
       "      <td>0.000000</td>\n",
       "      <td>0.000000</td>\n",
       "      <td>0.000000</td>\n",
       "      <td>0.000000</td>\n",
       "      <td>0.000000</td>\n",
       "      <td>0.000000</td>\n",
       "    </tr>\n",
       "    <tr>\n",
       "      <th>25%</th>\n",
       "      <td>47.500000</td>\n",
       "      <td>0.000000</td>\n",
       "      <td>0.000000</td>\n",
       "      <td>120.000000</td>\n",
       "      <td>211.000000</td>\n",
       "      <td>0.000000</td>\n",
       "      <td>0.000000</td>\n",
       "      <td>133.500000</td>\n",
       "      <td>0.000000</td>\n",
       "      <td>0.000000</td>\n",
       "      <td>1.000000</td>\n",
       "      <td>0.000000</td>\n",
       "      <td>2.000000</td>\n",
       "      <td>0.000000</td>\n",
       "    </tr>\n",
       "    <tr>\n",
       "      <th>50%</th>\n",
       "      <td>55.000000</td>\n",
       "      <td>1.000000</td>\n",
       "      <td>1.000000</td>\n",
       "      <td>130.000000</td>\n",
       "      <td>240.000000</td>\n",
       "      <td>0.000000</td>\n",
       "      <td>1.000000</td>\n",
       "      <td>153.000000</td>\n",
       "      <td>0.000000</td>\n",
       "      <td>0.800000</td>\n",
       "      <td>1.000000</td>\n",
       "      <td>0.000000</td>\n",
       "      <td>2.000000</td>\n",
       "      <td>1.000000</td>\n",
       "    </tr>\n",
       "    <tr>\n",
       "      <th>75%</th>\n",
       "      <td>61.000000</td>\n",
       "      <td>1.000000</td>\n",
       "      <td>2.000000</td>\n",
       "      <td>140.000000</td>\n",
       "      <td>274.500000</td>\n",
       "      <td>0.000000</td>\n",
       "      <td>1.000000</td>\n",
       "      <td>166.000000</td>\n",
       "      <td>1.000000</td>\n",
       "      <td>1.600000</td>\n",
       "      <td>2.000000</td>\n",
       "      <td>1.000000</td>\n",
       "      <td>3.000000</td>\n",
       "      <td>1.000000</td>\n",
       "    </tr>\n",
       "    <tr>\n",
       "      <th>max</th>\n",
       "      <td>77.000000</td>\n",
       "      <td>1.000000</td>\n",
       "      <td>3.000000</td>\n",
       "      <td>200.000000</td>\n",
       "      <td>564.000000</td>\n",
       "      <td>1.000000</td>\n",
       "      <td>2.000000</td>\n",
       "      <td>202.000000</td>\n",
       "      <td>1.000000</td>\n",
       "      <td>6.200000</td>\n",
       "      <td>2.000000</td>\n",
       "      <td>4.000000</td>\n",
       "      <td>3.000000</td>\n",
       "      <td>1.000000</td>\n",
       "    </tr>\n",
       "  </tbody>\n",
       "</table>\n",
       "</div>"
      ],
      "text/plain": [
       "              age         sex          cp    trestbps        chol         fbs  \\\n",
       "count  303.000000  303.000000  303.000000  303.000000  303.000000  303.000000   \n",
       "mean    54.366337    0.683168    0.966997  131.623762  246.264026    0.148515   \n",
       "std      9.082101    0.466011    1.032052   17.538143   51.830751    0.356198   \n",
       "min     29.000000    0.000000    0.000000   94.000000  126.000000    0.000000   \n",
       "25%     47.500000    0.000000    0.000000  120.000000  211.000000    0.000000   \n",
       "50%     55.000000    1.000000    1.000000  130.000000  240.000000    0.000000   \n",
       "75%     61.000000    1.000000    2.000000  140.000000  274.500000    0.000000   \n",
       "max     77.000000    1.000000    3.000000  200.000000  564.000000    1.000000   \n",
       "\n",
       "          restecg     thalach       exang     oldpeak       slope          ca  \\\n",
       "count  303.000000  303.000000  303.000000  303.000000  303.000000  303.000000   \n",
       "mean     0.528053  149.646865    0.326733    1.039604    1.399340    0.729373   \n",
       "std      0.525860   22.905161    0.469794    1.161075    0.616226    1.022606   \n",
       "min      0.000000   71.000000    0.000000    0.000000    0.000000    0.000000   \n",
       "25%      0.000000  133.500000    0.000000    0.000000    1.000000    0.000000   \n",
       "50%      1.000000  153.000000    0.000000    0.800000    1.000000    0.000000   \n",
       "75%      1.000000  166.000000    1.000000    1.600000    2.000000    1.000000   \n",
       "max      2.000000  202.000000    1.000000    6.200000    2.000000    4.000000   \n",
       "\n",
       "             thal      target  \n",
       "count  303.000000  303.000000  \n",
       "mean     2.313531    0.544554  \n",
       "std      0.612277    0.498835  \n",
       "min      0.000000    0.000000  \n",
       "25%      2.000000    0.000000  \n",
       "50%      2.000000    1.000000  \n",
       "75%      3.000000    1.000000  \n",
       "max      3.000000    1.000000  "
      ]
     },
     "execution_count": 59,
     "metadata": {},
     "output_type": "execute_result"
    }
   ],
   "source": [
    "df.describe()"
   ]
  },
  {
   "cell_type": "code",
   "execution_count": 60,
   "metadata": {},
   "outputs": [
    {
     "data": {
      "text/plain": [
       "(303, 14)"
      ]
     },
     "execution_count": 60,
     "metadata": {},
     "output_type": "execute_result"
    }
   ],
   "source": [
    "df.shape"
   ]
  },
  {
   "cell_type": "code",
   "execution_count": 61,
   "metadata": {},
   "outputs": [
    {
     "data": {
      "text/html": [
       "<div>\n",
       "<style scoped>\n",
       "    .dataframe tbody tr th:only-of-type {\n",
       "        vertical-align: middle;\n",
       "    }\n",
       "\n",
       "    .dataframe tbody tr th {\n",
       "        vertical-align: top;\n",
       "    }\n",
       "\n",
       "    .dataframe thead th {\n",
       "        text-align: right;\n",
       "    }\n",
       "</style>\n",
       "<table border=\"1\" class=\"dataframe\">\n",
       "  <thead>\n",
       "    <tr style=\"text-align: right;\">\n",
       "      <th></th>\n",
       "      <th>age</th>\n",
       "      <th>sex</th>\n",
       "      <th>cp</th>\n",
       "      <th>trestbps</th>\n",
       "      <th>chol</th>\n",
       "      <th>fbs</th>\n",
       "      <th>restecg</th>\n",
       "      <th>thalach</th>\n",
       "      <th>exang</th>\n",
       "      <th>oldpeak</th>\n",
       "      <th>slope</th>\n",
       "      <th>ca</th>\n",
       "      <th>thal</th>\n",
       "      <th>target</th>\n",
       "    </tr>\n",
       "  </thead>\n",
       "  <tbody>\n",
       "    <tr>\n",
       "      <th>age</th>\n",
       "      <td>1.000000</td>\n",
       "      <td>-0.098447</td>\n",
       "      <td>-0.068653</td>\n",
       "      <td>0.279351</td>\n",
       "      <td>0.213678</td>\n",
       "      <td>0.121308</td>\n",
       "      <td>-0.116211</td>\n",
       "      <td>-0.398522</td>\n",
       "      <td>0.096801</td>\n",
       "      <td>0.210013</td>\n",
       "      <td>-0.168814</td>\n",
       "      <td>0.276326</td>\n",
       "      <td>0.068001</td>\n",
       "      <td>-0.225439</td>\n",
       "    </tr>\n",
       "    <tr>\n",
       "      <th>sex</th>\n",
       "      <td>-0.098447</td>\n",
       "      <td>1.000000</td>\n",
       "      <td>-0.049353</td>\n",
       "      <td>-0.056769</td>\n",
       "      <td>-0.197912</td>\n",
       "      <td>0.045032</td>\n",
       "      <td>-0.058196</td>\n",
       "      <td>-0.044020</td>\n",
       "      <td>0.141664</td>\n",
       "      <td>0.096093</td>\n",
       "      <td>-0.030711</td>\n",
       "      <td>0.118261</td>\n",
       "      <td>0.210041</td>\n",
       "      <td>-0.280937</td>\n",
       "    </tr>\n",
       "    <tr>\n",
       "      <th>cp</th>\n",
       "      <td>-0.068653</td>\n",
       "      <td>-0.049353</td>\n",
       "      <td>1.000000</td>\n",
       "      <td>0.047608</td>\n",
       "      <td>-0.076904</td>\n",
       "      <td>0.094444</td>\n",
       "      <td>0.044421</td>\n",
       "      <td>0.295762</td>\n",
       "      <td>-0.394280</td>\n",
       "      <td>-0.149230</td>\n",
       "      <td>0.119717</td>\n",
       "      <td>-0.181053</td>\n",
       "      <td>-0.161736</td>\n",
       "      <td>0.433798</td>\n",
       "    </tr>\n",
       "    <tr>\n",
       "      <th>trestbps</th>\n",
       "      <td>0.279351</td>\n",
       "      <td>-0.056769</td>\n",
       "      <td>0.047608</td>\n",
       "      <td>1.000000</td>\n",
       "      <td>0.123174</td>\n",
       "      <td>0.177531</td>\n",
       "      <td>-0.114103</td>\n",
       "      <td>-0.046698</td>\n",
       "      <td>0.067616</td>\n",
       "      <td>0.193216</td>\n",
       "      <td>-0.121475</td>\n",
       "      <td>0.101389</td>\n",
       "      <td>0.062210</td>\n",
       "      <td>-0.144931</td>\n",
       "    </tr>\n",
       "    <tr>\n",
       "      <th>chol</th>\n",
       "      <td>0.213678</td>\n",
       "      <td>-0.197912</td>\n",
       "      <td>-0.076904</td>\n",
       "      <td>0.123174</td>\n",
       "      <td>1.000000</td>\n",
       "      <td>0.013294</td>\n",
       "      <td>-0.151040</td>\n",
       "      <td>-0.009940</td>\n",
       "      <td>0.067023</td>\n",
       "      <td>0.053952</td>\n",
       "      <td>-0.004038</td>\n",
       "      <td>0.070511</td>\n",
       "      <td>0.098803</td>\n",
       "      <td>-0.085239</td>\n",
       "    </tr>\n",
       "    <tr>\n",
       "      <th>fbs</th>\n",
       "      <td>0.121308</td>\n",
       "      <td>0.045032</td>\n",
       "      <td>0.094444</td>\n",
       "      <td>0.177531</td>\n",
       "      <td>0.013294</td>\n",
       "      <td>1.000000</td>\n",
       "      <td>-0.084189</td>\n",
       "      <td>-0.008567</td>\n",
       "      <td>0.025665</td>\n",
       "      <td>0.005747</td>\n",
       "      <td>-0.059894</td>\n",
       "      <td>0.137979</td>\n",
       "      <td>-0.032019</td>\n",
       "      <td>-0.028046</td>\n",
       "    </tr>\n",
       "    <tr>\n",
       "      <th>restecg</th>\n",
       "      <td>-0.116211</td>\n",
       "      <td>-0.058196</td>\n",
       "      <td>0.044421</td>\n",
       "      <td>-0.114103</td>\n",
       "      <td>-0.151040</td>\n",
       "      <td>-0.084189</td>\n",
       "      <td>1.000000</td>\n",
       "      <td>0.044123</td>\n",
       "      <td>-0.070733</td>\n",
       "      <td>-0.058770</td>\n",
       "      <td>0.093045</td>\n",
       "      <td>-0.072042</td>\n",
       "      <td>-0.011981</td>\n",
       "      <td>0.137230</td>\n",
       "    </tr>\n",
       "    <tr>\n",
       "      <th>thalach</th>\n",
       "      <td>-0.398522</td>\n",
       "      <td>-0.044020</td>\n",
       "      <td>0.295762</td>\n",
       "      <td>-0.046698</td>\n",
       "      <td>-0.009940</td>\n",
       "      <td>-0.008567</td>\n",
       "      <td>0.044123</td>\n",
       "      <td>1.000000</td>\n",
       "      <td>-0.378812</td>\n",
       "      <td>-0.344187</td>\n",
       "      <td>0.386784</td>\n",
       "      <td>-0.213177</td>\n",
       "      <td>-0.096439</td>\n",
       "      <td>0.421741</td>\n",
       "    </tr>\n",
       "    <tr>\n",
       "      <th>exang</th>\n",
       "      <td>0.096801</td>\n",
       "      <td>0.141664</td>\n",
       "      <td>-0.394280</td>\n",
       "      <td>0.067616</td>\n",
       "      <td>0.067023</td>\n",
       "      <td>0.025665</td>\n",
       "      <td>-0.070733</td>\n",
       "      <td>-0.378812</td>\n",
       "      <td>1.000000</td>\n",
       "      <td>0.288223</td>\n",
       "      <td>-0.257748</td>\n",
       "      <td>0.115739</td>\n",
       "      <td>0.206754</td>\n",
       "      <td>-0.436757</td>\n",
       "    </tr>\n",
       "    <tr>\n",
       "      <th>oldpeak</th>\n",
       "      <td>0.210013</td>\n",
       "      <td>0.096093</td>\n",
       "      <td>-0.149230</td>\n",
       "      <td>0.193216</td>\n",
       "      <td>0.053952</td>\n",
       "      <td>0.005747</td>\n",
       "      <td>-0.058770</td>\n",
       "      <td>-0.344187</td>\n",
       "      <td>0.288223</td>\n",
       "      <td>1.000000</td>\n",
       "      <td>-0.577537</td>\n",
       "      <td>0.222682</td>\n",
       "      <td>0.210244</td>\n",
       "      <td>-0.430696</td>\n",
       "    </tr>\n",
       "    <tr>\n",
       "      <th>slope</th>\n",
       "      <td>-0.168814</td>\n",
       "      <td>-0.030711</td>\n",
       "      <td>0.119717</td>\n",
       "      <td>-0.121475</td>\n",
       "      <td>-0.004038</td>\n",
       "      <td>-0.059894</td>\n",
       "      <td>0.093045</td>\n",
       "      <td>0.386784</td>\n",
       "      <td>-0.257748</td>\n",
       "      <td>-0.577537</td>\n",
       "      <td>1.000000</td>\n",
       "      <td>-0.080155</td>\n",
       "      <td>-0.104764</td>\n",
       "      <td>0.345877</td>\n",
       "    </tr>\n",
       "    <tr>\n",
       "      <th>ca</th>\n",
       "      <td>0.276326</td>\n",
       "      <td>0.118261</td>\n",
       "      <td>-0.181053</td>\n",
       "      <td>0.101389</td>\n",
       "      <td>0.070511</td>\n",
       "      <td>0.137979</td>\n",
       "      <td>-0.072042</td>\n",
       "      <td>-0.213177</td>\n",
       "      <td>0.115739</td>\n",
       "      <td>0.222682</td>\n",
       "      <td>-0.080155</td>\n",
       "      <td>1.000000</td>\n",
       "      <td>0.151832</td>\n",
       "      <td>-0.391724</td>\n",
       "    </tr>\n",
       "    <tr>\n",
       "      <th>thal</th>\n",
       "      <td>0.068001</td>\n",
       "      <td>0.210041</td>\n",
       "      <td>-0.161736</td>\n",
       "      <td>0.062210</td>\n",
       "      <td>0.098803</td>\n",
       "      <td>-0.032019</td>\n",
       "      <td>-0.011981</td>\n",
       "      <td>-0.096439</td>\n",
       "      <td>0.206754</td>\n",
       "      <td>0.210244</td>\n",
       "      <td>-0.104764</td>\n",
       "      <td>0.151832</td>\n",
       "      <td>1.000000</td>\n",
       "      <td>-0.344029</td>\n",
       "    </tr>\n",
       "    <tr>\n",
       "      <th>target</th>\n",
       "      <td>-0.225439</td>\n",
       "      <td>-0.280937</td>\n",
       "      <td>0.433798</td>\n",
       "      <td>-0.144931</td>\n",
       "      <td>-0.085239</td>\n",
       "      <td>-0.028046</td>\n",
       "      <td>0.137230</td>\n",
       "      <td>0.421741</td>\n",
       "      <td>-0.436757</td>\n",
       "      <td>-0.430696</td>\n",
       "      <td>0.345877</td>\n",
       "      <td>-0.391724</td>\n",
       "      <td>-0.344029</td>\n",
       "      <td>1.000000</td>\n",
       "    </tr>\n",
       "  </tbody>\n",
       "</table>\n",
       "</div>"
      ],
      "text/plain": [
       "               age       sex        cp  trestbps      chol       fbs  \\\n",
       "age       1.000000 -0.098447 -0.068653  0.279351  0.213678  0.121308   \n",
       "sex      -0.098447  1.000000 -0.049353 -0.056769 -0.197912  0.045032   \n",
       "cp       -0.068653 -0.049353  1.000000  0.047608 -0.076904  0.094444   \n",
       "trestbps  0.279351 -0.056769  0.047608  1.000000  0.123174  0.177531   \n",
       "chol      0.213678 -0.197912 -0.076904  0.123174  1.000000  0.013294   \n",
       "fbs       0.121308  0.045032  0.094444  0.177531  0.013294  1.000000   \n",
       "restecg  -0.116211 -0.058196  0.044421 -0.114103 -0.151040 -0.084189   \n",
       "thalach  -0.398522 -0.044020  0.295762 -0.046698 -0.009940 -0.008567   \n",
       "exang     0.096801  0.141664 -0.394280  0.067616  0.067023  0.025665   \n",
       "oldpeak   0.210013  0.096093 -0.149230  0.193216  0.053952  0.005747   \n",
       "slope    -0.168814 -0.030711  0.119717 -0.121475 -0.004038 -0.059894   \n",
       "ca        0.276326  0.118261 -0.181053  0.101389  0.070511  0.137979   \n",
       "thal      0.068001  0.210041 -0.161736  0.062210  0.098803 -0.032019   \n",
       "target   -0.225439 -0.280937  0.433798 -0.144931 -0.085239 -0.028046   \n",
       "\n",
       "           restecg   thalach     exang   oldpeak     slope        ca  \\\n",
       "age      -0.116211 -0.398522  0.096801  0.210013 -0.168814  0.276326   \n",
       "sex      -0.058196 -0.044020  0.141664  0.096093 -0.030711  0.118261   \n",
       "cp        0.044421  0.295762 -0.394280 -0.149230  0.119717 -0.181053   \n",
       "trestbps -0.114103 -0.046698  0.067616  0.193216 -0.121475  0.101389   \n",
       "chol     -0.151040 -0.009940  0.067023  0.053952 -0.004038  0.070511   \n",
       "fbs      -0.084189 -0.008567  0.025665  0.005747 -0.059894  0.137979   \n",
       "restecg   1.000000  0.044123 -0.070733 -0.058770  0.093045 -0.072042   \n",
       "thalach   0.044123  1.000000 -0.378812 -0.344187  0.386784 -0.213177   \n",
       "exang    -0.070733 -0.378812  1.000000  0.288223 -0.257748  0.115739   \n",
       "oldpeak  -0.058770 -0.344187  0.288223  1.000000 -0.577537  0.222682   \n",
       "slope     0.093045  0.386784 -0.257748 -0.577537  1.000000 -0.080155   \n",
       "ca       -0.072042 -0.213177  0.115739  0.222682 -0.080155  1.000000   \n",
       "thal     -0.011981 -0.096439  0.206754  0.210244 -0.104764  0.151832   \n",
       "target    0.137230  0.421741 -0.436757 -0.430696  0.345877 -0.391724   \n",
       "\n",
       "              thal    target  \n",
       "age       0.068001 -0.225439  \n",
       "sex       0.210041 -0.280937  \n",
       "cp       -0.161736  0.433798  \n",
       "trestbps  0.062210 -0.144931  \n",
       "chol      0.098803 -0.085239  \n",
       "fbs      -0.032019 -0.028046  \n",
       "restecg  -0.011981  0.137230  \n",
       "thalach  -0.096439  0.421741  \n",
       "exang     0.206754 -0.436757  \n",
       "oldpeak   0.210244 -0.430696  \n",
       "slope    -0.104764  0.345877  \n",
       "ca        0.151832 -0.391724  \n",
       "thal      1.000000 -0.344029  \n",
       "target   -0.344029  1.000000  "
      ]
     },
     "execution_count": 61,
     "metadata": {},
     "output_type": "execute_result"
    }
   ],
   "source": [
    "df.corr()"
   ]
  },
  {
   "cell_type": "code",
   "execution_count": 63,
   "metadata": {},
   "outputs": [
    {
     "data": {
      "image/png": "[encoded data removed]",
      "text/plain": [
       "<Figure size 1080x1080 with 2 Axes>"
      ]
     },
     "metadata": {
      "needs_background": "light"
     },
     "output_type": "display_data"
    }
   ],
   "source": [
    "corrmat = df.corr()\n",
    "top_corr_features = corrmat.index\n",
    "plt.figure(figsize=(15,15))\n",
    "#plot heat map\n",
    "g=sns.heatmap(df[top_corr_features].corr(),annot=True,cmap=\"RdYlGn\")"
   ]
  },
  {
   "cell_type": "code",
   "execution_count": 21,
   "metadata": {},
   "outputs": [
    {
     "data": {
      "image/png": "[encoded data removed]",
      "text/plain": [
       "<Figure size 432x288 with 2 Axes>"
      ]
     },
     "metadata": {
      "needs_background": "light"
     },
     "output_type": "display_data"
    }
   ],
   "source": [
    "corr = df.corr()\n",
    "ax = sns.heatmap(\n",
    "    corr, \n",
    "    vmin=-1, vmax=1, center=0,\n",
    "    cmap=sns.diverging_palette(20, 220, n=200),\n",
    "    square=True\n",
    ")\n",
    "ax.set_xticklabels(\n",
    "    ax.get_xticklabels(),\n",
    "    rotation=100,\n",
    "    horizontalalignment='right'\n",
    ");\n"
   ]
  },
  {
   "cell_type": "code",
   "execution_count": 22,
   "metadata": {},
   "outputs": [],
   "source": [
    "\n",
    "\n",
    "\n",
    "\n",
    "#fig,ax = plt.subplots(figsize = (24,15))\n",
    "#sns.heatmap(df, annot = True, annot_kws = {\"size\":15})"
   ]
  },
  {
   "cell_type": "code",
   "execution_count": 23,
   "metadata": {},
   "outputs": [],
   "source": [
    "df = df.drop(['restecg','chol'], axis=1)"
   ]
  },
  {
   "cell_type": "code",
   "execution_count": 24,
   "metadata": {},
   "outputs": [
    {
     "data": {
      "image/png": "[encoded data removed]",
      "text/plain": [
       "<Figure size 432x288 with 1 Axes>"
      ]
     },
     "metadata": {
      "needs_background": "light"
     },
     "output_type": "display_data"
    },
    {
     "name": "stdout",
     "output_type": "stream",
     "text": [
      "54.366336633663366\n"
     ]
    }
   ],
   "source": [
    "plt.boxplot(df.age)\n",
    "plt.show()\n",
    "print(df.age.mean())"
   ]
  },
  {
   "cell_type": "code",
   "execution_count": 64,
   "metadata": {},
   "outputs": [
    {
     "name": "stderr",
     "output_type": "stream",
     "text": [
      "C:\\Users\\DELL.DESKTOP-C18N4A6\\Anaconda3\\lib\\site-packages\\seaborn\\categorical.py:3666: UserWarning: The `factorplot` function has been renamed to `catplot`. The original name will be removed in a future release. Please update your code. Note that the default `kind` in `factorplot` (`'point'`) has changed `'strip'` in `catplot`.\n",
      "  warnings.warn(msg)\n"
     ]
    },
    {
     "data": {
      "text/plain": [
       "<seaborn.axisgrid.FacetGrid at 0x1c4171b5160>"
      ]
     },
     "execution_count": 64,
     "metadata": {},
     "output_type": "execute_result"
    },
    {
     "data": {
      "image/png": "[encoded data removed]",
      "text/plain": [
       "<Figure size 360x360 with 1 Axes>"
      ]
     },
     "metadata": {
      "needs_background": "light"
     },
     "output_type": "display_data"
    }
   ],
   "source": [
    "#target\n",
    "sns.factorplot('target',data=df,kind='count')"
   ]
  },
  {
   "cell_type": "code",
   "execution_count": 69,
   "metadata": {},
   "outputs": [
    {
     "data": {
      "text/plain": [
       "303"
      ]
     },
     "execution_count": 69,
     "metadata": {},
     "output_type": "execute_result"
    }
   ],
   "source": [
    "df.target.count()"
   ]
  },
  {
   "cell_type": "code",
   "execution_count": 73,
   "metadata": {},
   "outputs": [
    {
     "data": {
      "text/plain": [
       "1    165\n",
       "0    138\n",
       "Name: target, dtype: int64"
      ]
     },
     "execution_count": 73,
     "metadata": {},
     "output_type": "execute_result"
    }
   ],
   "source": [
    "df.target.value_counts()"
   ]
  },
  {
   "cell_type": "code",
   "execution_count": 74,
   "metadata": {},
   "outputs": [
    {
     "data": {
      "text/plain": [
       "45.54455445544555"
      ]
     },
     "execution_count": 74,
     "metadata": {},
     "output_type": "execute_result"
    }
   ],
   "source": [
    "138/(165+138)*100"
   ]
  },
  {
   "cell_type": "code",
   "execution_count": 25,
   "metadata": {},
   "outputs": [
    {
     "name": "stderr",
     "output_type": "stream",
     "text": [
      "C:\\Users\\DELL.DESKTOP-C18N4A6\\Anaconda3\\lib\\site-packages\\seaborn\\categorical.py:3666: UserWarning: The `factorplot` function has been renamed to `catplot`. The original name will be removed in a future release. Please update your code. Note that the default `kind` in `factorplot` (`'point'`) has changed `'strip'` in `catplot`.\n",
      "  warnings.warn(msg)\n"
     ]
    },
    {
     "data": {
      "text/plain": [
       "<seaborn.axisgrid.FacetGrid at 0x1c4167976d8>"
      ]
     },
     "execution_count": 25,
     "metadata": {},
     "output_type": "execute_result"
    },
    {
     "data": {
      "image/png": "[encoded data removed]",
      "text/plain": [
       "<Figure size 360x360 with 1 Axes>"
      ]
     },
     "metadata": {
      "needs_background": "light"
     },
     "output_type": "display_data"
    }
   ],
   "source": [
    "sns.factorplot('sex',data=df,kind='count')"
   ]
  },
  {
   "cell_type": "code",
   "execution_count": 26,
   "metadata": {},
   "outputs": [
    {
     "data": {
      "text/plain": [
       "<seaborn.axisgrid.FacetGrid at 0x1c416770320>"
      ]
     },
     "execution_count": 26,
     "metadata": {},
     "output_type": "execute_result"
    },
    {
     "data": {
      "image/png": "[encoded data removed]",
      "text/plain": [
       "<Figure size 360x360 with 1 Axes>"
      ]
     },
     "metadata": {
      "needs_background": "light"
     },
     "output_type": "display_data"
    }
   ],
   "source": [
    "sns.factorplot('fbs',data=df,kind='count')"
   ]
  },
  {
   "cell_type": "code",
   "execution_count": 27,
   "metadata": {},
   "outputs": [
    {
     "data": {
      "text/plain": [
       "<seaborn.axisgrid.FacetGrid at 0x1c4140a8860>"
      ]
     },
     "execution_count": 27,
     "metadata": {},
     "output_type": "execute_result"
    },
    {
     "data": {
      "image/png": "[encoded data removed]",
      "text/plain": [
       "<Figure size 360x360 with 1 Axes>"
      ]
     },
     "metadata": {
      "needs_background": "light"
     },
     "output_type": "display_data"
    }
   ],
   "source": [
    "sns.factorplot('slope',data=df,kind='count')"
   ]
  },
  {
   "cell_type": "code",
   "execution_count": 28,
   "metadata": {},
   "outputs": [
    {
     "data": {
      "text/plain": [
       "<seaborn.axisgrid.FacetGrid at 0x1c4140a8208>"
      ]
     },
     "execution_count": 28,
     "metadata": {},
     "output_type": "execute_result"
    },
    {
     "data": {
      "image/png": "[encoded data removed]",
      "text/plain": [
       "<Figure size 360x360 with 1 Axes>"
      ]
     },
     "metadata": {
      "needs_background": "light"
     },
     "output_type": "display_data"
    }
   ],
   "source": [
    "sns.factorplot('thal',data=df,kind='count')"
   ]
  },
  {
   "cell_type": "code",
   "execution_count": null,
   "metadata": {},
   "outputs": [],
   "source": []
  },
  {
   "cell_type": "code",
   "execution_count": null,
   "metadata": {},
   "outputs": [],
   "source": []
  },
  {
   "cell_type": "code",
   "execution_count": 29,
   "metadata": {},
   "outputs": [],
   "source": [
    "#plt.boxplot(df.cp)\n",
    "#plt.show()\n",
    "#print(df.cp.mean())"
   ]
  },
  {
   "cell_type": "code",
   "execution_count": 30,
   "metadata": {},
   "outputs": [
    {
     "data": {
      "image/png": "[encoded data removed]",
      "text/plain": [
       "<Figure size 432x288 with 1 Axes>"
      ]
     },
     "metadata": {
      "needs_background": "light"
     },
     "output_type": "display_data"
    },
    {
     "name": "stdout",
     "output_type": "stream",
     "text": [
      "0.1485148514851485\n"
     ]
    }
   ],
   "source": [
    "plt.boxplot(df.fbs)\n",
    "plt.show()\n",
    "print(df.fbs.mean())"
   ]
  },
  {
   "cell_type": "code",
   "execution_count": 47,
   "metadata": {},
   "outputs": [
    {
     "data": {
      "text/plain": [
       "(303, 12)"
      ]
     },
     "execution_count": 47,
     "metadata": {},
     "output_type": "execute_result"
    }
   ],
   "source": [
    "#plt.boxplot(df.chol)\n",
    "#plt.show()\n",
    "#print(df.chol.mean())\n",
    "df.shape"
   ]
  },
  {
   "cell_type": "code",
   "execution_count": 32,
   "metadata": {},
   "outputs": [
    {
     "name": "stdout",
     "output_type": "stream",
     "text": [
      "(303, 11)\n",
      "__________________________________________________________________________________________________________________\n",
      "(303,)\n"
     ]
    }
   ],
   "source": [
    "X = df[list(df.columns)[0:-1]]\n",
    "Y = df[list(df.columns)[-1]]\n",
    "print(X.shape)\n",
    "print(\"__________________________________________________________________________________________________________________\")\n",
    "print(Y.shape)"
   ]
  },
  {
   "cell_type": "code",
   "execution_count": 33,
   "metadata": {},
   "outputs": [
    {
     "name": "stdout",
     "output_type": "stream",
     "text": [
      "(212, 11)\n",
      "__________________________________________________________________________________________________________________\n",
      "(91, 11)\n"
     ]
    }
   ],
   "source": [
    "from sklearn.model_selection import train_test_split\n",
    "X_train, X_test, Y_train, Y_test = train_test_split(X, Y, test_size=0.3, random_state=42)\n",
    "print(X_train.shape)\n",
    "print(\"__________________________________________________________________________________________________________________\")\n",
    "print(X_test.shape)"
   ]
  },
  {
   "cell_type": "code",
   "execution_count": 34,
   "metadata": {},
   "outputs": [],
   "source": [
    "from sklearn.preprocessing import StandardScaler\n",
    "scaler = StandardScaler()\n",
    "X_train = scaler.fit_transform(X_train)\n",
    "X_test = scaler.transform(X_test)"
   ]
  },
  {
   "cell_type": "code",
   "execution_count": 35,
   "metadata": {},
   "outputs": [
    {
     "data": {
      "text/plain": [
       "array([[ 0.28901314,  0.71713717, -0.9801628 , ..., -0.67796691,\n",
       "         0.37792709, -2.23530377],\n",
       "       [ 0.50705864,  0.71713717,  1.91929553, ..., -0.67796691,\n",
       "        -0.67629057,  1.13753893],\n",
       "       [ 0.28901314,  0.71713717,  0.95280942, ...,  0.955317  ,\n",
       "         0.37792709,  1.13753893],\n",
       "       ...,\n",
       "       [ 1.37924064, -1.39443338, -0.9801628 , ...,  0.955317  ,\n",
       "         1.43214475, -0.54888242],\n",
       "       [ 0.39803589,  0.71713717,  0.95280942, ..., -0.67796691,\n",
       "        -0.67629057,  1.13753893],\n",
       "       [ 2.36044538, -1.39443338,  0.95280942, ..., -0.67796691,\n",
       "        -0.67629057, -0.54888242]])"
      ]
     },
     "execution_count": 35,
     "metadata": {},
     "output_type": "execute_result"
    }
   ],
   "source": [
    "X_test"
   ]
  },
  {
   "cell_type": "code",
   "execution_count": 36,
   "metadata": {},
   "outputs": [
    {
     "name": "stdout",
     "output_type": "stream",
     "text": [
      "LogisticRegression(C=1.0, class_weight=None, dual=False, fit_intercept=True,\n",
      "                   intercept_scaling=1, l1_ratio=None, max_iter=100,\n",
      "                   multi_class='auto', n_jobs=None, penalty='l2',\n",
      "                   random_state=42, solver='lbfgs', tol=0.0001, verbose=0,\n",
      "                   warm_start=False)\n",
      "__________________________________________________________________________________________________________________\n",
      "coefs: [[-0.04668814 -0.63077784  0.79870709 -0.1440272   0.16047433  0.32925778\n",
      "  -0.55582966 -0.48249352  0.5566739  -1.00528012 -0.69913309]]\n",
      "__________________________________________________________________________________________________________________\n",
      "intercept: [0.13218974]\n",
      "__________________________________________________________________________________________________________________\n",
      "__________________________________________________________________________________________________________________\n",
      "LR accuracy: 0.8241758241758241\n",
      "__________________________________________________________________________________________________________________\n",
      "LR F1: 1.0\n",
      "__________________________________________________________________________________________________________________\n",
      "LR CM:\n",
      " [[33  8]\n",
      " [ 8 42]]\n"
     ]
    }
   ],
   "source": [
    "#Importing lib for Logistic regression\n",
    "from sklearn.linear_model import LogisticRegression\n",
    "from sklearn.metrics import accuracy_score\n",
    "from sklearn.metrics import f1_score\n",
    "from sklearn.metrics import confusion_matrix\n",
    "#fitting the model to X_train, Y_train.\n",
    "log = LogisticRegression(random_state=42, penalty='l2')\n",
    "r=log.fit(X_train, Y_train)\n",
    "print(log)\n",
    "print(\"__________________________________________________________________________________________________________________\")\n",
    "print(\"coefs:\", log.coef_)\n",
    "print(\"__________________________________________________________________________________________________________________\")\n",
    "print(\"intercept:\", log.intercept_)\n",
    "print(\"__________________________________________________________________________________________________________________\")\n",
    "Y_pred = log.predict(X_test)\n",
    "print(\"__________________________________________________________________________________________________________________\")\n",
    "print(\"LR accuracy:\", accuracy_score(Y_test, Y_pred))\n",
    "print(\"__________________________________________________________________________________________________________________\")\n",
    "print(\"LR F1:\", f1_score(Y_pred, Y_pred,average='weighted'))\n",
    "print(\"__________________________________________________________________________________________________________________\")\n",
    "print(\"LR CM:\\n\",  confusion_matrix(Y_test, Y_pred))\n",
    "LR_CON = confusion_matrix(Y_test, Y_pred)\n",
    "LR_ACC = accuracy_score(Y_test, Y_pred)"
   ]
  },
  {
   "cell_type": "code",
   "execution_count": 37,
   "metadata": {},
   "outputs": [
    {
     "data": {
      "image/png": "[encoded data removed]",
      "text/plain": [
       "<Figure size 432x288 with 1 Axes>"
      ]
     },
     "metadata": {
      "needs_background": "light"
     },
     "output_type": "display_data"
    },
    {
     "name": "stdout",
     "output_type": "stream",
     "text": [
      "__________________________________________________________________________________________________________________\n",
      "confusion matrix:-  [[33  8]\n",
      " [ 8 42]]\n",
      "__________________________________________________________________________________________________________________\n",
      "accuracy scores:-  82.41758241758241 %\n",
      "__________________________________________________________________________________________________________________\n"
     ]
    }
   ],
   "source": [
    "from sklearn.metrics import roc_curve\n",
    "from sklearn.metrics import roc_auc_score\n",
    "logit_roc_auc = roc_auc_score(Y_test, log.predict(X_test))\n",
    "fpr, tpr, thresholds = roc_curve(Y_test, log.predict_proba(X_test)[:,1])\n",
    "plt.figure()\n",
    "plt.plot(fpr, tpr, label='Logistic Regression (area = %0.2f)' % logit_roc_auc)\n",
    "plt.plot([0, 1], [0, 1],'r--')\n",
    "plt.xlim([0.0, 1.0])\n",
    "plt.ylim([0.0, 1.05])\n",
    "plt.xlabel('False Positive Rate')\n",
    "plt.ylabel('True Positive Rate')\n",
    "plt.title('Receiver operating characteristic')\n",
    "plt.legend(loc=\"lower right\")\n",
    "plt.savefig('Log_ROC')\n",
    "plt.show()\n",
    "#--------------------------------------------------------------------------\n",
    "print(\"__________________________________________________________________________________________________________________\")\n",
    "print(\"confusion matrix:- \",LR_CON)\n",
    "print(\"__________________________________________________________________________________________________________________\")\n",
    "print(\"accuracy scores:- \",LR_ACC*100,\"%\")\n",
    "print(\"__________________________________________________________________________________________________________________\")"
   ]
  },
  {
   "cell_type": "code",
   "execution_count": 38,
   "metadata": {},
   "outputs": [
    {
     "name": "stdout",
     "output_type": "stream",
     "text": [
      "DecisionTreeClassifier(ccp_alpha=0.0, class_weight=None, criterion='entropy',\n",
      "                       max_depth=5, max_features=None, max_leaf_nodes=None,\n",
      "                       min_impurity_decrease=0.0, min_impurity_split=None,\n",
      "                       min_samples_leaf=1, min_samples_split=2,\n",
      "                       min_weight_fraction_leaf=0.0, presort='deprecated',\n",
      "                       random_state=1, splitter='best')\n",
      "__________________________________________________________________________________________________________________\n",
      "LR accuracy: 0.8241758241758241\n",
      "__________________________________________________________________________________________________________________\n",
      "[[32  9]\n",
      " [15 35]]\n",
      "__________________________________________________________________________________________________________________\n",
      "f1: 0.7368376304546518\n",
      "__________________________________________________________________________________________________________________\n"
     ]
    }
   ],
   "source": [
    "#Importing lib for Decision tree analysis.\n",
    "from sklearn import tree\n",
    "clf_tree = tree.DecisionTreeClassifier(criterion=\"entropy\", max_depth=5, random_state=1)\n",
    "clf_tree.fit(X_train, Y_train)\n",
    "print(clf_tree)\n",
    "print(\"__________________________________________________________________________________________________________________\")\n",
    "tree_predictions = clf_tree.predict(X_test)\n",
    "print(\"LR accuracy:\", accuracy_score(Y_test, Y_pred))\n",
    "print(\"__________________________________________________________________________________________________________________\")\n",
    "print(confusion_matrix(Y_test, tree_predictions))\n",
    "print(\"__________________________________________________________________________________________________________________\")\n",
    "print(\"f1:\", f1_score(Y_test, tree_predictions, average='weighted'))\n",
    "print(\"__________________________________________________________________________________________________________________\")\n",
    "DT_CON = confusion_matrix(Y_test, tree_predictions)\n",
    "DT_ACC = accuracy_score(Y_test, Y_pred)"
   ]
  },
  {
   "cell_type": "code",
   "execution_count": 39,
   "metadata": {},
   "outputs": [
    {
     "name": "stdout",
     "output_type": "stream",
     "text": [
      "Iteration 1, loss = 0.73770717\n",
      "Iteration 2, loss = 0.64905708\n",
      "Iteration 3, loss = 0.58216927\n",
      "Iteration 4, loss = 0.53040142\n",
      "Iteration 5, loss = 0.49083695\n",
      "Iteration 6, loss = 0.46111912\n",
      "Iteration 7, loss = 0.43790263\n",
      "Iteration 8, loss = 0.41998641\n",
      "Iteration 9, loss = 0.40537135\n",
      "Iteration 10, loss = 0.39330440\n",
      "Iteration 11, loss = 0.38407374\n",
      "Iteration 12, loss = 0.37599209\n",
      "Iteration 13, loss = 0.36883942\n",
      "Iteration 14, loss = 0.36253911\n",
      "Iteration 15, loss = 0.35710341\n",
      "Iteration 16, loss = 0.35220602\n",
      "Iteration 17, loss = 0.34752627\n",
      "Iteration 18, loss = 0.34324102\n",
      "Iteration 19, loss = 0.33934688\n",
      "Iteration 20, loss = 0.33578001\n",
      "Iteration 21, loss = 0.33254375\n",
      "Iteration 22, loss = 0.32961764\n",
      "Iteration 23, loss = 0.32693579\n",
      "Iteration 24, loss = 0.32474161\n",
      "Iteration 25, loss = 0.32283028\n",
      "Iteration 26, loss = 0.32097447\n",
      "Iteration 27, loss = 0.31908581\n",
      "Iteration 28, loss = 0.31722591\n",
      "Iteration 29, loss = 0.31545438\n",
      "Iteration 30, loss = 0.31315942\n",
      "Iteration 31, loss = 0.31120873\n",
      "Iteration 32, loss = 0.30921239\n",
      "Iteration 33, loss = 0.30747227\n",
      "Iteration 34, loss = 0.30616010\n",
      "Iteration 35, loss = 0.30479242\n",
      "Iteration 36, loss = 0.30331793\n",
      "Iteration 37, loss = 0.30197492\n",
      "Iteration 38, loss = 0.30064880\n",
      "Iteration 39, loss = 0.29916432\n",
      "Iteration 40, loss = 0.29736978\n",
      "Iteration 41, loss = 0.29586755\n",
      "Iteration 42, loss = 0.29416486\n",
      "Iteration 43, loss = 0.29222816\n",
      "Iteration 44, loss = 0.29114020\n",
      "Iteration 45, loss = 0.28972481\n",
      "Iteration 46, loss = 0.28871476\n",
      "Iteration 47, loss = 0.28763632\n",
      "Iteration 48, loss = 0.28625332\n",
      "Iteration 49, loss = 0.28490647\n",
      "Iteration 50, loss = 0.28388505\n",
      "Iteration 51, loss = 0.28313198\n",
      "Iteration 52, loss = 0.28250392\n",
      "Iteration 53, loss = 0.28167421\n",
      "Iteration 54, loss = 0.28053194\n",
      "Iteration 55, loss = 0.27877576\n",
      "Iteration 56, loss = 0.27698496\n",
      "Iteration 57, loss = 0.27539458\n",
      "Iteration 58, loss = 0.27386992\n",
      "Iteration 59, loss = 0.27264431\n",
      "Iteration 60, loss = 0.27137049\n",
      "Iteration 61, loss = 0.27020498\n",
      "Iteration 62, loss = 0.26991557\n",
      "Iteration 63, loss = 0.27000131\n",
      "Iteration 64, loss = 0.26996760\n",
      "Iteration 65, loss = 0.26923973\n",
      "Iteration 66, loss = 0.26825757\n",
      "Iteration 67, loss = 0.26697217\n",
      "Iteration 68, loss = 0.26514924\n",
      "Iteration 69, loss = 0.26370218\n",
      "Iteration 70, loss = 0.26184840\n",
      "Iteration 71, loss = 0.26061815\n",
      "Iteration 72, loss = 0.25963150\n",
      "Iteration 73, loss = 0.25892872\n",
      "Iteration 74, loss = 0.25789747\n",
      "Iteration 75, loss = 0.25688223\n",
      "Iteration 76, loss = 0.25588231\n",
      "Iteration 77, loss = 0.25510062\n",
      "Iteration 78, loss = 0.25445981\n",
      "Iteration 79, loss = 0.25344518\n",
      "Iteration 80, loss = 0.25239177\n",
      "Iteration 81, loss = 0.25110394\n",
      "Iteration 82, loss = 0.24946392\n",
      "Iteration 83, loss = 0.24860041\n",
      "Iteration 84, loss = 0.24770491\n",
      "Iteration 85, loss = 0.24737497\n",
      "Iteration 86, loss = 0.24762775\n",
      "Iteration 87, loss = 0.24749968\n",
      "Iteration 88, loss = 0.24749986\n",
      "Iteration 89, loss = 0.24734771\n",
      "Iteration 90, loss = 0.24674131\n",
      "Iteration 91, loss = 0.24562016\n",
      "Iteration 92, loss = 0.24456418\n",
      "Iteration 93, loss = 0.24337338\n",
      "Iteration 94, loss = 0.24181892\n",
      "Iteration 95, loss = 0.24069028\n",
      "Iteration 96, loss = 0.23965694\n",
      "Iteration 97, loss = 0.23860241\n",
      "Iteration 98, loss = 0.23710988\n",
      "Iteration 99, loss = 0.23621552\n",
      "Iteration 100, loss = 0.23582045\n",
      "Iteration 101, loss = 0.23570802\n",
      "Iteration 102, loss = 0.23527776\n",
      "Iteration 103, loss = 0.23478154\n",
      "Iteration 104, loss = 0.23422228\n",
      "Iteration 105, loss = 0.23405421\n",
      "Iteration 106, loss = 0.23348378\n",
      "Iteration 107, loss = 0.23313481\n",
      "Iteration 108, loss = 0.23249010\n",
      "Iteration 109, loss = 0.23191513\n",
      "Iteration 110, loss = 0.23135409\n",
      "Iteration 111, loss = 0.23125243\n",
      "Iteration 112, loss = 0.23071287\n",
      "Iteration 113, loss = 0.22966075\n",
      "Iteration 114, loss = 0.22858577\n",
      "Iteration 115, loss = 0.22739390\n",
      "Iteration 116, loss = 0.22607417\n",
      "Iteration 117, loss = 0.22428111\n",
      "Iteration 118, loss = 0.22311942\n",
      "Iteration 119, loss = 0.22218328\n",
      "Iteration 120, loss = 0.22143856\n",
      "Iteration 121, loss = 0.22090481\n",
      "Iteration 122, loss = 0.22069046\n",
      "Iteration 123, loss = 0.22056490\n",
      "Iteration 124, loss = 0.21960367\n",
      "Iteration 125, loss = 0.21884187\n",
      "Iteration 126, loss = 0.21786050\n",
      "Iteration 127, loss = 0.21693360\n",
      "Iteration 128, loss = 0.21617599\n",
      "Iteration 129, loss = 0.21493490\n",
      "Iteration 130, loss = 0.21431618\n",
      "Iteration 131, loss = 0.21300499\n",
      "Iteration 132, loss = 0.21245923\n",
      "Iteration 133, loss = 0.21165229\n",
      "Iteration 134, loss = 0.21095124\n",
      "Iteration 135, loss = 0.21054324\n",
      "Iteration 136, loss = 0.21002164\n",
      "Iteration 137, loss = 0.20959789\n",
      "Iteration 138, loss = 0.20918447\n",
      "Iteration 139, loss = 0.20872274\n",
      "Iteration 140, loss = 0.20793042\n",
      "Iteration 141, loss = 0.20730913\n",
      "Iteration 142, loss = 0.20664062\n",
      "Iteration 143, loss = 0.20604155\n",
      "Iteration 144, loss = 0.20572091\n",
      "Iteration 145, loss = 0.20512893\n",
      "Iteration 146, loss = 0.20428719\n",
      "Iteration 147, loss = 0.20371316\n",
      "Iteration 148, loss = 0.20305211\n",
      "Iteration 149, loss = 0.20256768\n",
      "Iteration 150, loss = 0.20214950\n",
      "Iteration 151, loss = 0.20193719\n",
      "Iteration 152, loss = 0.20150919\n",
      "Iteration 153, loss = 0.20134637\n",
      "Iteration 154, loss = 0.20101190\n",
      "Iteration 155, loss = 0.20105348\n",
      "Iteration 156, loss = 0.20126243\n",
      "Iteration 157, loss = 0.20111773\n",
      "Iteration 158, loss = 0.20085133\n",
      "Iteration 159, loss = 0.19967682\n",
      "Iteration 160, loss = 0.19862257\n",
      "Iteration 161, loss = 0.19805895\n",
      "Iteration 162, loss = 0.19808842\n",
      "Iteration 163, loss = 0.19916660\n",
      "Iteration 164, loss = 0.20049683\n",
      "Iteration 165, loss = 0.20098517\n",
      "Iteration 166, loss = 0.20031458\n",
      "Iteration 167, loss = 0.19903390\n",
      "Iteration 168, loss = 0.19633788\n",
      "Iteration 169, loss = 0.19436826\n",
      "Iteration 170, loss = 0.19363039\n",
      "Iteration 171, loss = 0.19345793\n",
      "Iteration 172, loss = 0.19397146\n",
      "Iteration 173, loss = 0.19482176\n",
      "Iteration 174, loss = 0.19574838\n",
      "Iteration 175, loss = 0.19620372\n",
      "Iteration 176, loss = 0.19639832\n",
      "Iteration 177, loss = 0.19751280\n",
      "Iteration 178, loss = 0.19678124\n",
      "Iteration 179, loss = 0.19523863\n",
      "Iteration 180, loss = 0.19367546\n",
      "Iteration 181, loss = 0.19196803\n",
      "Iteration 182, loss = 0.19039658\n",
      "Iteration 183, loss = 0.18911697\n",
      "Iteration 184, loss = 0.18849718\n",
      "Iteration 185, loss = 0.18902113\n",
      "Iteration 186, loss = 0.18947527\n",
      "Iteration 187, loss = 0.18987066\n",
      "Iteration 188, loss = 0.19015052\n",
      "Iteration 189, loss = 0.19086310\n",
      "Iteration 190, loss = 0.19165835\n",
      "Iteration 191, loss = 0.19170761\n",
      "Iteration 192, loss = 0.19035976\n",
      "Iteration 193, loss = 0.18839161\n",
      "Iteration 194, loss = 0.18678864\n",
      "Iteration 195, loss = 0.18562238\n",
      "Iteration 196, loss = 0.18448086\n",
      "Iteration 197, loss = 0.18381971\n",
      "Iteration 198, loss = 0.18337445\n",
      "Iteration 199, loss = 0.18310464\n",
      "Iteration 200, loss = 0.18300868\n",
      "MLP model: MLPClassifier(activation='relu', alpha=0.1, batch_size='auto', beta_1=0.9,\n",
      "              beta_2=0.999, early_stopping=False, epsilon=1e-08,\n",
      "              hidden_layer_sizes=(1000,), learning_rate='constant',\n",
      "              learning_rate_init=0.001, max_fun=15000, max_iter=200,\n",
      "              momentum=0.9, n_iter_no_change=10, nesterovs_momentum=True,\n",
      "              power_t=0.5, random_state=1, shuffle=True, solver='adam',\n",
      "              tol=0.0001, validation_fraction=0.1, verbose=True,\n",
      "              warm_start=False)\n",
      "__________________________________________________________________________________________________________________\n",
      "NN accuracy: 0.8461538461538461\n",
      "__________________________________________________________________________________________________________________\n",
      "NN F1: 0.8599999999999999\n",
      "__________________________________________________________________________________________________________________\n",
      "NN CM:\n",
      " [[34  7]\n",
      " [ 7 43]]\n",
      "__________________________________________________________________________________________________________________\n"
     ]
    },
    {
     "name": "stderr",
     "output_type": "stream",
     "text": [
      "C:\\Users\\DELL.DESKTOP-C18N4A6\\Anaconda3\\lib\\site-packages\\sklearn\\neural_network\\_multilayer_perceptron.py:571: ConvergenceWarning: Stochastic Optimizer: Maximum iterations (200) reached and the optimization hasn't converged yet.\n",
      "  % self.max_iter, ConvergenceWarning)\n"
     ]
    }
   ],
   "source": [
    "from sklearn.neural_network import MLPClassifier\n",
    "mlp = MLPClassifier(solver='adam',                          #For neural network\n",
    "                    alpha=1e-1,                             #multy level pelsoptrom\n",
    "                    hidden_layer_sizes=(1000,), \n",
    "                    random_state=1, \n",
    "                    verbose=True)\n",
    "mlp.fit(X_train, Y_train)        #to fit the train datas\n",
    "print(\"MLP model:\", mlp)\n",
    "print(\"__________________________________________________________________________________________________________________\")\n",
    "Y_pred = mlp.predict(X_test)                  #to predict.\n",
    "print(\"NN accuracy:\", accuracy_score(Y_test, Y_pred))\n",
    "print(\"__________________________________________________________________________________________________________________\")\n",
    "print(\"NN F1:\", f1_score(Y_test, Y_pred))\n",
    "print(\"__________________________________________________________________________________________________________________\")\n",
    "print(\"NN CM:\\n\", confusion_matrix(Y_test, Y_pred))\n",
    "print(\"__________________________________________________________________________________________________________________\")\n",
    "NN_CON = confusion_matrix(Y_test, Y_pred)\n",
    "NN_ACC = accuracy_score(Y_test, Y_pred)"
   ]
  },
  {
   "cell_type": "code",
   "execution_count": 40,
   "metadata": {},
   "outputs": [
    {
     "data": {
      "image/png": "[encoded data removed]",
      "text/plain": [
       "<Figure size 432x288 with 1 Axes>"
      ]
     },
     "metadata": {
      "needs_background": "light"
     },
     "output_type": "display_data"
    },
    {
     "name": "stdout",
     "output_type": "stream",
     "text": [
      "__________________________________________________________________________________________________________________\n",
      "accuracy scores:-  84.61538461538461 %\n",
      "__________________________________________________________________________________________________________________\n",
      "confusion matrix:-  [[34  7]\n",
      " [ 7 43]]\n",
      "__________________________________________________________________________________________________________________\n"
     ]
    }
   ],
   "source": [
    "NN_roc_auc = roc_auc_score(Y_test, mlp.predict(X_test))\n",
    "fpr, tpr, thresholds = roc_curve(Y_test, mlp.predict_proba(X_test)[:,1])\n",
    "plt.figure()\n",
    "plt.plot(fpr, tpr, label='Decision Tree (area = %0.2f)' % NN_roc_auc)\n",
    "plt.plot([0, 1], [0, 1],'r--')\n",
    "plt.xlim([0.0, 1.0])\n",
    "plt.ylim([0.0, 1.05])\n",
    "plt.xlabel('False Positive Rate')\n",
    "plt.ylabel('True Positive Rate')\n",
    "plt.title('Receiver operating characteristic')\n",
    "plt.legend(loc=\"lower right\")\n",
    "plt.savefig('Log_ROC')\n",
    "plt.show()\n",
    "#--------------------------------------------------------------------------------------------------------------------------\n",
    "print(\"__________________________________________________________________________________________________________________\")\n",
    "print(\"accuracy scores:- \",NN_ACC*100,\"%\")\n",
    "print(\"__________________________________________________________________________________________________________________\")\n",
    "print(\"confusion matrix:- \",NN_CON)\n",
    "print(\"__________________________________________________________________________________________________________________\")"
   ]
  },
  {
   "cell_type": "code",
   "execution_count": 41,
   "metadata": {},
   "outputs": [
    {
     "name": "stdout",
     "output_type": "stream",
     "text": [
      "GNB accuracy: 0.8461538461538461\n"
     ]
    }
   ],
   "source": [
    "from sklearn.naive_bayes import GaussianNB\n",
    "gnb = GaussianNB()\n",
    "gnb.fit(X_train, Y_train)\n",
    "y_pred = gnb.predict(X_test)\n",
    "print(\"GNB accuracy:\", accuracy_score(Y_test, y_pred))"
   ]
  },
  {
   "cell_type": "code",
   "execution_count": 42,
   "metadata": {},
   "outputs": [
    {
     "name": "stdout",
     "output_type": "stream",
     "text": [
      "RandomForestClassifier(bootstrap=True, ccp_alpha=0.0, class_weight=None,\n",
      "                       criterion='entropy', max_depth=15, max_features='auto',\n",
      "                       max_leaf_nodes=None, max_samples=None,\n",
      "                       min_impurity_decrease=0.0, min_impurity_split=None,\n",
      "                       min_samples_leaf=1, min_samples_split=2,\n",
      "                       min_weight_fraction_leaf=0.0, n_estimators=100,\n",
      "                       n_jobs=None, oob_score=False, random_state=1, verbose=0,\n",
      "                       warm_start=False)\n",
      "[[33  8]\n",
      " [ 7 43]]\n",
      "f1: 0.8349633498148349\n"
     ]
    }
   ],
   "source": [
    "from sklearn.ensemble import RandomForestClassifier\n",
    "clf_rf = RandomForestClassifier(max_depth=15,\n",
    "                                n_estimators=100, \n",
    "                                criterion='entropy', \n",
    "                                random_state=1)\n",
    "clf_rf.fit(X_train, Y_train)\n",
    "print(clf_rf)\n",
    "rf_predictions = clf_rf.predict(X_test)\n",
    "print(confusion_matrix(Y_test, rf_predictions))\n",
    "print(\"f1:\", f1_score(Y_test, rf_predictions, average=\"weighted\"))\n",
    "#print(\"f1:\", f1_score(Y_test, rf_predictions, average=None))"
   ]
  },
  {
   "cell_type": "code",
   "execution_count": 43,
   "metadata": {},
   "outputs": [
    {
     "name": "stdout",
     "output_type": "stream",
     "text": [
      "KNeighborsClassifier(algorithm='auto', leaf_size=30, metric='minkowski',\n",
      "                     metric_params=None, n_jobs=None, n_neighbors=10, p=2,\n",
      "                     weights='uniform')\n",
      "CM:\n",
      "[[33  8]\n",
      " [10 40]]\n",
      "f1: 0.8025342004933842\n"
     ]
    }
   ],
   "source": [
    "from sklearn.neighbors import KNeighborsClassifier\n",
    "clf_knn = KNeighborsClassifier(n_neighbors=10, p=2)\n",
    "clf_knn.fit(X_train, Y_train)\n",
    "print(clf_knn)\n",
    "knn_predictions_test = clf_knn.predict(X_test)\n",
    "print(\"CM:\")\n",
    "print(confusion_matrix(Y_test, knn_predictions_test))\n",
    "print(\"f1:\", f1_score(Y_test, knn_predictions_test, average=\"weighted\"))\n",
    "scores = []"
   ]
  },
  {
   "cell_type": "code",
   "execution_count": 44,
   "metadata": {},
   "outputs": [
    {
     "name": "stdout",
     "output_type": "stream",
     "text": [
      "GaussianNB(priors=None, var_smoothing=1e-09)\n",
      "priors: [0.45754717 0.54245283]\n",
      "means: [[ 0.2440553   0.32529933 -0.47201031  0.05782608 -0.04186416 -0.43973812\n",
      "   0.50549092  0.47166291 -0.37488329  0.46487287  0.42472166]\n",
      " [-0.20585534 -0.27438292  0.39813043 -0.04877504  0.03531151  0.37090954\n",
      "  -0.4263706  -0.39783741  0.31620591 -0.39211016 -0.35824348]]\n",
      "sd: [[0.802548   0.67385634 0.79143464 1.17847398 0.9046569  0.991276\n",
      "  1.13271086 1.27640275 0.8431811  1.11527278 1.10447848]\n",
      " [1.07392996 1.11055253 0.82949084 0.84426161 1.07769465 0.70668155\n",
      "  0.49074292 0.42094054 0.91374684 0.56673816 0.63138252]]\n",
      "[[36  5]\n",
      " [ 9 41]]\n",
      "accuracy: 0.8461538461538461\n",
      "f1: 0.8465265354800238\n"
     ]
    }
   ],
   "source": [
    "from sklearn.naive_bayes import GaussianNB\n",
    "from sklearn.metrics import accuracy_score\n",
    "\n",
    "#my_priors = [1./6 for i in range(6)]\n",
    "#my_priors = [0.166, 0.166, 0.166, 0.166, 0.166, 0.17]\n",
    "#gnb = GaussianNB(priors = my_priors)\n",
    "gnb = GaussianNB()\n",
    "gnb.fit(X_train, Y_train)\n",
    "print(gnb)\n",
    "print(\"priors:\", gnb.class_prior_)\n",
    "print(\"means:\", gnb.theta_)\n",
    "print(\"sd:\", gnb.sigma_)\n",
    "gnb_predictions = gnb.predict(X_test)\n",
    "print(confusion_matrix(Y_test, gnb_predictions))\n",
    "print(\"accuracy:\", accuracy_score(Y_test, gnb_predictions))\n",
    "print(\"f1:\", f1_score(Y_test, gnb_predictions, average=\"weighted\"))"
   ]
  },
  {
   "cell_type": "code",
   "execution_count": 45,
   "metadata": {},
   "outputs": [
    {
     "name": "stdout",
     "output_type": "stream",
     "text": [
      "GradientBoostingClassifier(ccp_alpha=0.0, criterion='friedman_mse', init=None,\n",
      "                           learning_rate=0.1, loss='deviance', max_depth=10,\n",
      "                           max_features=None, max_leaf_nodes=None,\n",
      "                           min_impurity_decrease=0.0, min_impurity_split=None,\n",
      "                           min_samples_leaf=1, min_samples_split=2,\n",
      "                           min_weight_fraction_leaf=0.0, n_estimators=100,\n",
      "                           n_iter_no_change=None, presort='deprecated',\n",
      "                           random_state=42, subsample=1.0, tol=0.0001,\n",
      "                           validation_fraction=0.1, verbose=0,\n",
      "                           warm_start=False)\n",
      "[[32  9]\n",
      " [15 35]]\n",
      "F1: 0.7368376304546518\n",
      "accuracy: 0.8461538461538461\n"
     ]
    }
   ],
   "source": [
    "from sklearn.ensemble import GradientBoostingClassifier\n",
    "gbc = GradientBoostingClassifier(n_estimators=100,\n",
    "                                 max_depth=10,\n",
    "                                 random_state=42)\n",
    "gbc.fit(X_train, Y_train)\n",
    "print(gbc)\n",
    "gbc_predictions = gbc.predict(X_test)\n",
    "print(confusion_matrix(Y_test, gbc_predictions))\n",
    "print(\"F1:\", f1_score(Y_test, gbc_predictions, average=\"weighted\"))\n",
    "print(\"accuracy:\", accuracy_score(Y_test, gnb_predictions))"
   ]
  },
  {
   "cell_type": "code",
   "execution_count": 52,
   "metadata": {},
   "outputs": [
    {
     "name": "stdout",
     "output_type": "stream",
     "text": [
      "[0.09098835 0.05683939 0.12361056 0.075941   0.02188438 0.1070148\n",
      " 0.11093074 0.10219043 0.07059103 0.13279904 0.1072103 ]\n"
     ]
    },
    {
     "data": {
      "image/png": "[encoded data removed]",
      "text/plain": [
       "<Figure size 432x288 with 1 Axes>"
      ]
     },
     "metadata": {
      "needs_background": "light"
     },
     "output_type": "display_data"
    }
   ],
   "source": [
    "from sklearn.ensemble import ExtraTreesClassifier\n",
    "#import matplotlib.pyplot as plt\n",
    "model = ExtraTreesClassifier()\n",
    "model.fit(X,Y)\n",
    "print(model.feature_importances_) #use inbuilt class feature_importances of tree based classifiers\n",
    "#plot graph of feature importances for better visualization\n",
    "feat_importances = pd.Series(model.feature_importances_, index=X.columns)\n",
    "feat_importances.nlargest(10).plot(kind='barh')\n",
    "plt.show()"
   ]
  },
  {
   "cell_type": "code",
   "execution_count": 54,
   "metadata": {},
   "outputs": [
    {
     "name": "stdout",
     "output_type": "stream",
     "text": [
      "       Specs       Score\n",
      "5    thalach  188.320472\n",
      "7    oldpeak   72.644253\n",
      "9         ca   66.440765\n",
      "2         cp   62.598098\n",
      "6      exang   38.914377\n",
      "0        age   23.286624\n",
      "3   trestbps   14.823925\n",
      "8      slope    9.804095\n",
      "1        sex    7.576835\n",
      "10      thal    5.791853\n"
     ]
    }
   ],
   "source": [
    "from sklearn.feature_selection import SelectKBest\n",
    "from sklearn.feature_selection import chi2\n",
    "#apply SelectKBest class to extract top 10 best features\n",
    "bestfeatures = SelectKBest(score_func=chi2, k=10)\n",
    "fit = bestfeatures.fit(X,Y)\n",
    "dfscores = pd.DataFrame(fit.scores_)\n",
    "dfcolumns = pd.DataFrame(X.columns)\n",
    "#concat two dataframes for better visualization \n",
    "featureScores = pd.concat([dfcolumns,dfscores],axis=1)\n",
    "featureScores.columns = ['Specs','Score']  #naming the dataframe columns\n",
    "print(featureScores.nlargest(10,'Score'))  #print 10 best features"
   ]
  },
  {
   "cell_type": "code",
   "execution_count": null,
   "metadata": {},
   "outputs": [],
   "source": []
  },
  {
   "cell_type": "code",
   "execution_count": null,
   "metadata": {},
   "outputs": [],
   "source": []
  }
 ],
 "metadata": {
  "kernelspec": {
   "display_name": "Python 3",
   "language": "python",
   "name": "python3"
  },
  "language_info": {
   "codemirror_mode": {
    "name": "ipython",
    "version": 3
   },
   "file_extension": ".py",
   "mimetype": "text/x-python",
   "name": "python",
   "nbconvert_exporter": "python",
   "pygments_lexer": "ipython3",
   "version": "3.7.1"
  }
 },
 "nbformat": 4,
 "nbformat_minor": 2
}
