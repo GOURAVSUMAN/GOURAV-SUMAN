{
 "cells": [
  {
   "cell_type": "code",
   "execution_count": 34,
   "metadata": {},
   "outputs": [],
   "source": [
    "# import packages\n",
    "import numpy as np\n",
    "import pandas as pd\n",
    "import matplotlib.pyplot as plt\n",
    "import re"
   ]
  },
  {
   "cell_type": "code",
   "execution_count": 35,
   "metadata": {},
   "outputs": [],
   "source": [
    "#from sklearn.model_selection import train_test_split\n",
    "#X_train, X_test, Y_train, Y_test = train_test_split(X, Y, test_size=0.3, random_state=42)\n",
    "#print(X_train.shape)\n",
    "#print(X_test.shape)"
   ]
  },
  {
   "cell_type": "code",
   "execution_count": 36,
   "metadata": {},
   "outputs": [],
   "source": [
    "df = pd.read_csv(\"./Titanic_Survival_train.csv\")\n"
   ]
  },
  {
   "cell_type": "code",
   "execution_count": 37,
   "metadata": {},
   "outputs": [],
   "source": [
    "df1 = pd.read_csv(\"./test.csv\")"
   ]
  },
  {
   "cell_type": "code",
   "execution_count": 38,
   "metadata": {},
   "outputs": [],
   "source": [
    "d1=df[\"Sex\"]\n",
    "list1=[]\n",
    "for i in d1:\n",
    "    #print(i)\n",
    "    if i == \"male\":\n",
    "        list1.append(1)\n",
    "    elif i == \"female\":\n",
    "        list1.append(0)\n",
    "sex=pd.Series(list1)\n",
    "df[\"Sex\"]=sex\n",
    "#print(sex)"
   ]
  },
  {
   "cell_type": "code",
   "execution_count": 39,
   "metadata": {},
   "outputs": [],
   "source": [
    "d2=df1[\"Sex\"]\n",
    "list2=[]\n",
    "for j in d2:\n",
    "    #print(j)\n",
    "    if j == \"male\":\n",
    "        list2.append(1)\n",
    "    elif j == \"female\":\n",
    "        list2.append(0)\n",
    "sex=pd.Series(list2)\n",
    "df1[\"Sex\"]=sex"
   ]
  },
  {
   "cell_type": "code",
   "execution_count": 40,
   "metadata": {},
   "outputs": [],
   "source": [
    "#df.head(20)"
   ]
  },
  {
   "cell_type": "code",
   "execution_count": 41,
   "metadata": {},
   "outputs": [],
   "source": [
    "#df1.head(20)"
   ]
  },
  {
   "cell_type": "code",
   "execution_count": 42,
   "metadata": {},
   "outputs": [],
   "source": [
    "df = df.drop(['PassengerId', 'Name','Embarked','Cabin','Ticket'], axis=1)"
   ]
  },
  {
   "cell_type": "code",
   "execution_count": 43,
   "metadata": {},
   "outputs": [],
   "source": [
    "df1 = df1.drop(['PassengerId', 'Name','Embarked','Cabin','Ticket'], axis=1)"
   ]
  },
  {
   "cell_type": "code",
   "execution_count": 44,
   "metadata": {},
   "outputs": [],
   "source": [
    "#df.describe()"
   ]
  },
  {
   "cell_type": "code",
   "execution_count": 45,
   "metadata": {},
   "outputs": [],
   "source": [
    "#df1.describe()"
   ]
  },
  {
   "cell_type": "code",
   "execution_count": 46,
   "metadata": {},
   "outputs": [
    {
     "data": {
      "text/plain": [
       "(891, 7)"
      ]
     },
     "execution_count": 46,
     "metadata": {},
     "output_type": "execute_result"
    }
   ],
   "source": [
    "df.shape"
   ]
  },
  {
   "cell_type": "code",
   "execution_count": 47,
   "metadata": {},
   "outputs": [
    {
     "data": {
      "text/plain": [
       "(418, 6)"
      ]
     },
     "execution_count": 47,
     "metadata": {},
     "output_type": "execute_result"
    }
   ],
   "source": [
    "df1.shape"
   ]
  },
  {
   "cell_type": "code",
   "execution_count": 48,
   "metadata": {},
   "outputs": [
    {
     "name": "stderr",
     "output_type": "stream",
     "text": [
      "C:\\Users\\DELL.DESKTOP-C18N4A6\\Anaconda3\\lib\\site-packages\\sklearn\\utils\\deprecation.py:66: DeprecationWarning: Class Imputer is deprecated; Imputer was deprecated in version 0.20 and will be removed in 0.22. Import impute.SimpleImputer from sklearn instead.\n",
      "  warnings.warn(msg, category=DeprecationWarning)\n"
     ]
    }
   ],
   "source": [
    "from sklearn.preprocessing import Imputer\n",
    "imputer = Imputer(missing_values = \"NaN\",strategy = \"most_frequent\" , axis = 0)\n",
    "imputer = imputer.fit(df.iloc[:, 0:8].values)\n",
    "df.iloc[:, 0:8] = imputer.transform(df.iloc[:, 0:8])"
   ]
  },
  {
   "cell_type": "code",
   "execution_count": 49,
   "metadata": {},
   "outputs": [
    {
     "name": "stderr",
     "output_type": "stream",
     "text": [
      "C:\\Users\\DELL.DESKTOP-C18N4A6\\Anaconda3\\lib\\site-packages\\sklearn\\utils\\deprecation.py:66: DeprecationWarning: Class Imputer is deprecated; Imputer was deprecated in version 0.20 and will be removed in 0.22. Import impute.SimpleImputer from sklearn instead.\n",
      "  warnings.warn(msg, category=DeprecationWarning)\n"
     ]
    }
   ],
   "source": [
    "from sklearn.preprocessing import Imputer\n",
    "imputer = Imputer(missing_values = \"NaN\",strategy = \"most_frequent\" , axis = 0)\n",
    "imputer = imputer.fit(df1.iloc[:, 0:8].values)\n",
    "df1.iloc[:, 0:8] = imputer.transform(df1.iloc[:, 0:8])"
   ]
  },
  {
   "cell_type": "code",
   "execution_count": 50,
   "metadata": {},
   "outputs": [],
   "source": [
    "X_test = df[list(df.columns)[1:6]]\n",
    "Y_test = df[list(df.columns)[0]]"
   ]
  },
  {
   "cell_type": "code",
   "execution_count": 51,
   "metadata": {},
   "outputs": [],
   "source": [
    "X_train = df[list(df.columns)[1:6]]\n",
    "Y_train = df[list(df.columns)[0]]"
   ]
  },
  {
   "cell_type": "code",
   "execution_count": 52,
   "metadata": {},
   "outputs": [
    {
     "name": "stdout",
     "output_type": "stream",
     "text": [
      "LogisticRegression(C=1.0, class_weight=None, dual=False, fit_intercept=True,\n",
      "                   intercept_scaling=1, l1_ratio=None, max_iter=100,\n",
      "                   multi_class='warn', n_jobs=None, penalty='l2',\n",
      "                   random_state=42, solver='warn', tol=0.0001, verbose=0,\n",
      "                   warm_start=False)\n",
      "coefs: [[-0.97107827 -2.50343409 -0.02705348 -0.27156059 -0.02519782]]\n",
      "intercept: [4.13429681]\n",
      "LR accuracy: 0.7890011223344556\n",
      "LR F1: 0.7151515151515151\n",
      "LR CM:\n",
      " [[467  82]\n",
      " [106 236]]\n"
     ]
    },
    {
     "name": "stderr",
     "output_type": "stream",
     "text": [
      "C:\\Users\\DELL.DESKTOP-C18N4A6\\Anaconda3\\lib\\site-packages\\sklearn\\linear_model\\logistic.py:432: FutureWarning: Default solver will be changed to 'lbfgs' in 0.22. Specify a solver to silence this warning.\n",
      "  FutureWarning)\n"
     ]
    }
   ],
   "source": [
    "from sklearn.linear_model import LogisticRegression\n",
    "from sklearn.metrics import accuracy_score\n",
    "from sklearn.metrics import f1_score\n",
    "from sklearn.metrics import confusion_matrix\n",
    "\n",
    "log = LogisticRegression(random_state=42, penalty='l2')\n",
    "#log = LogisticRegression(random_state=42)\n",
    "log.fit(X_train, Y_train)\n",
    "print(log)\n",
    "print(\"coefs:\", log.coef_)\n",
    "print(\"intercept:\", log.intercept_)\n",
    "Y_pred = log.predict(X_test)\n",
    "print(\"LR accuracy:\", accuracy_score(Y_test, Y_pred))\n",
    "print(\"LR F1:\", f1_score(Y_test, Y_pred))\n",
    "print(\"LR CM:\\n\", confusion_matrix(Y_test, Y_pred))"
   ]
  },
  {
   "cell_type": "code",
   "execution_count": 53,
   "metadata": {},
   "outputs": [
    {
     "name": "stdout",
     "output_type": "stream",
     "text": [
      "[LibSVM]SVC(C=1.0, cache_size=200, class_weight=None, coef0=0.0,\n",
      "    decision_function_shape='ovr', degree=3, gamma='auto_deprecated',\n",
      "    kernel='rbf', max_iter=-1, probability=False, random_state=42,\n",
      "    shrinking=True, tol=0.001, verbose=True)\n",
      "num support vectors: 533\n",
      "SVC accuracy: 0.8619528619528619\n",
      "SVC F1: 0.810477657935285\n",
      "SVC CM:\n",
      " [[505  44]\n",
      " [ 79 263]]\n"
     ]
    },
    {
     "name": "stderr",
     "output_type": "stream",
     "text": [
      "C:\\Users\\DELL.DESKTOP-C18N4A6\\Anaconda3\\lib\\site-packages\\sklearn\\svm\\base.py:193: FutureWarning: The default value of gamma will change from 'auto' to 'scale' in version 0.22 to account better for unscaled features. Set gamma explicitly to 'auto' or 'scale' to avoid this warning.\n",
      "  \"avoid this warning.\", FutureWarning)\n"
     ]
    }
   ],
   "source": [
    "from sklearn.svm import SVC\n",
    "svc = SVC(random_state=42, kernel='rbf', verbose=True)\n",
    "svc.fit(X_train, Y_train)\n",
    "print(svc)\n",
    "print(\"num support vectors:\", len(svc.support_vectors_))\n",
    "Y_pred = svc.predict(X_test)\n",
    "print(\"SVC accuracy:\", accuracy_score(Y_test, Y_pred))\n",
    "print(\"SVC F1:\", f1_score(Y_test, Y_pred))\n",
    "print(\"SVC CM:\\n\", confusion_matrix(Y_test, Y_pred))\n"
   ]
  },
  {
   "cell_type": "code",
   "execution_count": 54,
   "metadata": {},
   "outputs": [
    {
     "name": "stdout",
     "output_type": "stream",
     "text": [
      "Iteration 1, loss = 1.32362428\n",
      "Iteration 2, loss = 0.74929181\n",
      "Iteration 3, loss = 0.80409580\n",
      "Iteration 4, loss = 0.79122421\n",
      "Iteration 5, loss = 0.69946041\n",
      "Iteration 6, loss = 0.67770382\n",
      "Iteration 7, loss = 0.68089036\n",
      "Iteration 8, loss = 0.65645282\n",
      "Iteration 9, loss = 0.64941534\n",
      "Iteration 10, loss = 0.64318450\n",
      "Iteration 11, loss = 0.63068622\n",
      "Iteration 12, loss = 0.62551264\n",
      "Iteration 13, loss = 0.61896465\n",
      "Iteration 14, loss = 0.61164787\n",
      "Iteration 15, loss = 0.60591409\n",
      "Iteration 16, loss = 0.59730959\n",
      "Iteration 17, loss = 0.58902820\n",
      "Iteration 18, loss = 0.58320415\n",
      "Iteration 19, loss = 0.57874759\n",
      "Iteration 20, loss = 0.57281534\n",
      "Iteration 21, loss = 0.56861619\n",
      "Iteration 22, loss = 0.56502199\n",
      "Iteration 23, loss = 0.56043241\n",
      "Iteration 24, loss = 0.55698563\n",
      "Iteration 25, loss = 0.55259256\n",
      "Iteration 26, loss = 0.54915194\n",
      "Iteration 27, loss = 0.54538397\n",
      "Iteration 28, loss = 0.54168524\n",
      "Iteration 29, loss = 0.53814327\n",
      "Iteration 30, loss = 0.53441964\n",
      "Iteration 31, loss = 0.53065237\n",
      "Iteration 32, loss = 0.52738691\n",
      "Iteration 33, loss = 0.52368186\n",
      "Iteration 34, loss = 0.52133542\n",
      "Iteration 35, loss = 0.51652200\n",
      "Iteration 36, loss = 0.51319114\n",
      "Iteration 37, loss = 0.50970199\n",
      "Iteration 38, loss = 0.50642861\n",
      "Iteration 39, loss = 0.50423554\n",
      "Iteration 40, loss = 0.50464883\n",
      "Iteration 41, loss = 0.50205712\n",
      "Iteration 42, loss = 0.49613268\n",
      "Iteration 43, loss = 0.49503552\n",
      "Iteration 44, loss = 0.49135146\n",
      "Iteration 45, loss = 0.48893312\n",
      "Iteration 46, loss = 0.49009140\n",
      "Iteration 47, loss = 0.48505638\n",
      "Iteration 48, loss = 0.48442337\n",
      "Iteration 49, loss = 0.48129573\n",
      "Iteration 50, loss = 0.47854330\n",
      "Iteration 51, loss = 0.47700046\n",
      "Iteration 52, loss = 0.47470378\n",
      "Iteration 53, loss = 0.47445919\n",
      "Iteration 54, loss = 0.47101769\n",
      "Iteration 55, loss = 0.47082066\n",
      "Iteration 56, loss = 0.46810299\n",
      "Iteration 57, loss = 0.46741742\n",
      "Iteration 58, loss = 0.46513958\n",
      "Iteration 59, loss = 0.46524443\n",
      "Iteration 60, loss = 0.46956071\n",
      "Iteration 61, loss = 0.46233900\n",
      "Iteration 62, loss = 0.46177153\n",
      "Iteration 63, loss = 0.46024180\n",
      "Iteration 64, loss = 0.45758728\n",
      "Iteration 65, loss = 0.45653436\n",
      "Iteration 66, loss = 0.45625845\n",
      "Iteration 67, loss = 0.45480906\n",
      "Iteration 68, loss = 0.45397717\n",
      "Iteration 69, loss = 0.45282192\n",
      "Iteration 70, loss = 0.45177102\n",
      "Iteration 71, loss = 0.45137822\n",
      "Iteration 72, loss = 0.45149454\n",
      "Iteration 73, loss = 0.44974342\n",
      "Iteration 74, loss = 0.44828292\n",
      "Iteration 75, loss = 0.44800293\n",
      "Iteration 76, loss = 0.44750349\n",
      "Iteration 77, loss = 0.44597059\n",
      "Iteration 78, loss = 0.44527762\n",
      "Iteration 79, loss = 0.44545799\n",
      "Iteration 80, loss = 0.44577205\n",
      "Iteration 81, loss = 0.44385153\n",
      "Iteration 82, loss = 0.44392363\n",
      "Iteration 83, loss = 0.44254132\n",
      "Iteration 84, loss = 0.44148449\n",
      "Iteration 85, loss = 0.44274145\n",
      "Iteration 86, loss = 0.43975444\n",
      "Iteration 87, loss = 0.44213939\n",
      "Iteration 88, loss = 0.44045330\n",
      "Iteration 89, loss = 0.43817410\n",
      "Iteration 90, loss = 0.43981873\n",
      "Iteration 91, loss = 0.43794926\n",
      "Iteration 92, loss = 0.43697040\n",
      "Iteration 93, loss = 0.43701106\n",
      "Iteration 94, loss = 0.43665198\n",
      "Iteration 95, loss = 0.43629418\n",
      "Iteration 96, loss = 0.43598013\n",
      "Iteration 97, loss = 0.43576169\n",
      "Iteration 98, loss = 0.43402473\n",
      "Iteration 99, loss = 0.43572847\n",
      "Iteration 100, loss = 0.43373620\n",
      "Iteration 101, loss = 0.43373268\n",
      "Iteration 102, loss = 0.43273965\n",
      "Iteration 103, loss = 0.43266527\n",
      "Iteration 104, loss = 0.43210774\n",
      "Iteration 105, loss = 0.43138127\n",
      "Iteration 106, loss = 0.43227012\n",
      "Iteration 107, loss = 0.43714291\n",
      "Iteration 108, loss = 0.43517674\n",
      "Iteration 109, loss = 0.43109636\n",
      "Iteration 110, loss = 0.43358423\n",
      "Iteration 111, loss = 0.43051282\n",
      "Iteration 112, loss = 0.43080133\n",
      "Iteration 113, loss = 0.43040904\n",
      "Iteration 114, loss = 0.43035136\n",
      "Iteration 115, loss = 0.42846989\n",
      "Iteration 116, loss = 0.43048190\n",
      "Iteration 117, loss = 0.43304814\n",
      "Iteration 118, loss = 0.42914224\n",
      "Iteration 119, loss = 0.42918596\n",
      "Iteration 120, loss = 0.42754548\n",
      "Iteration 121, loss = 0.42690192\n",
      "Iteration 122, loss = 0.42663776\n",
      "Iteration 123, loss = 0.42922769\n",
      "Iteration 124, loss = 0.42967786\n",
      "Iteration 125, loss = 0.42718134\n",
      "Iteration 126, loss = 0.42546431\n",
      "Iteration 127, loss = 0.42690351\n",
      "Iteration 128, loss = 0.42514249\n",
      "Iteration 129, loss = 0.42517057\n",
      "Iteration 130, loss = 0.42472762\n",
      "Iteration 131, loss = 0.42481959\n",
      "Iteration 132, loss = 0.42466273\n",
      "Iteration 133, loss = 0.42508662\n",
      "Iteration 134, loss = 0.42647224\n",
      "Iteration 135, loss = 0.42382355\n",
      "Iteration 136, loss = 0.42498930\n",
      "Iteration 137, loss = 0.42428945\n",
      "Iteration 138, loss = 0.42355743\n",
      "Iteration 139, loss = 0.42255879\n",
      "Iteration 140, loss = 0.42363334\n",
      "Iteration 141, loss = 0.42307304\n",
      "Iteration 142, loss = 0.42230850\n",
      "Iteration 143, loss = 0.42378968\n",
      "Iteration 144, loss = 0.42307820\n",
      "Iteration 145, loss = 0.42226977\n",
      "Iteration 146, loss = 0.42174602\n",
      "Iteration 147, loss = 0.42400481\n",
      "Iteration 148, loss = 0.42161268\n",
      "Iteration 149, loss = 0.42066198\n",
      "Iteration 150, loss = 0.42208937\n",
      "Iteration 151, loss = 0.42040984\n",
      "Iteration 152, loss = 0.42040112\n",
      "Iteration 153, loss = 0.42069710\n",
      "Iteration 154, loss = 0.42132533\n",
      "Iteration 155, loss = 0.41981009\n",
      "Iteration 156, loss = 0.42040383\n",
      "Iteration 157, loss = 0.42071803\n",
      "Iteration 158, loss = 0.42033072\n",
      "Iteration 159, loss = 0.41950371\n",
      "Iteration 160, loss = 0.41925250\n",
      "Iteration 161, loss = 0.41917574\n",
      "Iteration 162, loss = 0.41879010\n",
      "Iteration 163, loss = 0.41948533\n",
      "Iteration 164, loss = 0.41837341\n",
      "Iteration 165, loss = 0.42084080\n",
      "Iteration 166, loss = 0.42010926\n",
      "Iteration 167, loss = 0.41779419\n",
      "Iteration 168, loss = 0.42047018\n",
      "Iteration 169, loss = 0.41759674\n",
      "Iteration 170, loss = 0.41845048\n",
      "Iteration 171, loss = 0.41746823\n",
      "Iteration 172, loss = 0.41750497\n",
      "Iteration 173, loss = 0.41910778\n",
      "Iteration 174, loss = 0.42058149\n",
      "Iteration 175, loss = 0.41697873\n",
      "Iteration 176, loss = 0.41687007\n",
      "Iteration 177, loss = 0.41668859\n",
      "Iteration 178, loss = 0.41967706\n",
      "Iteration 179, loss = 0.41900646\n",
      "Iteration 180, loss = 0.41643803\n",
      "Iteration 181, loss = 0.41894938\n",
      "Iteration 182, loss = 0.41722033\n",
      "Iteration 183, loss = 0.41824325\n",
      "Iteration 184, loss = 0.41590182\n",
      "Iteration 185, loss = 0.42234575\n",
      "Iteration 186, loss = 0.42338942\n",
      "Iteration 187, loss = 0.42701206\n",
      "Iteration 188, loss = 0.42696351\n",
      "Iteration 189, loss = 0.41705807\n",
      "Iteration 190, loss = 0.42087539\n",
      "Iteration 191, loss = 0.41597282\n",
      "Iteration 192, loss = 0.41477544\n",
      "Iteration 193, loss = 0.41581401\n",
      "Iteration 194, loss = 0.41700117\n",
      "Iteration 195, loss = 0.41746708\n",
      "Iteration 196, loss = 0.41689897\n",
      "Iteration 197, loss = 0.41727612\n",
      "Iteration 198, loss = 0.41654488\n",
      "Iteration 199, loss = 0.41478624\n",
      "Iteration 200, loss = 0.41612796\n",
      "MLP model: MLPClassifier(activation='relu', alpha=0.1, batch_size='auto', beta_1=0.9,\n",
      "              beta_2=0.999, early_stopping=False, epsilon=1e-08,\n",
      "              hidden_layer_sizes=(100,), learning_rate='constant',\n",
      "              learning_rate_init=0.001, max_iter=200, momentum=0.9,\n",
      "              n_iter_no_change=10, nesterovs_momentum=True, power_t=0.5,\n",
      "              random_state=1, shuffle=True, solver='adam', tol=0.0001,\n",
      "              validation_fraction=0.1, verbose=True, warm_start=False)\n",
      "NN accuracy: 0.8316498316498316\n",
      "NN F1: 0.767080745341615\n",
      "NN CM:\n",
      " [[494  55]\n",
      " [ 95 247]]\n"
     ]
    },
    {
     "name": "stderr",
     "output_type": "stream",
     "text": [
      "C:\\Users\\DELL.DESKTOP-C18N4A6\\Anaconda3\\lib\\site-packages\\sklearn\\neural_network\\multilayer_perceptron.py:566: ConvergenceWarning: Stochastic Optimizer: Maximum iterations (200) reached and the optimization hasn't converged yet.\n",
      "  % self.max_iter, ConvergenceWarning)\n"
     ]
    }
   ],
   "source": [
    "from sklearn.neural_network import MLPClassifier\n",
    "mlp = MLPClassifier(solver='adam',                          #For neural network\n",
    "                    alpha=1e-1,                             #multy level pelsoptrom\n",
    "                    hidden_layer_sizes=(100,), \n",
    "                    random_state=1, \n",
    "                    verbose=True)\n",
    "mlp.fit(X_train, Y_train)        #to fit the train datas\n",
    "print(\"MLP model:\", mlp)\n",
    "Y_pred = mlp.predict(X_test)                  #to predict.\n",
    "print(\"NN accuracy:\", accuracy_score(Y_test, Y_pred))\n",
    "print(\"NN F1:\", f1_score(Y_test, Y_pred))\n",
    "print(\"NN CM:\\n\", confusion_matrix(Y_test, Y_pred))"
   ]
  },
  {
   "cell_type": "code",
   "execution_count": 55,
   "metadata": {},
   "outputs": [
    {
     "name": "stdout",
     "output_type": "stream",
     "text": [
      "\n",
      "LINEAR\n",
      "model: LinearRegression(copy_X=True, fit_intercept=True, n_jobs=None, normalize=True)\n",
      "coeffs: [-0.18537494 -0.51521773 -0.00568987 -0.04134509 -0.0131677 ]\n",
      "intercept: 1.334641783167407\n"
     ]
    }
   ],
   "source": [
    "from sklearn.linear_model import LinearRegression\n",
    "print(\"\\nLINEAR\")\n",
    "rgr = LinearRegression(normalize=True)\n",
    "rgr.fit(X_train, Y_train)\n",
    "print(\"model:\", rgr)\n",
    "print(\"coeffs:\", rgr.coef_)\n",
    "print(\"intercept:\", rgr.intercept_)\n",
    "Y_predictions = rgr.predict(X_test)\n",
    "Y_predictions = Y_predictions.round()"
   ]
  },
  {
   "cell_type": "raw",
   "metadata": {},
   "source": [
    "#class_sex_group = df.groupby(['Pclass', 'Sex']).mean()\n",
    "#class_sex_group"
   ]
  },
  {
   "cell_type": "code",
   "execution_count": 56,
   "metadata": {},
   "outputs": [],
   "source": [
    "#class_sex_group[\"Survived\"].plot.bar()\n",
    "#plt.show()"
   ]
  },
  {
   "cell_type": "code",
   "execution_count": 57,
   "metadata": {},
   "outputs": [
    {
     "name": "stdout",
     "output_type": "stream",
     "text": [
      "20\n"
     ]
    }
   ],
   "source": [
    "count = 0\n",
    "for k in df.Fare:\n",
    "    if k >=200:\n",
    "        count +=1\n",
    "print(count)\n"
   ]
  },
  {
   "cell_type": "code",
   "execution_count": 58,
   "metadata": {},
   "outputs": [
    {
     "data": {
      "image/png": "[encoded data removed]",
      "text/plain": [
       "<Figure size 432x288 with 1 Axes>"
      ]
     },
     "metadata": {
      "needs_background": "light"
     },
     "output_type": "display_data"
    },
    {
     "data": {
      "image/png": "[encoded data removed]",
      "text/plain": [
       "<Figure size 432x288 with 1 Axes>"
      ]
     },
     "metadata": {
      "needs_background": "light"
     },
     "output_type": "display_data"
    }
   ],
   "source": [
    "plt.hist(df.Fare.dropna(), bins=30, density=False)\n",
    "plt.title(\"Fare hist\")\n",
    "plt.show()\n",
    "\n",
    "plt.boxplot(df.Fare)\n",
    "plt.show()"
   ]
  },
  {
   "cell_type": "code",
   "execution_count": 59,
   "metadata": {},
   "outputs": [
    {
     "data": {
      "text/html": [
       "<div>\n",
       "<style scoped>\n",
       "    .dataframe tbody tr th:only-of-type {\n",
       "        vertical-align: middle;\n",
       "    }\n",
       "\n",
       "    .dataframe tbody tr th {\n",
       "        vertical-align: top;\n",
       "    }\n",
       "\n",
       "    .dataframe thead th {\n",
       "        text-align: right;\n",
       "    }\n",
       "</style>\n",
       "<table border=\"1\" class=\"dataframe\">\n",
       "  <thead>\n",
       "    <tr style=\"text-align: right;\">\n",
       "      <th></th>\n",
       "      <th>Survived</th>\n",
       "      <th>Pclass</th>\n",
       "      <th>Sex</th>\n",
       "      <th>Age</th>\n",
       "      <th>SibSp</th>\n",
       "      <th>Parch</th>\n",
       "      <th>Fare</th>\n",
       "    </tr>\n",
       "  </thead>\n",
       "  <tbody>\n",
       "    <tr>\n",
       "      <th>count</th>\n",
       "      <td>871.000000</td>\n",
       "      <td>871.000000</td>\n",
       "      <td>871.000000</td>\n",
       "      <td>871.000000</td>\n",
       "      <td>871.000000</td>\n",
       "      <td>871.000000</td>\n",
       "      <td>871.000000</td>\n",
       "    </tr>\n",
       "    <tr>\n",
       "      <th>mean</th>\n",
       "      <td>0.376579</td>\n",
       "      <td>2.338691</td>\n",
       "      <td>0.653272</td>\n",
       "      <td>28.523731</td>\n",
       "      <td>0.517796</td>\n",
       "      <td>0.366246</td>\n",
       "      <td>26.530170</td>\n",
       "    </tr>\n",
       "    <tr>\n",
       "      <th>std</th>\n",
       "      <td>0.484806</td>\n",
       "      <td>0.821469</td>\n",
       "      <td>0.476202</td>\n",
       "      <td>13.220415</td>\n",
       "      <td>1.101448</td>\n",
       "      <td>0.792325</td>\n",
       "      <td>29.351184</td>\n",
       "    </tr>\n",
       "    <tr>\n",
       "      <th>min</th>\n",
       "      <td>0.000000</td>\n",
       "      <td>1.000000</td>\n",
       "      <td>0.000000</td>\n",
       "      <td>0.420000</td>\n",
       "      <td>0.000000</td>\n",
       "      <td>0.000000</td>\n",
       "      <td>0.000000</td>\n",
       "    </tr>\n",
       "    <tr>\n",
       "      <th>25%</th>\n",
       "      <td>0.000000</td>\n",
       "      <td>2.000000</td>\n",
       "      <td>0.000000</td>\n",
       "      <td>22.000000</td>\n",
       "      <td>0.000000</td>\n",
       "      <td>0.000000</td>\n",
       "      <td>7.895800</td>\n",
       "    </tr>\n",
       "    <tr>\n",
       "      <th>50%</th>\n",
       "      <td>0.000000</td>\n",
       "      <td>3.000000</td>\n",
       "      <td>1.000000</td>\n",
       "      <td>24.000000</td>\n",
       "      <td>0.000000</td>\n",
       "      <td>0.000000</td>\n",
       "      <td>13.862500</td>\n",
       "    </tr>\n",
       "    <tr>\n",
       "      <th>75%</th>\n",
       "      <td>1.000000</td>\n",
       "      <td>3.000000</td>\n",
       "      <td>1.000000</td>\n",
       "      <td>35.000000</td>\n",
       "      <td>1.000000</td>\n",
       "      <td>0.000000</td>\n",
       "      <td>30.000000</td>\n",
       "    </tr>\n",
       "    <tr>\n",
       "      <th>max</th>\n",
       "      <td>1.000000</td>\n",
       "      <td>3.000000</td>\n",
       "      <td>1.000000</td>\n",
       "      <td>80.000000</td>\n",
       "      <td>8.000000</td>\n",
       "      <td>6.000000</td>\n",
       "      <td>164.866700</td>\n",
       "    </tr>\n",
       "  </tbody>\n",
       "</table>\n",
       "</div>"
      ],
      "text/plain": [
       "         Survived      Pclass         Sex         Age       SibSp       Parch  \\\n",
       "count  871.000000  871.000000  871.000000  871.000000  871.000000  871.000000   \n",
       "mean     0.376579    2.338691    0.653272   28.523731    0.517796    0.366246   \n",
       "std      0.484806    0.821469    0.476202   13.220415    1.101448    0.792325   \n",
       "min      0.000000    1.000000    0.000000    0.420000    0.000000    0.000000   \n",
       "25%      0.000000    2.000000    0.000000   22.000000    0.000000    0.000000   \n",
       "50%      0.000000    3.000000    1.000000   24.000000    0.000000    0.000000   \n",
       "75%      1.000000    3.000000    1.000000   35.000000    1.000000    0.000000   \n",
       "max      1.000000    3.000000    1.000000   80.000000    8.000000    6.000000   \n",
       "\n",
       "             Fare  \n",
       "count  871.000000  \n",
       "mean    26.530170  \n",
       "std     29.351184  \n",
       "min      0.000000  \n",
       "25%      7.895800  \n",
       "50%     13.862500  \n",
       "75%     30.000000  \n",
       "max    164.866700  "
      ]
     },
     "execution_count": 59,
     "metadata": {},
     "output_type": "execute_result"
    }
   ],
   "source": [
    "df_200 = df[df['Fare'] <= 200]\n",
    "df_200.describe()"
   ]
  },
  {
   "cell_type": "code",
   "execution_count": 60,
   "metadata": {},
   "outputs": [
    {
     "data": {
      "image/png": "[encoded data removed]",
      "text/plain": [
       "<Figure size 432x288 with 1 Axes>"
      ]
     },
     "metadata": {
      "needs_background": "light"
     },
     "output_type": "display_data"
    },
    {
     "data": {
      "image/png": "[encoded data removed]",
      "text/plain": [
       "<Figure size 432x288 with 1 Axes>"
      ]
     },
     "metadata": {
      "needs_background": "light"
     },
     "output_type": "display_data"
    }
   ],
   "source": [
    "plt.hist(df_200.Fare.dropna(), bins=20, density=True)\n",
    "plt.title(\"Fare hist\")\n",
    "plt.show()\n",
    "\n",
    "plt.boxplot(df_200.Fare)\n",
    "plt.show()"
   ]
  },
  {
   "cell_type": "code",
   "execution_count": 61,
   "metadata": {},
   "outputs": [],
   "source": [
    "#df.groupby('SibSp').mean()"
   ]
  },
  {
   "cell_type": "code",
   "execution_count": 62,
   "metadata": {},
   "outputs": [
    {
     "data": {
      "image/png": "[encoded data removed]",
      "text/plain": [
       "<Figure size 432x288 with 1 Axes>"
      ]
     },
     "metadata": {
      "needs_background": "light"
     },
     "output_type": "display_data"
    },
    {
     "data": {
      "image/png": "[encoded data removed]",
      "text/plain": [
       "<Figure size 432x288 with 1 Axes>"
      ]
     },
     "metadata": {
      "needs_background": "light"
     },
     "output_type": "display_data"
    }
   ],
   "source": [
    "plt.hist(df.Age.dropna(), bins=16, density=False)\n",
    "plt.title(\"Age hist\")\n",
    "plt.show()\n",
    "\n",
    "plt.boxplot(df.Age.dropna())\n",
    "plt.show()"
   ]
  },
  {
   "cell_type": "code",
   "execution_count": 63,
   "metadata": {},
   "outputs": [
    {
     "data": {
      "image/png": "[encoded data removed]",
      "text/plain": [
       "<Figure size 432x288 with 1 Axes>"
      ]
     },
     "metadata": {
      "needs_background": "light"
     },
     "output_type": "display_data"
    }
   ],
   "source": [
    "boxplot = df.boxplot(column = 'Fare', by='Pclass')\n",
    "plt.show()"
   ]
  },
  {
   "cell_type": "code",
   "execution_count": 64,
   "metadata": {},
   "outputs": [
    {
     "data": {
      "image/png": "[encoded data removed]",
      "text/plain": [
       "<Figure size 432x288 with 1 Axes>"
      ]
     },
     "metadata": {
      "needs_background": "light"
     },
     "output_type": "display_data"
    }
   ],
   "source": [
    "boxplot = df.boxplot(column = 'Age', by='Pclass')\n",
    "plt.show()"
   ]
  },
  {
   "cell_type": "code",
   "execution_count": 65,
   "metadata": {},
   "outputs": [
    {
     "name": "stderr",
     "output_type": "stream",
     "text": [
      "No handles with labels found to put in legend.\n"
     ]
    },
    {
     "data": {
      "image/png": "[encoded data removed]",
      "text/plain": [
       "<Figure size 432x288 with 1 Axes>"
      ]
     },
     "metadata": {
      "needs_background": "light"
     },
     "output_type": "display_data"
    }
   ],
   "source": [
    "df.dropna()\n",
    "plt.scatter(x=df.Age, y=df.Fare, c=df.Pclass, cmap='Set1', alpha=0.5)\n",
    "plt.legend(loc='upper right')\n",
    "plt.show()"
   ]
  },
  {
   "cell_type": "code",
   "execution_count": 66,
   "metadata": {},
   "outputs": [
    {
     "name": "stderr",
     "output_type": "stream",
     "text": [
      "No handles with labels found to put in legend.\n"
     ]
    },
    {
     "data": {
      "image/png": "[encoded data removed]",
      "text/plain": [
       "<Figure size 432x288 with 1 Axes>"
      ]
     },
     "metadata": {
      "needs_background": "light"
     },
     "output_type": "display_data"
    }
   ],
   "source": [
    "df.dropna()\n",
    "plt.scatter(x=df.Fare, y=df.Survived, c=df.Pclass, cmap='Set1', alpha=0.5)\n",
    "plt.legend(loc='lower right')\n",
    "plt.show()"
   ]
  }
 ],
 "metadata": {
  "kernelspec": {
   "display_name": "Python 3",
   "language": "python",
   "name": "python3"
  },
  "language_info": {
   "codemirror_mode": {
    "name": "ipython",
    "version": 3
   },
   "file_extension": ".py",
   "mimetype": "text/x-python",
   "name": "python",
   "nbconvert_exporter": "python",
   "pygments_lexer": "ipython3",
   "version": "3.7.1"
  }
 },
 "nbformat": 4,
 "nbformat_minor": 2
}
