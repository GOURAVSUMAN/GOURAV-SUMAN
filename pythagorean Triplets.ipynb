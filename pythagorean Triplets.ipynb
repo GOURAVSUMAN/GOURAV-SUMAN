{
 "cells": [
  {
   "cell_type": "code",
   "execution_count": null,
   "metadata": {},
   "outputs": [],
   "source": [
    "for i in range(1,1000):\n",
    "    \n",
    "    \n",
    "    if (((2*i)**2) + ((i*i-1)**2) == ((i*i + 1)**2)) and ((2*i)< 1000 and (i*i-1)< 1000 and (i*i + 1)< 1000) and (2*i) != 0 and (i*i-1) != 0 and (i*i + 1) != 0: \n",
    "       \n",
    "        \n",
    "        print((2*i),(i*i-1),(i*i + 1))\n",
    "        "
   ]
  }
 ],
 "metadata": {
  "kernelspec": {
   "display_name": "Python 3",
   "language": "python",
   "name": "python3"
  },
  "language_info": {
   "codemirror_mode": {
    "name": "ipython",
    "version": 3
   },
   "file_extension": ".py",
   "mimetype": "text/x-python",
   "name": "python",
   "nbconvert_exporter": "python",
   "pygments_lexer": "ipython3",
   "version": "3.7.1"
  }
 },
 "nbformat": 4,
 "nbformat_minor": 2
}
